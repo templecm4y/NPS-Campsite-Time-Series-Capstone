{
 "cells": [
  {
   "cell_type": "code",
   "execution_count": 1,
   "metadata": {
    "scrolled": true
   },
   "outputs": [],
   "source": [
    "import chardet\n",
    "import numpy as np\n",
    "import pandas as pd\n",
    "import datetime\n",
    "import codecs\n",
    "\n",
    "import os\n",
    "import glob\n",
    "\n",
    "import progressbar\n",
    "from time import sleep\n",
    "\n",
    "import matplotlib.pyplot as plt\n",
    "import seaborn as sns"
   ]
  },
  {
   "cell_type": "markdown",
   "metadata": {},
   "source": [
    "## Load and Format the Data\n",
    "---"
   ]
  },
  {
   "cell_type": "code",
   "execution_count": 58,
   "metadata": {},
   "outputs": [],
   "source": [
    "# specify filename to load for processing and aggregation\n",
    "filename = './data/Raw-Data/reservations2016.csv'"
   ]
  },
  {
   "cell_type": "code",
   "execution_count": 59,
   "metadata": {},
   "outputs": [],
   "source": [
    "def mem_usage(pandas_obj):\n",
    "    if isinstance(pandas_obj,pd.DataFrame):\n",
    "        usage_b = pandas_obj.memory_usage(deep=True).sum()\n",
    "    else: # we assume if not a df it's a series\n",
    "        usage_b = pandas_obj.memory_usage(deep=True)\n",
    "    usage_mb = usage_b / 1024 ** 2 # convert bytes to megabytes\n",
    "    return \"{:03.2f} MB\".format(usage_mb)"
   ]
  },
  {
   "cell_type": "code",
   "execution_count": 60,
   "metadata": {
    "scrolled": true
   },
   "outputs": [],
   "source": [
    "# attempt to load the data using various codecs\n",
    "types_of_encoding = [\"utf8\", \"cp1252\"]\n",
    "for encoding_type in types_of_encoding:\n",
    "    with codecs.open(filename, encoding = encoding_type, errors ='replace') as csvfile:\n",
    "        rez = pd.read_csv(csvfile)"
   ]
  },
  {
   "cell_type": "code",
   "execution_count": 61,
   "metadata": {},
   "outputs": [],
   "source": [
    "# function to format the imported data, drop all categories of reservations except campsites\n",
    "def nps_site_format(df):\n",
    "    # get only reservations from the National Park Service, OrdID of 128\n",
    "    df = df[df['OrgID'] == 128]\n",
    "    \n",
    "    # get only site type entities\n",
    "    df = df[df['EntityType'] == 'Site']\n",
    "    \n",
    "    # convert date columns to datetime, y-m-d\n",
    "    df['EndDate'] = pd.to_datetime(df['EndDate'], format= '%Y-%m-%d')\n",
    "    df['StartDate'] = pd.to_datetime(df['StartDate'], format= '%Y-%m-%d')\n",
    "    df['OrderDate'] = pd.to_datetime(df['OrderDate'], format= '%Y-%m-%d')\n",
    "    \n",
    "    # calculate the stay length of the reservation\n",
    "    df['StayLen'] = df['EndDate'] - df['StartDate']\n",
    "    df['StayLen'] = df['StayLen'].dt.days + 1\n",
    "    \n",
    "    # calculate the days in advance the resveration was made\n",
    "    # note: some reservations were recorded after the start date, those values are imputed as zero\n",
    "    df['BookingHorizon'] = df['StartDate'] - df['OrderDate']\n",
    "    df['BookingHorizon'] = df['BookingHorizon'].dt.days.clip(lower=0)\n",
    "    \n",
    "    # calculate the daily rate for each reservation\n",
    "    df['DailyRate'] = df['TotalBeforeTax'] / df['StayLen']\n",
    "    \n",
    "    # fill nulls in fee columns with zeroes\n",
    "    df[['UseFee', 'TranFee', 'AttrFee']] = df[['UseFee', 'TranFee', 'AttrFee']].fillna(0)\n",
    "    \n",
    "    # drop facility attribute columns\n",
    "    df = df.drop(axis = 1, columns = ['FacilityState', 'FacilityLongitude', 'FacilityLatitude', 'UseType',\n",
    "                                      'CustomerZIP', 'CustomerState', 'CustomerCountry', 'FacilityZIP', 'EntityID'])\n",
    "    \n",
    "    # drop categorical columns\n",
    "    df = df.drop(axis = 1, columns = ['Tent', 'Popup', 'Trailer', \n",
    "                              'RVMotorhome', 'Boat', 'HorseTrailer', 'Car', 'FifthWheel', \n",
    "                              'Van', 'CanoeKayak', 'BoatTrailer', 'Motorcycle', 'Truck', \n",
    "                              'Bus', 'Bicycle', 'Snowmobile', 'OffRoadlAllTerrainVehicle', \n",
    "                              'PowerBoat', 'PickupCamper', 'LargeTentOver9x12', 'SmallTent', 'Marinaboat'])\n",
    "    \n",
    "    # drop nulls in important columns\n",
    "    df = df.dropna(axis = 0, subset = ['FacilityID', 'StartDate', 'EndDate'])\n",
    "    \n",
    "    # drop duplicate order numbers\n",
    "    df = df.drop_duplicates(['OrderNumber'])\n",
    "    \n",
    "    return df"
   ]
  },
  {
   "cell_type": "code",
   "execution_count": 62,
   "metadata": {
    "scrolled": false
   },
   "outputs": [],
   "source": [
    "# format imported data\n",
    "rez = nps_site_format(rez)"
   ]
  },
  {
   "cell_type": "code",
   "execution_count": 63,
   "metadata": {
    "scrolled": true
   },
   "outputs": [
    {
     "data": {
      "text/html": [
       "<div>\n",
       "<style scoped>\n",
       "    .dataframe tbody tr th:only-of-type {\n",
       "        vertical-align: middle;\n",
       "    }\n",
       "\n",
       "    .dataframe tbody tr th {\n",
       "        vertical-align: top;\n",
       "    }\n",
       "\n",
       "    .dataframe thead th {\n",
       "        text-align: right;\n",
       "    }\n",
       "</style>\n",
       "<table border=\"1\" class=\"dataframe\">\n",
       "  <thead>\n",
       "    <tr style=\"text-align: right;\">\n",
       "      <th></th>\n",
       "      <th>HistoricalReservationID</th>\n",
       "      <th>OrgID</th>\n",
       "      <th>ParentLocationID</th>\n",
       "      <th>LegacyFacilityID</th>\n",
       "      <th>ProductID</th>\n",
       "      <th>FacilityID</th>\n",
       "      <th>Tax</th>\n",
       "      <th>UseFee</th>\n",
       "      <th>TranFee</th>\n",
       "      <th>AttrFee</th>\n",
       "      <th>TotalBeforeTax</th>\n",
       "      <th>TotalPaid</th>\n",
       "      <th>NumberOfPeople</th>\n",
       "      <th>StayLen</th>\n",
       "      <th>BookingHorizon</th>\n",
       "      <th>DailyRate</th>\n",
       "    </tr>\n",
       "  </thead>\n",
       "  <tbody>\n",
       "    <tr>\n",
       "      <th>count</th>\n",
       "      <td>5.636520e+05</td>\n",
       "      <td>563652.0</td>\n",
       "      <td>563652.000000</td>\n",
       "      <td>563652.000000</td>\n",
       "      <td>563652.000000</td>\n",
       "      <td>563652.000000</td>\n",
       "      <td>563652.000000</td>\n",
       "      <td>563652.000000</td>\n",
       "      <td>563652.000000</td>\n",
       "      <td>563652.000000</td>\n",
       "      <td>563652.000000</td>\n",
       "      <td>563652.000000</td>\n",
       "      <td>563652.000000</td>\n",
       "      <td>563652.000000</td>\n",
       "      <td>563652.000000</td>\n",
       "      <td>563652.000000</td>\n",
       "    </tr>\n",
       "    <tr>\n",
       "      <th>mean</th>\n",
       "      <td>2.259945e+09</td>\n",
       "      <td>128.0</td>\n",
       "      <td>74316.074422</td>\n",
       "      <td>75137.555577</td>\n",
       "      <td>244222.351250</td>\n",
       "      <td>234226.592271</td>\n",
       "      <td>0.050863</td>\n",
       "      <td>40.355499</td>\n",
       "      <td>1.933514</td>\n",
       "      <td>0.269913</td>\n",
       "      <td>43.216837</td>\n",
       "      <td>43.269493</td>\n",
       "      <td>4.347383</td>\n",
       "      <td>3.239749</td>\n",
       "      <td>69.645636</td>\n",
       "      <td>13.154881</td>\n",
       "    </tr>\n",
       "    <tr>\n",
       "      <th>std</th>\n",
       "      <td>1.013404e+08</td>\n",
       "      <td>0.0</td>\n",
       "      <td>21.304032</td>\n",
       "      <td>11797.613295</td>\n",
       "      <td>68644.092446</td>\n",
       "      <td>4793.422482</td>\n",
       "      <td>0.790875</td>\n",
       "      <td>49.669378</td>\n",
       "      <td>4.501525</td>\n",
       "      <td>3.509444</td>\n",
       "      <td>48.745901</td>\n",
       "      <td>48.837979</td>\n",
       "      <td>8.435554</td>\n",
       "      <td>1.690116</td>\n",
       "      <td>67.763487</td>\n",
       "      <td>14.807397</td>\n",
       "    </tr>\n",
       "    <tr>\n",
       "      <th>min</th>\n",
       "      <td>2.078084e+09</td>\n",
       "      <td>128.0</td>\n",
       "      <td>74265.000000</td>\n",
       "      <td>70851.000000</td>\n",
       "      <td>139983.000000</td>\n",
       "      <td>232432.000000</td>\n",
       "      <td>0.000000</td>\n",
       "      <td>0.000000</td>\n",
       "      <td>0.000000</td>\n",
       "      <td>0.000000</td>\n",
       "      <td>0.000000</td>\n",
       "      <td>0.000000</td>\n",
       "      <td>0.000000</td>\n",
       "      <td>1.000000</td>\n",
       "      <td>0.000000</td>\n",
       "      <td>0.000000</td>\n",
       "    </tr>\n",
       "    <tr>\n",
       "      <th>25%</th>\n",
       "      <td>2.174039e+09</td>\n",
       "      <td>128.0</td>\n",
       "      <td>74324.000000</td>\n",
       "      <td>70939.000000</td>\n",
       "      <td>203108.000000</td>\n",
       "      <td>232459.000000</td>\n",
       "      <td>0.000000</td>\n",
       "      <td>18.000000</td>\n",
       "      <td>0.000000</td>\n",
       "      <td>0.000000</td>\n",
       "      <td>18.000000</td>\n",
       "      <td>18.000000</td>\n",
       "      <td>2.000000</td>\n",
       "      <td>2.000000</td>\n",
       "      <td>9.000000</td>\n",
       "      <td>8.000000</td>\n",
       "    </tr>\n",
       "    <tr>\n",
       "      <th>50%</th>\n",
       "      <td>2.257959e+09</td>\n",
       "      <td>128.0</td>\n",
       "      <td>74325.000000</td>\n",
       "      <td>70971.000000</td>\n",
       "      <td>205623.000000</td>\n",
       "      <td>232490.000000</td>\n",
       "      <td>0.000000</td>\n",
       "      <td>27.000000</td>\n",
       "      <td>0.000000</td>\n",
       "      <td>0.000000</td>\n",
       "      <td>30.000000</td>\n",
       "      <td>30.000000</td>\n",
       "      <td>3.000000</td>\n",
       "      <td>3.000000</td>\n",
       "      <td>46.000000</td>\n",
       "      <td>12.000000</td>\n",
       "    </tr>\n",
       "    <tr>\n",
       "      <th>75%</th>\n",
       "      <td>2.344666e+09</td>\n",
       "      <td>128.0</td>\n",
       "      <td>74327.000000</td>\n",
       "      <td>72393.000000</td>\n",
       "      <td>295132.000000</td>\n",
       "      <td>233379.000000</td>\n",
       "      <td>0.000000</td>\n",
       "      <td>52.000000</td>\n",
       "      <td>0.000000</td>\n",
       "      <td>0.000000</td>\n",
       "      <td>52.000000</td>\n",
       "      <td>52.000000</td>\n",
       "      <td>5.000000</td>\n",
       "      <td>4.000000</td>\n",
       "      <td>128.000000</td>\n",
       "      <td>16.000000</td>\n",
       "    </tr>\n",
       "    <tr>\n",
       "      <th>max</th>\n",
       "      <td>2.434325e+09</td>\n",
       "      <td>128.0</td>\n",
       "      <td>74330.000000</td>\n",
       "      <td>147290.000000</td>\n",
       "      <td>443021.000000</td>\n",
       "      <td>253502.000000</td>\n",
       "      <td>62.400000</td>\n",
       "      <td>2940.000000</td>\n",
       "      <td>410.000000</td>\n",
       "      <td>196.000000</td>\n",
       "      <td>2940.000000</td>\n",
       "      <td>2940.000000</td>\n",
       "      <td>600.000000</td>\n",
       "      <td>31.000000</td>\n",
       "      <td>852.000000</td>\n",
       "      <td>800.000000</td>\n",
       "    </tr>\n",
       "  </tbody>\n",
       "</table>\n",
       "</div>"
      ],
      "text/plain": [
       "       HistoricalReservationID     OrgID  ParentLocationID  LegacyFacilityID  \\\n",
       "count             5.636520e+05  563652.0     563652.000000     563652.000000   \n",
       "mean              2.259945e+09     128.0      74316.074422      75137.555577   \n",
       "std               1.013404e+08       0.0         21.304032      11797.613295   \n",
       "min               2.078084e+09     128.0      74265.000000      70851.000000   \n",
       "25%               2.174039e+09     128.0      74324.000000      70939.000000   \n",
       "50%               2.257959e+09     128.0      74325.000000      70971.000000   \n",
       "75%               2.344666e+09     128.0      74327.000000      72393.000000   \n",
       "max               2.434325e+09     128.0      74330.000000     147290.000000   \n",
       "\n",
       "           ProductID     FacilityID            Tax         UseFee  \\\n",
       "count  563652.000000  563652.000000  563652.000000  563652.000000   \n",
       "mean   244222.351250  234226.592271       0.050863      40.355499   \n",
       "std     68644.092446    4793.422482       0.790875      49.669378   \n",
       "min    139983.000000  232432.000000       0.000000       0.000000   \n",
       "25%    203108.000000  232459.000000       0.000000      18.000000   \n",
       "50%    205623.000000  232490.000000       0.000000      27.000000   \n",
       "75%    295132.000000  233379.000000       0.000000      52.000000   \n",
       "max    443021.000000  253502.000000      62.400000    2940.000000   \n",
       "\n",
       "             TranFee        AttrFee  TotalBeforeTax      TotalPaid  \\\n",
       "count  563652.000000  563652.000000   563652.000000  563652.000000   \n",
       "mean        1.933514       0.269913       43.216837      43.269493   \n",
       "std         4.501525       3.509444       48.745901      48.837979   \n",
       "min         0.000000       0.000000        0.000000       0.000000   \n",
       "25%         0.000000       0.000000       18.000000      18.000000   \n",
       "50%         0.000000       0.000000       30.000000      30.000000   \n",
       "75%         0.000000       0.000000       52.000000      52.000000   \n",
       "max       410.000000     196.000000     2940.000000    2940.000000   \n",
       "\n",
       "       NumberOfPeople        StayLen  BookingHorizon      DailyRate  \n",
       "count   563652.000000  563652.000000   563652.000000  563652.000000  \n",
       "mean         4.347383       3.239749       69.645636      13.154881  \n",
       "std          8.435554       1.690116       67.763487      14.807397  \n",
       "min          0.000000       1.000000        0.000000       0.000000  \n",
       "25%          2.000000       2.000000        9.000000       8.000000  \n",
       "50%          3.000000       3.000000       46.000000      12.000000  \n",
       "75%          5.000000       4.000000      128.000000      16.000000  \n",
       "max        600.000000      31.000000      852.000000     800.000000  "
      ]
     },
     "execution_count": 63,
     "metadata": {},
     "output_type": "execute_result"
    }
   ],
   "source": [
    "rez.describe()"
   ]
  },
  {
   "cell_type": "code",
   "execution_count": 64,
   "metadata": {
    "scrolled": true
   },
   "outputs": [
    {
     "data": {
      "text/plain": [
       "HistoricalReservationID    0\n",
       "OrderNumber                0\n",
       "Agency                     0\n",
       "OrgID                      0\n",
       "CodeHierarchy              0\n",
       "RegionCode                 0\n",
       "RegionDescription          0\n",
       "ParentLocationID           0\n",
       "ParentLocation             0\n",
       "LegacyFacilityID           0\n",
       "Park                       0\n",
       "SiteType                   0\n",
       "ProductID                  0\n",
       "EntityType                 0\n",
       "FacilityID                 0\n",
       "Tax                        0\n",
       "UseFee                     0\n",
       "TranFee                    0\n",
       "AttrFee                    0\n",
       "TotalBeforeTax             0\n",
       "TotalPaid                  0\n",
       "StartDate                  0\n",
       "EndDate                    0\n",
       "OrderDate                  0\n",
       "NumberOfPeople             0\n",
       "StayLen                    0\n",
       "BookingHorizon             0\n",
       "DailyRate                  0\n",
       "dtype: int64"
      ]
     },
     "execution_count": 64,
     "metadata": {},
     "output_type": "execute_result"
    }
   ],
   "source": [
    "rez.isnull().sum()"
   ]
  },
  {
   "cell_type": "code",
   "execution_count": 65,
   "metadata": {
    "scrolled": true
   },
   "outputs": [
    {
     "data": {
      "text/plain": [
       "HistoricalReservationID             int64\n",
       "OrderNumber                        object\n",
       "Agency                             object\n",
       "OrgID                               int64\n",
       "CodeHierarchy                      object\n",
       "RegionCode                         object\n",
       "RegionDescription                  object\n",
       "ParentLocationID                    int64\n",
       "ParentLocation                     object\n",
       "LegacyFacilityID                    int64\n",
       "Park                               object\n",
       "SiteType                           object\n",
       "ProductID                           int64\n",
       "EntityType                         object\n",
       "FacilityID                        float64\n",
       "Tax                               float64\n",
       "UseFee                            float64\n",
       "TranFee                           float64\n",
       "AttrFee                           float64\n",
       "TotalBeforeTax                    float64\n",
       "TotalPaid                         float64\n",
       "StartDate                  datetime64[ns]\n",
       "EndDate                    datetime64[ns]\n",
       "OrderDate                  datetime64[ns]\n",
       "NumberOfPeople                      int64\n",
       "StayLen                           float64\n",
       "BookingHorizon                    float64\n",
       "DailyRate                         float64\n",
       "dtype: object"
      ]
     },
     "execution_count": 65,
     "metadata": {},
     "output_type": "execute_result"
    }
   ],
   "source": [
    "rez.dtypes"
   ]
  },
  {
   "cell_type": "code",
   "execution_count": 66,
   "metadata": {},
   "outputs": [
    {
     "name": "stdout",
     "output_type": "stream",
     "text": [
      "Average memory usage for float columns: 4.30 MB\n",
      "Average memory usage for int columns: 4.30 MB\n",
      "Average memory usage for object columns: 35.40 MB\n"
     ]
    }
   ],
   "source": [
    "for dtype in ['float','int','object']:\n",
    "    selected_dtype = rez.select_dtypes(include=[dtype])\n",
    "    mean_usage_b = selected_dtype.memory_usage(deep=True).mean()\n",
    "    mean_usage_mb = mean_usage_b / 1024 ** 2\n",
    "    print(\"Average memory usage for {} columns: {:03.2f} MB\".format(dtype,mean_usage_mb))"
   ]
  },
  {
   "cell_type": "code",
   "execution_count": 67,
   "metadata": {
    "scrolled": true
   },
   "outputs": [
    {
     "name": "stdout",
     "output_type": "stream",
     "text": [
      "4.30 MB\n",
      "4.30 MB\n"
     ]
    },
    {
     "data": {
      "text/html": [
       "<div>\n",
       "<style scoped>\n",
       "    .dataframe tbody tr th:only-of-type {\n",
       "        vertical-align: middle;\n",
       "    }\n",
       "\n",
       "    .dataframe tbody tr th {\n",
       "        vertical-align: top;\n",
       "    }\n",
       "\n",
       "    .dataframe thead th {\n",
       "        text-align: right;\n",
       "    }\n",
       "</style>\n",
       "<table border=\"1\" class=\"dataframe\">\n",
       "  <thead>\n",
       "    <tr style=\"text-align: right;\">\n",
       "      <th></th>\n",
       "      <th>before</th>\n",
       "      <th>after</th>\n",
       "    </tr>\n",
       "  </thead>\n",
       "  <tbody>\n",
       "  </tbody>\n",
       "</table>\n",
       "</div>"
      ],
      "text/plain": [
       "Empty DataFrame\n",
       "Columns: [before, after]\n",
       "Index: []"
      ]
     },
     "execution_count": 67,
     "metadata": {},
     "output_type": "execute_result"
    }
   ],
   "source": [
    "rez_int = rez.select_dtypes(include=['int'])\n",
    "converted_int = rez_int.apply(pd.to_numeric,downcast='unsigned')\n",
    "print(mem_usage(rez_int))\n",
    "print(mem_usage(converted_int))\n",
    "compare_ints = pd.concat([rez_int.dtypes, converted_int.dtypes],axis=1)\n",
    "compare_ints.columns = ['before','after']\n",
    "compare_ints.apply(pd.Series.value_counts)"
   ]
  },
  {
   "cell_type": "code",
   "execution_count": 68,
   "metadata": {},
   "outputs": [
    {
     "name": "stdout",
     "output_type": "stream",
     "text": [
      "47.30 MB\n",
      "25.80 MB\n"
     ]
    },
    {
     "data": {
      "text/html": [
       "<div>\n",
       "<style scoped>\n",
       "    .dataframe tbody tr th:only-of-type {\n",
       "        vertical-align: middle;\n",
       "    }\n",
       "\n",
       "    .dataframe tbody tr th {\n",
       "        vertical-align: top;\n",
       "    }\n",
       "\n",
       "    .dataframe thead th {\n",
       "        text-align: right;\n",
       "    }\n",
       "</style>\n",
       "<table border=\"1\" class=\"dataframe\">\n",
       "  <thead>\n",
       "    <tr style=\"text-align: right;\">\n",
       "      <th></th>\n",
       "      <th>before</th>\n",
       "      <th>after</th>\n",
       "    </tr>\n",
       "  </thead>\n",
       "  <tbody>\n",
       "    <tr>\n",
       "      <th>float32</th>\n",
       "      <td>NaN</td>\n",
       "      <td>10.0</td>\n",
       "    </tr>\n",
       "    <tr>\n",
       "      <th>float64</th>\n",
       "      <td>10.0</td>\n",
       "      <td>NaN</td>\n",
       "    </tr>\n",
       "  </tbody>\n",
       "</table>\n",
       "</div>"
      ],
      "text/plain": [
       "         before  after\n",
       "float32     NaN   10.0\n",
       "float64    10.0    NaN"
      ]
     },
     "execution_count": 68,
     "metadata": {},
     "output_type": "execute_result"
    }
   ],
   "source": [
    "rez_float = rez.select_dtypes(include=['float'])\n",
    "converted_float = rez_float.apply(pd.to_numeric,downcast='float')\n",
    "print(mem_usage(rez_float))\n",
    "print(mem_usage(converted_float))\n",
    "compare_floats = pd.concat([rez_float.dtypes,converted_float.dtypes],axis=1)\n",
    "compare_floats.columns = ['before','after']\n",
    "compare_floats.apply(pd.Series.value_counts)"
   ]
  },
  {
   "cell_type": "code",
   "execution_count": 69,
   "metadata": {},
   "outputs": [
    {
     "name": "stdout",
     "output_type": "stream",
     "text": [
      "435.67 MB\n",
      "414.17 MB\n"
     ]
    }
   ],
   "source": [
    "optimized_rez = rez.copy()\n",
    "optimized_rez[converted_int.columns] = converted_int\n",
    "optimized_rez[converted_float.columns] = converted_float\n",
    "print(mem_usage(rez))\n",
    "print(mem_usage(optimized_rez))"
   ]
  },
  {
   "cell_type": "code",
   "execution_count": 83,
   "metadata": {},
   "outputs": [],
   "source": [
    "rez.to_csv(\"./Data/Cleaned-Data/nps_res_2016.csv\", index = False)\n",
    "optimized_rez.to_csv(\"./Data/Cleaned-Data/nps_optimized_2016.csv\", index = False)"
   ]
  },
  {
   "cell_type": "code",
   "execution_count": 70,
   "metadata": {
    "scrolled": false
   },
   "outputs": [
    {
     "data": {
      "text/plain": [
       "HistoricalReservationID             int64\n",
       "OrderNumber                        object\n",
       "Agency                             object\n",
       "OrgID                               int64\n",
       "CodeHierarchy                      object\n",
       "RegionCode                         object\n",
       "RegionDescription                  object\n",
       "ParentLocationID                    int64\n",
       "ParentLocation                     object\n",
       "LegacyFacilityID                    int64\n",
       "Park                               object\n",
       "SiteType                           object\n",
       "ProductID                           int64\n",
       "EntityType                         object\n",
       "FacilityID                        float32\n",
       "Tax                               float32\n",
       "UseFee                            float32\n",
       "TranFee                           float32\n",
       "AttrFee                           float32\n",
       "TotalBeforeTax                    float32\n",
       "TotalPaid                         float32\n",
       "StartDate                  datetime64[ns]\n",
       "EndDate                    datetime64[ns]\n",
       "OrderDate                  datetime64[ns]\n",
       "NumberOfPeople                      int64\n",
       "StayLen                           float32\n",
       "BookingHorizon                    float32\n",
       "DailyRate                         float32\n",
       "dtype: object"
      ]
     },
     "execution_count": 70,
     "metadata": {},
     "output_type": "execute_result"
    }
   ],
   "source": [
    "optimized_rez.dtypes"
   ]
  },
  {
   "cell_type": "markdown",
   "metadata": {},
   "source": [
    "## Testing Fields\n",
    "---"
   ]
  },
  {
   "cell_type": "code",
   "execution_count": 134,
   "metadata": {
    "scrolled": true
   },
   "outputs": [
    {
     "name": "stdout",
     "output_type": "stream",
     "text": [
      "2016-08-04\n"
     ]
    }
   ],
   "source": [
    "datelist = pd.date_range(optimized_rez['StartDate'].min(), optimized_rez['EndDate'].max()).tolist()\n",
    "jan_1 = datelist[datelist.index(pd.Timestamp('2016-08-04'))]\n",
    "print(jan_1.date())\n",
    "jan_1_filter = (optimized_rez['StartDate'] <= jan_1) & (optimized_rez['EndDate'] >= jan_1)"
   ]
  },
  {
   "cell_type": "code",
   "execution_count": 135,
   "metadata": {
    "scrolled": false
   },
   "outputs": [],
   "source": [
    "day = optimized_rez[jan_1_filter].groupby('FacilityID').agg({'StayLen': np.mean, 'BookingHorizon': np.mean,\n",
    "                                                       'UseFee' : np.mean, 'NumberOfPeople' : np.sum, \n",
    "                                                       'DailyRate' : np.sum})"
   ]
  },
  {
   "cell_type": "code",
   "execution_count": 136,
   "metadata": {},
   "outputs": [],
   "source": [
    "widgets=[progressbar.Bar('=', '[', ']'), ' ', progressbar.Percentage(),\n",
    "               ' ', progressbar.ETA(),\n",
    "               ' ', progressbar.AdaptiveETA()]"
   ]
  },
  {
   "cell_type": "code",
   "execution_count": 137,
   "metadata": {
    "scrolled": false
   },
   "outputs": [
    {
     "name": "stderr",
     "output_type": "stream",
     "text": [
      "[============================================] 100% Time: 0:00:01 Time: 0:00:01\n"
     ]
    }
   ],
   "source": [
    "date_park_list = []\n",
    "test_len = optimized_rez[jan_1_filter].groupby(['Park', 'RegionDescription']).mean().shape[0]\n",
    "bar = progressbar.ProgressBar(maxval=test_len, widgets=widgets)\n",
    "\n",
    "bar.start()\n",
    "i = 0\n",
    "\n",
    "for index, row in optimized_rez[jan_1_filter].groupby(['Park', 'RegionDescription', 'FacilityID']).nunique().iterrows():\n",
    "    \n",
    "    day_group = optimized_rez[jan_1_filter].groupby('FacilityID').agg({'StayLen': np.mean, 'BookingHorizon': np.mean,\n",
    "                                                       'UseFee' : np.mean, 'NumberOfPeople' : np.sum, \n",
    "                                                       'DailyRate' : np.sum, 'ProductID': 'nunique'})\n",
    "    \n",
    "    stay_len = day_group.loc[index[2], 'StayLen']\n",
    "    book_hor = day_group.loc[index[2], 'BookingHorizon']\n",
    "    avg_fee = day_group.loc[index[2], 'UseFee']\n",
    "    num_people = day_group.loc[index[2], 'NumberOfPeople']\n",
    "    day_revenue = day_group.loc[index[2], 'DailyRate']\n",
    "    sites_booked = day_group.loc[index[2], 'ProductID']\n",
    "    \n",
    "    \n",
    "    date_park_list.append([jan_1, index[2], index[0], index[1], row['OrderNumber'], num_people, sites_booked, stay_len, book_hor, avg_fee, day_revenue])\n",
    "    sleep(0.00001)\n",
    "    \n",
    "    i += 1\n",
    "    bar.update(i)\n",
    "bar.finish()"
   ]
  },
  {
   "cell_type": "code",
   "execution_count": 138,
   "metadata": {
    "scrolled": false
   },
   "outputs": [
    {
     "data": {
      "text/html": [
       "<div>\n",
       "<style scoped>\n",
       "    .dataframe tbody tr th:only-of-type {\n",
       "        vertical-align: middle;\n",
       "    }\n",
       "\n",
       "    .dataframe tbody tr th {\n",
       "        vertical-align: top;\n",
       "    }\n",
       "\n",
       "    .dataframe thead th {\n",
       "        text-align: right;\n",
       "    }\n",
       "</style>\n",
       "<table border=\"1\" class=\"dataframe\">\n",
       "  <thead>\n",
       "    <tr style=\"text-align: right;\">\n",
       "      <th></th>\n",
       "      <th>Date</th>\n",
       "      <th>FacilityID</th>\n",
       "      <th>Site</th>\n",
       "      <th>Park</th>\n",
       "      <th>Reservations</th>\n",
       "      <th>NumberOfPeople</th>\n",
       "      <th>SitesBooked</th>\n",
       "      <th>AvgStayLen</th>\n",
       "      <th>AvgBookingHorizon</th>\n",
       "      <th>AverageFee</th>\n",
       "      <th>DailyRevenue</th>\n",
       "    </tr>\n",
       "  </thead>\n",
       "  <tbody>\n",
       "    <tr>\n",
       "      <th>0</th>\n",
       "      <td>2016-08-04</td>\n",
       "      <td>234442.0</td>\n",
       "      <td>AKERS</td>\n",
       "      <td>Ozark National Scenic Riverways</td>\n",
       "      <td>2</td>\n",
       "      <td>35</td>\n",
       "      <td>2</td>\n",
       "      <td>3.500000</td>\n",
       "      <td>40.000000</td>\n",
       "      <td>132.500000</td>\n",
       "      <td>68.900002</td>\n",
       "    </tr>\n",
       "    <tr>\n",
       "      <th>1</th>\n",
       "      <td>2016-08-04</td>\n",
       "      <td>234046.0</td>\n",
       "      <td>ALLEY SPRING</td>\n",
       "      <td>Ozark National Scenic Riverways</td>\n",
       "      <td>34</td>\n",
       "      <td>158</td>\n",
       "      <td>33</td>\n",
       "      <td>5.323529</td>\n",
       "      <td>122.794121</td>\n",
       "      <td>68.676468</td>\n",
       "      <td>458.302795</td>\n",
       "    </tr>\n",
       "    <tr>\n",
       "      <th>2</th>\n",
       "      <td>2016-08-04</td>\n",
       "      <td>232502.0</td>\n",
       "      <td>ANACAPA ISLAND</td>\n",
       "      <td>Channel Islands National Park</td>\n",
       "      <td>5</td>\n",
       "      <td>14</td>\n",
       "      <td>2</td>\n",
       "      <td>2.800000</td>\n",
       "      <td>18.200001</td>\n",
       "      <td>6.000000</td>\n",
       "      <td>24.166666</td>\n",
       "    </tr>\n",
       "    <tr>\n",
       "      <th>3</th>\n",
       "      <td>2016-08-04</td>\n",
       "      <td>234669.0</td>\n",
       "      <td>APGAR GROUP SITES</td>\n",
       "      <td>Glacier National Park</td>\n",
       "      <td>8</td>\n",
       "      <td>57</td>\n",
       "      <td>6</td>\n",
       "      <td>3.875000</td>\n",
       "      <td>109.500000</td>\n",
       "      <td>40.625000</td>\n",
       "      <td>61.666668</td>\n",
       "    </tr>\n",
       "    <tr>\n",
       "      <th>4</th>\n",
       "      <td>2016-08-04</td>\n",
       "      <td>233187.0</td>\n",
       "      <td>ASPENGLEN CAMPGROUND</td>\n",
       "      <td>Rocky Mountain National Park</td>\n",
       "      <td>101</td>\n",
       "      <td>346</td>\n",
       "      <td>51</td>\n",
       "      <td>3.653465</td>\n",
       "      <td>113.257423</td>\n",
       "      <td>44.792080</td>\n",
       "      <td>1324.496460</td>\n",
       "    </tr>\n",
       "  </tbody>\n",
       "</table>\n",
       "</div>"
      ],
      "text/plain": [
       "        Date  FacilityID                  Site  \\\n",
       "0 2016-08-04    234442.0                 AKERS   \n",
       "1 2016-08-04    234046.0          ALLEY SPRING   \n",
       "2 2016-08-04    232502.0        ANACAPA ISLAND   \n",
       "3 2016-08-04    234669.0     APGAR GROUP SITES   \n",
       "4 2016-08-04    233187.0  ASPENGLEN CAMPGROUND   \n",
       "\n",
       "                              Park  Reservations  NumberOfPeople  SitesBooked  \\\n",
       "0  Ozark National Scenic Riverways             2              35            2   \n",
       "1  Ozark National Scenic Riverways            34             158           33   \n",
       "2    Channel Islands National Park             5              14            2   \n",
       "3            Glacier National Park             8              57            6   \n",
       "4     Rocky Mountain National Park           101             346           51   \n",
       "\n",
       "   AvgStayLen  AvgBookingHorizon  AverageFee  DailyRevenue  \n",
       "0    3.500000          40.000000  132.500000     68.900002  \n",
       "1    5.323529         122.794121   68.676468    458.302795  \n",
       "2    2.800000          18.200001    6.000000     24.166666  \n",
       "3    3.875000         109.500000   40.625000     61.666668  \n",
       "4    3.653465         113.257423   44.792080   1324.496460  "
      ]
     },
     "execution_count": 138,
     "metadata": {},
     "output_type": "execute_result"
    }
   ],
   "source": [
    "rez_test = pd.DataFrame(date_park_list, columns = ['Date', 'FacilityID', 'Site', \n",
    "                                        'Park', 'Reservations', 'NumberOfPeople', 'SitesBooked',\n",
    "                                        'AvgStayLen', 'AvgBookingHorizon', 'AverageFee', 'DailyRevenue'])\n",
    "\n",
    "rez_test.head()"
   ]
  },
  {
   "cell_type": "code",
   "execution_count": 139,
   "metadata": {
    "scrolled": true
   },
   "outputs": [
    {
     "data": {
      "text/html": [
       "<div>\n",
       "<style scoped>\n",
       "    .dataframe tbody tr th:only-of-type {\n",
       "        vertical-align: middle;\n",
       "    }\n",
       "\n",
       "    .dataframe tbody tr th {\n",
       "        vertical-align: top;\n",
       "    }\n",
       "\n",
       "    .dataframe thead th {\n",
       "        text-align: right;\n",
       "    }\n",
       "</style>\n",
       "<table border=\"1\" class=\"dataframe\">\n",
       "  <thead>\n",
       "    <tr style=\"text-align: right;\">\n",
       "      <th></th>\n",
       "      <th>Date</th>\n",
       "      <th>FacilityID</th>\n",
       "      <th>Site</th>\n",
       "      <th>Park</th>\n",
       "      <th>Reservations</th>\n",
       "      <th>NumberOfPeople</th>\n",
       "      <th>SitesBooked</th>\n",
       "      <th>AvgStayLen</th>\n",
       "      <th>AvgBookingHorizon</th>\n",
       "      <th>AverageFee</th>\n",
       "      <th>DailyRevenue</th>\n",
       "    </tr>\n",
       "  </thead>\n",
       "  <tbody>\n",
       "    <tr>\n",
       "      <th>91</th>\n",
       "      <td>2016-08-04</td>\n",
       "      <td>232490.0</td>\n",
       "      <td>MATHER CAMPGROUND</td>\n",
       "      <td>Grand Canyon National Park</td>\n",
       "      <td>580</td>\n",
       "      <td>2033</td>\n",
       "      <td>318</td>\n",
       "      <td>2.97069</td>\n",
       "      <td>91.384483</td>\n",
       "      <td>28.648275</td>\n",
       "      <td>5794.620117</td>\n",
       "    </tr>\n",
       "  </tbody>\n",
       "</table>\n",
       "</div>"
      ],
      "text/plain": [
       "         Date  FacilityID               Site                        Park  \\\n",
       "91 2016-08-04    232490.0  MATHER CAMPGROUND  Grand Canyon National Park   \n",
       "\n",
       "    Reservations  NumberOfPeople  SitesBooked  AvgStayLen  AvgBookingHorizon  \\\n",
       "91           580            2033          318     2.97069          91.384483   \n",
       "\n",
       "    AverageFee  DailyRevenue  \n",
       "91   28.648275   5794.620117  "
      ]
     },
     "execution_count": 139,
     "metadata": {},
     "output_type": "execute_result"
    }
   ],
   "source": [
    "rez_test[rez_test['FacilityID'] == 232490]"
   ]
  },
  {
   "cell_type": "markdown",
   "metadata": {},
   "source": [
    "## Site Aggregation for Modeling\n",
    "---"
   ]
  },
  {
   "cell_type": "code",
   "execution_count": 86,
   "metadata": {},
   "outputs": [],
   "source": [
    "# new function for aggregating the data by campsite and date\n",
    "def nps_site_aggregator(df):\n",
    "    \n",
    "    # establish list for each site's daily stats\n",
    "    site_list = []\n",
    "    \n",
    "    # create list of days to run through\n",
    "    datelist = pd.date_range(df['StartDate'].min(), df['EndDate'].max()).tolist()\n",
    "    \n",
    "    # create progress bar object\n",
    "    widgets=[progressbar.Bar('=', '[', ']'), ' ', progressbar.Percentage(),\n",
    "               ' ', progressbar.ETA(),\n",
    "               ' ', progressbar.AdaptiveETA()]\n",
    "    \n",
    "    bar = progressbar.ProgressBar(maxval=len(datelist), widgets=widgets)\n",
    "    \n",
    "    bar.start()\n",
    "    count = 0\n",
    "    \n",
    "    # cycle through all days\n",
    "    for date in datelist:\n",
    "        \n",
    "        #create a mask to find only reservations that inlcude the specified date\n",
    "        date_mask = (df['StartDate'] <= date) & (df['EndDate'] >= date)\n",
    "        \n",
    "        # cycle through all resvervations, as grouped by the site and the park\n",
    "        for index, row in df[date_mask].groupby(['Park', 'RegionDescription', 'FacilityID']).nunique().iterrows():\n",
    "            \n",
    "            # group the filtered dataframe by unique site ID, aggregate the columns appropriately\n",
    "            day_group = df[date_mask].groupby('FacilityID').agg({'StayLen': np.mean, 'BookingHorizon': np.mean,\n",
    "                                                       'UseFee' : np.mean, 'NumberOfPeople' : np.sum, \n",
    "                                                       'DailyRate' : np.sum, 'ProductID': 'nunique'})\n",
    "            # assign variables for the daily \n",
    "            stay_len = day_group.loc[index[2], 'StayLen']\n",
    "            book_hor = day_group.loc[index[2], 'BookingHorizon']\n",
    "            avg_fee = day_group.loc[index[2], 'UseFee']\n",
    "            num_people = day_group.loc[index[2], 'NumberOfPeople']\n",
    "            day_revenue = day_group.loc[index[2], 'DailyRate']\n",
    "            sites_booked = day_group.loc[index[2], 'ProductID']\n",
    "            \n",
    "            # add daily reservation information to the list\n",
    "            site_list.append([date.date(), index[2], index[0], index[1], \n",
    "                              row['OrderNumber'], num_people, sites_booked, stay_len, \n",
    "                              book_hor, avg_fee, day_revenue])\n",
    "            \n",
    "        \n",
    "        count += 1\n",
    "        bar.update(count)\n",
    "    \n",
    "    bar.finish()\n",
    "    return pd.DataFrame(site_list, columns = ['Date', 'FacilityID', 'Site', 'Park', 'Reservations', \n",
    "                                              'NumberOfPeople', 'SitesBooked', 'AvgStayLen', 'AvgBookingHorizon', \n",
    "                                              'AverageFee', 'DailyRevenue'])"
   ]
  },
  {
   "cell_type": "code",
   "execution_count": 87,
   "metadata": {
    "scrolled": false
   },
   "outputs": [
    {
     "name": "stderr",
     "output_type": "stream",
     "text": [
      "[============================================] 100% Time: 0:04:50 Time: 0:04:50\n"
     ]
    }
   ],
   "source": [
    "# run site aggregator\n",
    "# note: this may take some time depending on the size and parameters of the dataframe\n",
    "rez_agg = nps_site_aggregator(optimized_rez)"
   ]
  },
  {
   "cell_type": "code",
   "execution_count": 88,
   "metadata": {
    "scrolled": true
   },
   "outputs": [
    {
     "data": {
      "text/plain": [
       "array(['Chiricahua National Monument', 'Gateway National Recreation Area',\n",
       "       'Big South Fork National River', 'Gulf Islands National Seashore',\n",
       "       'Grand Canyon National Park', 'Acadia National Park',\n",
       "       'Great Smoky Mountains National Park', 'Yosemite National Park',\n",
       "       'Catoctin National Park', 'Point Reyes National Seashore',\n",
       "       'Zion National Park', 'Channel Islands National Park',\n",
       "       'Chickasaw National Recreation Area', 'Greenbelt Park',\n",
       "       'Prince William Forest Park', 'Joshua Tree National Park',\n",
       "       'Chaco Culture National Historic Park', 'Blue Ridge Parkway',\n",
       "       'Shenandoah National Park', 'Big Cypress National Preserve',\n",
       "       'Pinnacles National Park',\n",
       "       'Sleeping Bear Dunes National Lakeshore',\n",
       "       'Colorado National Monument',\n",
       "       'Headquarters - Mammoth Cave National Park',\n",
       "       'Lassen Volcanic National Park', 'Cape Lookout National Seashore',\n",
       "       'Assateague Island National Seashore',\n",
       "       'Headquarters - Arches National Park', 'Buffalo National River',\n",
       "       'Sequoia and Kings Canyon National Park',\n",
       "       'Ozark National Scenic Riverways', 'Catoctin Mountain Park',\n",
       "       'Cape Hatteras National Seashore', 'Antietam National Battlefield',\n",
       "       'Chesapeake & Ohio Canal National Historical Park',\n",
       "       'Fort Washington Park', 'Bandelier National Monument',\n",
       "       'Rock Creek Park', 'Fort Hunt Park',\n",
       "       'National Mall & Memorial Parks',\n",
       "       'Theodore Roosevelt National Park', 'Death Valley National Park',\n",
       "       'George Washington Birthplace', 'Fort Dupont Park ',\n",
       "       'Golden Gate National Recreation Area',\n",
       "       'Cuyahoga Valley National Park', 'Great Sand Dunes National Park',\n",
       "       'Big Bend National Park',\n",
       "       'Santa Monica Mountains National Recreation Area',\n",
       "       'Canyonlands National Park', 'Everglades National Park',\n",
       "       'CONGAREE NATIONAL PARK',\n",
       "       'Lake Roosevelt National Recreation Area', 'Olympic National Park',\n",
       "       'Capitol Reef NP Group Campsite',\n",
       "       'Gettysburg National Military Park',\n",
       "       'New River Gorge National River',\n",
       "       'Whiskeytown National Recreation Area',\n",
       "       'Dinosaur National Monument', 'Bryce Canyon National Park',\n",
       "       'Black Canyon National Park', 'Curecanti National Recreation Area',\n",
       "       'Mount Rainier National Park', 'Rocky Mountain National Park',\n",
       "       'Sequoia & Kings Canyon National Parks', 'Glacier National Park',\n",
       "       'Delaware Water Gap National Recreation Area',\n",
       "       'Great Basin National Park 02', 'Kenai Fjords National Park',\n",
       "       'North Cascades National Park', 'Cedar Breaks National Monument',\n",
       "       'Obed Wild and Scenic River'], dtype=object)"
      ]
     },
     "execution_count": 88,
     "metadata": {},
     "output_type": "execute_result"
    }
   ],
   "source": [
    "rez_agg['Park'].unique()"
   ]
  },
  {
   "cell_type": "code",
   "execution_count": 89,
   "metadata": {},
   "outputs": [
    {
     "name": "stdout",
     "output_type": "stream",
     "text": [
      "10.39 MB\n"
     ]
    }
   ],
   "source": [
    "rez_agg.to_csv(\"./data/Aggregated-Data/nps_agg_2016.csv\", index = False)\n",
    "print(mem_usage(rez_agg))"
   ]
  },
  {
   "cell_type": "code",
   "execution_count": 95,
   "metadata": {
    "scrolled": true
   },
   "outputs": [
    {
     "data": {
      "text/plain": [
       "Date                  object\n",
       "FacilityID           float64\n",
       "Site                  object\n",
       "Park                  object\n",
       "Reservations           int64\n",
       "NumberOfPeople         int64\n",
       "SitesBooked            int64\n",
       "AvgStayLen           float64\n",
       "AvgBookingHorizon    float64\n",
       "AverageFee           float64\n",
       "DailyRevenue         float64\n",
       "dtype: object"
      ]
     },
     "execution_count": 95,
     "metadata": {},
     "output_type": "execute_result"
    }
   ],
   "source": [
    "rez_agg.dtypes"
   ]
  },
  {
   "cell_type": "markdown",
   "metadata": {},
   "source": [
    "## Combined Data EDA and Preprocessing\n",
    "---"
   ]
  },
  {
   "cell_type": "code",
   "execution_count": 199,
   "metadata": {
    "scrolled": true
   },
   "outputs": [],
   "source": [
    "# set directory to collect aggregated csv files\n",
    "os.chdir(\"./data/Aggregated-Data\")"
   ]
  },
  {
   "cell_type": "code",
   "execution_count": 200,
   "metadata": {},
   "outputs": [
    {
     "name": "stdout",
     "output_type": "stream",
     "text": [
      "['nps_agg_2014.csv', 'nps_agg_2015.csv', 'nps_agg_2016.csv', 'nps_agg_2017.csv', 'nps_agg_2018.csv']\n"
     ]
    }
   ],
   "source": [
    "# get filenames of csv files in the aggregated data folder\n",
    "extension = 'csv'\n",
    "\n",
    "# create list of filenames\n",
    "all_filenames = [i for i in glob.glob('*.{}'.format(extension))]\n",
    "print(all_filenames)"
   ]
  },
  {
   "cell_type": "code",
   "execution_count": 201,
   "metadata": {
    "scrolled": true
   },
   "outputs": [],
   "source": [
    "#combine all files in the list\n",
    "combined_rez = pd.concat([pd.read_csv(f, parse_dates = True) for f in all_filenames ])\n",
    "combined_rez['Date'] = pd.to_datetime(combined_rez['Date'], format= '%Y-%m-%d')\n",
    "\n",
    "# change directory back to repository base\n",
    "os.chdir(\"../..\")\n",
    "\n",
    "#export to csv\n",
    "combined_rez.to_csv( \"./data/nps_combined_agg.csv\", index=False, encoding='utf-8-sig')"
   ]
  },
  {
   "cell_type": "code",
   "execution_count": 202,
   "metadata": {},
   "outputs": [],
   "source": [
    "# load aggregated dataframe\n",
    "#combined_rez = pd.read_csv('./data/nps_combined_agg.csv')"
   ]
  },
  {
   "cell_type": "code",
   "execution_count": 203,
   "metadata": {
    "scrolled": true
   },
   "outputs": [
    {
     "name": "stdout",
     "output_type": "stream",
     "text": [
      "46.52 MB\n",
      "(198042, 11)\n"
     ]
    }
   ],
   "source": [
    "# check size and shape of combined dataframe\n",
    "print(mem_usage(combined_rez))\n",
    "print(combined_rez.shape)"
   ]
  },
  {
   "cell_type": "code",
   "execution_count": 229,
   "metadata": {
    "scrolled": true
   },
   "outputs": [
    {
     "data": {
      "text/html": [
       "<div>\n",
       "<style scoped>\n",
       "    .dataframe tbody tr th:only-of-type {\n",
       "        vertical-align: middle;\n",
       "    }\n",
       "\n",
       "    .dataframe tbody tr th {\n",
       "        vertical-align: top;\n",
       "    }\n",
       "\n",
       "    .dataframe thead th {\n",
       "        text-align: right;\n",
       "    }\n",
       "</style>\n",
       "<table border=\"1\" class=\"dataframe\">\n",
       "  <thead>\n",
       "    <tr style=\"text-align: right;\">\n",
       "      <th></th>\n",
       "      <th>Date</th>\n",
       "      <th>FacilityID</th>\n",
       "      <th>Site</th>\n",
       "      <th>Park</th>\n",
       "      <th>Reservations</th>\n",
       "      <th>NumberOfPeople</th>\n",
       "      <th>SitesBooked</th>\n",
       "      <th>AvgStayLen</th>\n",
       "      <th>AvgBookingHorizon</th>\n",
       "      <th>AverageFee</th>\n",
       "      <th>DailyRevenue</th>\n",
       "      <th>SumHor</th>\n",
       "    </tr>\n",
       "  </thead>\n",
       "  <tbody>\n",
       "    <tr>\n",
       "      <th>0</th>\n",
       "      <td>2013-04-30</td>\n",
       "      <td>232450.0</td>\n",
       "      <td>LOWER PINES</td>\n",
       "      <td>Yosemite National Park</td>\n",
       "      <td>1</td>\n",
       "      <td>1.0</td>\n",
       "      <td>1</td>\n",
       "      <td>2.0</td>\n",
       "      <td>0.0</td>\n",
       "      <td>10.0</td>\n",
       "      <td>5.0</td>\n",
       "      <td>0.0</td>\n",
       "    </tr>\n",
       "    <tr>\n",
       "      <th>1</th>\n",
       "      <td>2013-05-01</td>\n",
       "      <td>232450.0</td>\n",
       "      <td>LOWER PINES</td>\n",
       "      <td>Yosemite National Park</td>\n",
       "      <td>1</td>\n",
       "      <td>1.0</td>\n",
       "      <td>1</td>\n",
       "      <td>2.0</td>\n",
       "      <td>0.0</td>\n",
       "      <td>10.0</td>\n",
       "      <td>5.0</td>\n",
       "      <td>0.0</td>\n",
       "    </tr>\n",
       "    <tr>\n",
       "      <th>2</th>\n",
       "      <td>2013-09-30</td>\n",
       "      <td>232506.0</td>\n",
       "      <td>BANDY CREEK</td>\n",
       "      <td>Big South Fork National River</td>\n",
       "      <td>1</td>\n",
       "      <td>2.0</td>\n",
       "      <td>1</td>\n",
       "      <td>2.0</td>\n",
       "      <td>0.0</td>\n",
       "      <td>22.0</td>\n",
       "      <td>11.0</td>\n",
       "      <td>0.0</td>\n",
       "    </tr>\n",
       "    <tr>\n",
       "      <th>3</th>\n",
       "      <td>2013-10-01</td>\n",
       "      <td>232506.0</td>\n",
       "      <td>BANDY CREEK</td>\n",
       "      <td>Big South Fork National River</td>\n",
       "      <td>2</td>\n",
       "      <td>4.0</td>\n",
       "      <td>1</td>\n",
       "      <td>2.0</td>\n",
       "      <td>0.0</td>\n",
       "      <td>11.0</td>\n",
       "      <td>11.0</td>\n",
       "      <td>0.0</td>\n",
       "    </tr>\n",
       "    <tr>\n",
       "      <th>4</th>\n",
       "      <td>2013-10-01</td>\n",
       "      <td>232445.0</td>\n",
       "      <td>WATCHMAN CAMPGROUND</td>\n",
       "      <td>Zion National Park</td>\n",
       "      <td>1</td>\n",
       "      <td>2.0</td>\n",
       "      <td>1</td>\n",
       "      <td>2.0</td>\n",
       "      <td>0.0</td>\n",
       "      <td>18.0</td>\n",
       "      <td>9.0</td>\n",
       "      <td>0.0</td>\n",
       "    </tr>\n",
       "  </tbody>\n",
       "</table>\n",
       "</div>"
      ],
      "text/plain": [
       "        Date  FacilityID                 Site                           Park  \\\n",
       "0 2013-04-30    232450.0          LOWER PINES         Yosemite National Park   \n",
       "1 2013-05-01    232450.0          LOWER PINES         Yosemite National Park   \n",
       "2 2013-09-30    232506.0          BANDY CREEK  Big South Fork National River   \n",
       "3 2013-10-01    232506.0          BANDY CREEK  Big South Fork National River   \n",
       "4 2013-10-01    232445.0  WATCHMAN CAMPGROUND             Zion National Park   \n",
       "\n",
       "   Reservations  NumberOfPeople  SitesBooked  AvgStayLen  AvgBookingHorizon  \\\n",
       "0             1             1.0            1         2.0                0.0   \n",
       "1             1             1.0            1         2.0                0.0   \n",
       "2             1             2.0            1         2.0                0.0   \n",
       "3             2             4.0            1         2.0                0.0   \n",
       "4             1             2.0            1         2.0                0.0   \n",
       "\n",
       "   AverageFee  DailyRevenue  SumHor  \n",
       "0        10.0           5.0     0.0  \n",
       "1        10.0           5.0     0.0  \n",
       "2        22.0          11.0     0.0  \n",
       "3        11.0          11.0     0.0  \n",
       "4        18.0           9.0     0.0  "
      ]
     },
     "execution_count": 229,
     "metadata": {},
     "output_type": "execute_result"
    }
   ],
   "source": [
    "combined_rez.head()"
   ]
  },
  {
   "cell_type": "code",
   "execution_count": 258,
   "metadata": {
    "scrolled": true
   },
   "outputs": [],
   "source": [
    "def date_agg_cleaner(df):\n",
    "    # find length of dates in dataframe\n",
    "    datelist = pd.date_range(df['Date'].min(), df['Date'].max()).tolist()\n",
    "    facilities = df['FacilityID'].unique()\n",
    "    \n",
    "    # create sums of avg columns\n",
    "    df['SumHor'] = df['Reservations'] * df['AvgBookingHorizon']\n",
    "    df['SumLen'] = df['Reservations'] * df['AvgStayLen']\n",
    "    df['SumFee'] = df['Reservations'] * df['AverageFee']\n",
    "\n",
    "    # create progress bar object\n",
    "    widgets=[progressbar.Bar('=', '[', ']'), ' ', progressbar.Percentage(),\n",
    "                   ' ', progressbar.ETA(),\n",
    "                   ' ', progressbar.AdaptiveETA()]\n",
    "\n",
    "    bar = progressbar.ProgressBar(maxval=len(datelist), widgets=widgets)\n",
    "\n",
    "    bar.start()\n",
    "    count = 0\n",
    "    \n",
    "    # loop through dates\n",
    "    for date in datelist:\n",
    "        # loop through facilities\n",
    "        for facility in facilities:\n",
    "            #create a mask for facility ID and date\n",
    "            mask = (df['FacilityID'] == facility) & (df['Date'] == date)\n",
    "            \n",
    "            # find dates with more than one aggregation\n",
    "            if len(df[mask]) > 1:\n",
    "                \n",
    "                # aggrgate the values appropriately\n",
    "                g = df[mask].groupby(['Date', 'FacilityID']).sum()\n",
    "                df.loc[mask, 'SitesBooked'] = g['SitesBooked'].values[0]\n",
    "                df.loc[mask, 'Reservations'] = g['Reservations'].values[0]\n",
    "                df.loc[mask, 'NumberOfPeople'] = g['NumberOfPeople'].values[0]\n",
    "                df.loc[mask, 'DailyRevenue'] = g['DailyRevenue'].values[0]\n",
    "                df.loc[mask, 'AvgStayLen'] = g['SumLen'].values[0] / g['Reservations'].values[0]\n",
    "                df.loc[mask, 'AvgBookingHorizon'] = g['SumHor'].values[0] / g['Reservations'].values[0]\n",
    "        \n",
    "        df.loc[mask, 'AverageFee'] = g['SumFee'].values[0] / g['Reservations'].values[0]\n",
    "        count += 1\n",
    "        bar.update(count)\n",
    "    bar.finish()\n",
    "    \n",
    "    return df"
   ]
  },
  {
   "cell_type": "code",
   "execution_count": null,
   "metadata": {},
   "outputs": [],
   "source": [
    "# run function\n",
    "combined_rez = date_agg_cleaner(combined_rez)"
   ]
  },
  {
   "cell_type": "code",
   "execution_count": 259,
   "metadata": {},
   "outputs": [],
   "source": [
    "#export to csv\n",
    "combined_rez.to_csv( \"./data/nps_combined_agg.csv\", index=False, encoding='utf-8-sig')"
   ]
  },
  {
   "cell_type": "code",
   "execution_count": 260,
   "metadata": {
    "scrolled": true
   },
   "outputs": [
    {
     "data": {
      "text/html": [
       "<div>\n",
       "<style scoped>\n",
       "    .dataframe tbody tr th:only-of-type {\n",
       "        vertical-align: middle;\n",
       "    }\n",
       "\n",
       "    .dataframe tbody tr th {\n",
       "        vertical-align: top;\n",
       "    }\n",
       "\n",
       "    .dataframe thead th {\n",
       "        text-align: right;\n",
       "    }\n",
       "</style>\n",
       "<table border=\"1\" class=\"dataframe\">\n",
       "  <thead>\n",
       "    <tr style=\"text-align: right;\">\n",
       "      <th></th>\n",
       "      <th>Date</th>\n",
       "      <th>FacilityID</th>\n",
       "      <th>Site</th>\n",
       "      <th>Park</th>\n",
       "      <th>Reservations</th>\n",
       "      <th>NumberOfPeople</th>\n",
       "      <th>SitesBooked</th>\n",
       "      <th>AvgStayLen</th>\n",
       "      <th>AvgBookingHorizon</th>\n",
       "      <th>AverageFee</th>\n",
       "      <th>DailyRevenue</th>\n",
       "      <th>SumHor</th>\n",
       "      <th>SumLen</th>\n",
       "      <th>SumFee</th>\n",
       "    </tr>\n",
       "  </thead>\n",
       "  <tbody>\n",
       "    <tr>\n",
       "      <th>38559</th>\n",
       "      <td>2017-07-04</td>\n",
       "      <td>232490.0</td>\n",
       "      <td>MATHER CAMPGROUND</td>\n",
       "      <td>Grand Canyon National Park</td>\n",
       "      <td>625</td>\n",
       "      <td>2507.0</td>\n",
       "      <td>329</td>\n",
       "      <td>3.2</td>\n",
       "      <td>96.233602</td>\n",
       "      <td>29.479201</td>\n",
       "      <td>6323.867996</td>\n",
       "      <td>3115.000031</td>\n",
       "      <td>24.999999</td>\n",
       "      <td>500.000015</td>\n",
       "    </tr>\n",
       "    <tr>\n",
       "      <th>18231</th>\n",
       "      <td>2017-07-04</td>\n",
       "      <td>232490.0</td>\n",
       "      <td>MATHER CAMPGROUND</td>\n",
       "      <td>Grand Canyon National Park</td>\n",
       "      <td>625</td>\n",
       "      <td>2507.0</td>\n",
       "      <td>329</td>\n",
       "      <td>3.2</td>\n",
       "      <td>96.233602</td>\n",
       "      <td>29.479201</td>\n",
       "      <td>6323.867996</td>\n",
       "      <td>57031.001221</td>\n",
       "      <td>1975.000036</td>\n",
       "      <td>17924.500504</td>\n",
       "    </tr>\n",
       "  </tbody>\n",
       "</table>\n",
       "</div>"
      ],
      "text/plain": [
       "            Date  FacilityID               Site                        Park  \\\n",
       "38559 2017-07-04    232490.0  MATHER CAMPGROUND  Grand Canyon National Park   \n",
       "18231 2017-07-04    232490.0  MATHER CAMPGROUND  Grand Canyon National Park   \n",
       "\n",
       "       Reservations  NumberOfPeople  SitesBooked  AvgStayLen  \\\n",
       "38559           625          2507.0          329         3.2   \n",
       "18231           625          2507.0          329         3.2   \n",
       "\n",
       "       AvgBookingHorizon  AverageFee  DailyRevenue        SumHor       SumLen  \\\n",
       "38559          96.233602   29.479201   6323.867996   3115.000031    24.999999   \n",
       "18231          96.233602   29.479201   6323.867996  57031.001221  1975.000036   \n",
       "\n",
       "             SumFee  \n",
       "38559    500.000015  \n",
       "18231  17924.500504  "
      ]
     },
     "execution_count": 260,
     "metadata": {},
     "output_type": "execute_result"
    }
   ],
   "source": [
    "mather_mask = (combined_rez['FacilityID'] == 232490) & (combined_rez['Date'] == '2017-07-04')\n",
    "combined_rez[mather_mask]"
   ]
  },
  {
   "cell_type": "code",
   "execution_count": 261,
   "metadata": {},
   "outputs": [],
   "source": [
    "# load in campsite data collected from RIDB\n",
    "site_data = pd.read_csv('./data/nps_site_names.csv')"
   ]
  },
  {
   "cell_type": "code",
   "execution_count": 262,
   "metadata": {
    "scrolled": false
   },
   "outputs": [
    {
     "data": {
      "text/html": [
       "<div>\n",
       "<style scoped>\n",
       "    .dataframe tbody tr th:only-of-type {\n",
       "        vertical-align: middle;\n",
       "    }\n",
       "\n",
       "    .dataframe tbody tr th {\n",
       "        vertical-align: top;\n",
       "    }\n",
       "\n",
       "    .dataframe thead th {\n",
       "        text-align: right;\n",
       "    }\n",
       "</style>\n",
       "<table border=\"1\" class=\"dataframe\">\n",
       "  <thead>\n",
       "    <tr style=\"text-align: right;\">\n",
       "      <th></th>\n",
       "      <th>FacilityID</th>\n",
       "      <th>Site</th>\n",
       "      <th>NumberOfSites</th>\n",
       "      <th>Lat</th>\n",
       "      <th>Long</th>\n",
       "    </tr>\n",
       "  </thead>\n",
       "  <tbody>\n",
       "    <tr>\n",
       "      <th>0</th>\n",
       "      <td>232432.0</td>\n",
       "      <td>Mathews Arm Campground (VA)</td>\n",
       "      <td>166.0</td>\n",
       "      <td>38.766364</td>\n",
       "      <td>-78.298291</td>\n",
       "    </tr>\n",
       "    <tr>\n",
       "      <th>1</th>\n",
       "      <td>232433.0</td>\n",
       "      <td>Loft Mountain Campground (VA)</td>\n",
       "      <td>207.0</td>\n",
       "      <td>38.248272</td>\n",
       "      <td>-78.673641</td>\n",
       "    </tr>\n",
       "    <tr>\n",
       "      <th>2</th>\n",
       "      <td>232434.0</td>\n",
       "      <td>Cataloochee Group Camp (NC)</td>\n",
       "      <td>3.0</td>\n",
       "      <td>35.651130</td>\n",
       "      <td>-83.074725</td>\n",
       "    </tr>\n",
       "    <tr>\n",
       "      <th>3</th>\n",
       "      <td>232435.0</td>\n",
       "      <td>Deep Creek Picnic Pavilion (NC)</td>\n",
       "      <td>2.0</td>\n",
       "      <td>35.460488</td>\n",
       "      <td>-83.438662</td>\n",
       "    </tr>\n",
       "    <tr>\n",
       "      <th>4</th>\n",
       "      <td>232436.0</td>\n",
       "      <td>Elkmont Group Camp (TN)</td>\n",
       "      <td>4.0</td>\n",
       "      <td>35.659981</td>\n",
       "      <td>-83.586604</td>\n",
       "    </tr>\n",
       "  </tbody>\n",
       "</table>\n",
       "</div>"
      ],
      "text/plain": [
       "   FacilityID                             Site  NumberOfSites        Lat  \\\n",
       "0    232432.0      Mathews Arm Campground (VA)          166.0  38.766364   \n",
       "1    232433.0    Loft Mountain Campground (VA)          207.0  38.248272   \n",
       "2    232434.0      Cataloochee Group Camp (NC)            3.0  35.651130   \n",
       "3    232435.0  Deep Creek Picnic Pavilion (NC)            2.0  35.460488   \n",
       "4    232436.0          Elkmont Group Camp (TN)            4.0  35.659981   \n",
       "\n",
       "        Long  \n",
       "0 -78.298291  \n",
       "1 -78.673641  \n",
       "2 -83.074725  \n",
       "3 -83.438662  \n",
       "4 -83.586604  "
      ]
     },
     "execution_count": 262,
     "metadata": {},
     "output_type": "execute_result"
    }
   ],
   "source": [
    "site_data.head()"
   ]
  },
  {
   "cell_type": "code",
   "execution_count": 263,
   "metadata": {},
   "outputs": [],
   "source": [
    "# function to append additional campsite data to aggregated df\n",
    "def site_data_format(df, sites):\n",
    "    \n",
    "    # default value of sites available set to 1\n",
    "    df['SitesAvailable'] = 1\n",
    "    \n",
    "    # loop through the site info df\n",
    "    # assign uninform site name and find the number of campsites at each facility\n",
    "    for index, row in sites.iterrows():\n",
    "        if row['FacilityID'] in df['FacilityID'].values:\n",
    "            df.loc[df['FacilityID'] == row['FacilityID'], 'Site'] = row['Site']\n",
    "            df.loc[df['FacilityID'] == row['FacilityID'], 'SitesAvailable'] = row['NumberOfSites']\n",
    "    \n",
    "    # replace zeroes with 1s\n",
    "    df['SitesAvailable'] = df['SitesAvailable'].replace(0, 1)\n",
    "    \n",
    "    # calculate percent booked for each day/site\n",
    "    df['PercentBooked'] = df['SitesBooked'] / df['SitesAvailable']\n",
    "    \n",
    "    # update sites available to the sites not used\n",
    "    df['SitesAvailable'] = df['SitesAvailable'] - df['SitesBooked']\n",
    "    \n",
    "    # percent booked percentages over 100% are scaled down to 100%\n",
    "    df.loc[df['PercentBooked'] > 1.0, 'PercentBooked'] = 1.0\n",
    "           \n",
    "    return df"
   ]
  },
  {
   "cell_type": "code",
   "execution_count": 264,
   "metadata": {
    "scrolled": true
   },
   "outputs": [],
   "source": [
    "# run function on aggregate dataframe\n",
    "combined_rez = site_data_format(combined_rez, site_data)"
   ]
  },
  {
   "cell_type": "code",
   "execution_count": 265,
   "metadata": {
    "scrolled": true
   },
   "outputs": [],
   "source": [
    "# remove '\\n' from site names\n",
    "# may be redundant with site name creation notebook\n",
    "combined_rez['Site'].replace(regex=True, inplace=True, to_replace=r'\\\\\\n', value=r'')"
   ]
  },
  {
   "cell_type": "code",
   "execution_count": 266,
   "metadata": {},
   "outputs": [
    {
     "data": {
      "text/plain": [
       "dtype('<M8[ns]')"
      ]
     },
     "execution_count": 266,
     "metadata": {},
     "output_type": "execute_result"
    }
   ],
   "source": [
    "combined_rez['Date'].dtype"
   ]
  },
  {
   "cell_type": "code",
   "execution_count": 267,
   "metadata": {
    "scrolled": false
   },
   "outputs": [
    {
     "data": {
      "text/html": [
       "<div>\n",
       "<style scoped>\n",
       "    .dataframe tbody tr th:only-of-type {\n",
       "        vertical-align: middle;\n",
       "    }\n",
       "\n",
       "    .dataframe tbody tr th {\n",
       "        vertical-align: top;\n",
       "    }\n",
       "\n",
       "    .dataframe thead th {\n",
       "        text-align: right;\n",
       "    }\n",
       "</style>\n",
       "<table border=\"1\" class=\"dataframe\">\n",
       "  <thead>\n",
       "    <tr style=\"text-align: right;\">\n",
       "      <th></th>\n",
       "      <th></th>\n",
       "      <th>Reservations</th>\n",
       "      <th>NumberOfPeople</th>\n",
       "      <th>SitesBooked</th>\n",
       "      <th>AvgStayLen</th>\n",
       "      <th>AvgBookingHorizon</th>\n",
       "      <th>AverageFee</th>\n",
       "      <th>DailyRevenue</th>\n",
       "      <th>SumHor</th>\n",
       "      <th>SumLen</th>\n",
       "      <th>SumFee</th>\n",
       "      <th>SitesAvailable</th>\n",
       "      <th>PercentBooked</th>\n",
       "    </tr>\n",
       "    <tr>\n",
       "      <th>Site</th>\n",
       "      <th>FacilityID</th>\n",
       "      <th></th>\n",
       "      <th></th>\n",
       "      <th></th>\n",
       "      <th></th>\n",
       "      <th></th>\n",
       "      <th></th>\n",
       "      <th></th>\n",
       "      <th></th>\n",
       "      <th></th>\n",
       "      <th></th>\n",
       "      <th></th>\n",
       "      <th></th>\n",
       "    </tr>\n",
       "  </thead>\n",
       "  <tbody>\n",
       "    <tr>\n",
       "      <th>DUCK HARBOR CAMPGROUND</th>\n",
       "      <th>264293.0</th>\n",
       "      <td>8.448052</td>\n",
       "      <td>27.610390</td>\n",
       "      <td>4.993506</td>\n",
       "      <td>3.137172</td>\n",
       "      <td>107.276753</td>\n",
       "      <td>0.000000</td>\n",
       "      <td>101.363636</td>\n",
       "      <td>898.623377</td>\n",
       "      <td>26.305195</td>\n",
       "      <td>0.000000</td>\n",
       "      <td>0.006494</td>\n",
       "      <td>0.998701</td>\n",
       "    </tr>\n",
       "    <tr>\n",
       "      <th>Schoodic Woods Campground</th>\n",
       "      <th>251833.0</th>\n",
       "      <td>116.302483</td>\n",
       "      <td>300.033860</td>\n",
       "      <td>78.514673</td>\n",
       "      <td>5.105613</td>\n",
       "      <td>73.435598</td>\n",
       "      <td>46.751185</td>\n",
       "      <td>2011.492824</td>\n",
       "      <td>8341.609471</td>\n",
       "      <td>563.300226</td>\n",
       "      <td>5003.031609</td>\n",
       "      <td>15.485327</td>\n",
       "      <td>0.831276</td>\n",
       "    </tr>\n",
       "    <tr>\n",
       "      <th>SEAWALL CAMPGROUND (ME)</th>\n",
       "      <th>234674.0</th>\n",
       "      <td>217.855573</td>\n",
       "      <td>660.420722</td>\n",
       "      <td>153.791209</td>\n",
       "      <td>4.918416</td>\n",
       "      <td>62.079839</td>\n",
       "      <td>52.865389</td>\n",
       "      <td>3169.288795</td>\n",
       "      <td>14548.758252</td>\n",
       "      <td>1072.301411</td>\n",
       "      <td>11391.986533</td>\n",
       "      <td>50.208791</td>\n",
       "      <td>0.753794</td>\n",
       "    </tr>\n",
       "    <tr>\n",
       "      <th>Blackwoods (ME)</th>\n",
       "      <th>232508.0</th>\n",
       "      <td>292.576067</td>\n",
       "      <td>822.264378</td>\n",
       "      <td>88.075139</td>\n",
       "      <td>5.893706</td>\n",
       "      <td>55.055221</td>\n",
       "      <td>59.626167</td>\n",
       "      <td>4800.305009</td>\n",
       "      <td>18221.658444</td>\n",
       "      <td>1492.089980</td>\n",
       "      <td>16606.527662</td>\n",
       "      <td>192.924861</td>\n",
       "      <td>0.308017</td>\n",
       "    </tr>\n",
       "  </tbody>\n",
       "</table>\n",
       "</div>"
      ],
      "text/plain": [
       "                                      Reservations  NumberOfPeople  \\\n",
       "Site                      FacilityID                                 \n",
       "DUCK HARBOR CAMPGROUND    264293.0        8.448052       27.610390   \n",
       "Schoodic Woods Campground 251833.0      116.302483      300.033860   \n",
       "SEAWALL CAMPGROUND (ME)   234674.0      217.855573      660.420722   \n",
       "Blackwoods (ME)           232508.0      292.576067      822.264378   \n",
       "\n",
       "                                      SitesBooked  AvgStayLen  \\\n",
       "Site                      FacilityID                            \n",
       "DUCK HARBOR CAMPGROUND    264293.0       4.993506    3.137172   \n",
       "Schoodic Woods Campground 251833.0      78.514673    5.105613   \n",
       "SEAWALL CAMPGROUND (ME)   234674.0     153.791209    4.918416   \n",
       "Blackwoods (ME)           232508.0      88.075139    5.893706   \n",
       "\n",
       "                                      AvgBookingHorizon  AverageFee  \\\n",
       "Site                      FacilityID                                  \n",
       "DUCK HARBOR CAMPGROUND    264293.0           107.276753    0.000000   \n",
       "Schoodic Woods Campground 251833.0            73.435598   46.751185   \n",
       "SEAWALL CAMPGROUND (ME)   234674.0            62.079839   52.865389   \n",
       "Blackwoods (ME)           232508.0            55.055221   59.626167   \n",
       "\n",
       "                                      DailyRevenue        SumHor       SumLen  \\\n",
       "Site                      FacilityID                                            \n",
       "DUCK HARBOR CAMPGROUND    264293.0      101.363636    898.623377    26.305195   \n",
       "Schoodic Woods Campground 251833.0     2011.492824   8341.609471   563.300226   \n",
       "SEAWALL CAMPGROUND (ME)   234674.0     3169.288795  14548.758252  1072.301411   \n",
       "Blackwoods (ME)           232508.0     4800.305009  18221.658444  1492.089980   \n",
       "\n",
       "                                            SumFee  SitesAvailable  \\\n",
       "Site                      FacilityID                                 \n",
       "DUCK HARBOR CAMPGROUND    264293.0        0.000000        0.006494   \n",
       "Schoodic Woods Campground 251833.0     5003.031609       15.485327   \n",
       "SEAWALL CAMPGROUND (ME)   234674.0    11391.986533       50.208791   \n",
       "Blackwoods (ME)           232508.0    16606.527662      192.924861   \n",
       "\n",
       "                                      PercentBooked  \n",
       "Site                      FacilityID                 \n",
       "DUCK HARBOR CAMPGROUND    264293.0         0.998701  \n",
       "Schoodic Woods Campground 251833.0         0.831276  \n",
       "SEAWALL CAMPGROUND (ME)   234674.0         0.753794  \n",
       "Blackwoods (ME)           232508.0         0.308017  "
      ]
     },
     "execution_count": 267,
     "metadata": {},
     "output_type": "execute_result"
    }
   ],
   "source": [
    "combined_rez[combined_rez['Park'].str.contains('Acadia')].groupby(['Site', 'FacilityID']).mean().sort_values(by = 'PercentBooked', ascending = False)"
   ]
  },
  {
   "cell_type": "code",
   "execution_count": 268,
   "metadata": {
    "scrolled": false
   },
   "outputs": [
    {
     "data": {
      "text/html": [
       "<div>\n",
       "<style scoped>\n",
       "    .dataframe tbody tr th:only-of-type {\n",
       "        vertical-align: middle;\n",
       "    }\n",
       "\n",
       "    .dataframe tbody tr th {\n",
       "        vertical-align: top;\n",
       "    }\n",
       "\n",
       "    .dataframe thead th {\n",
       "        text-align: right;\n",
       "    }\n",
       "</style>\n",
       "<table border=\"1\" class=\"dataframe\">\n",
       "  <thead>\n",
       "    <tr style=\"text-align: right;\">\n",
       "      <th></th>\n",
       "      <th>Date</th>\n",
       "      <th>FacilityID</th>\n",
       "      <th>Site</th>\n",
       "      <th>Park</th>\n",
       "      <th>Reservations</th>\n",
       "      <th>NumberOfPeople</th>\n",
       "      <th>SitesBooked</th>\n",
       "      <th>AvgStayLen</th>\n",
       "      <th>AvgBookingHorizon</th>\n",
       "      <th>AverageFee</th>\n",
       "      <th>DailyRevenue</th>\n",
       "      <th>SumHor</th>\n",
       "      <th>SumLen</th>\n",
       "      <th>SumFee</th>\n",
       "      <th>SitesAvailable</th>\n",
       "      <th>PercentBooked</th>\n",
       "    </tr>\n",
       "  </thead>\n",
       "  <tbody>\n",
       "    <tr>\n",
       "      <th>8</th>\n",
       "      <td>2013-10-02</td>\n",
       "      <td>232490.0</td>\n",
       "      <td>Mather Campground (AZ)</td>\n",
       "      <td>Grand Canyon National Park</td>\n",
       "      <td>1</td>\n",
       "      <td>1.0</td>\n",
       "      <td>1</td>\n",
       "      <td>2.0</td>\n",
       "      <td>1.0</td>\n",
       "      <td>18.000000</td>\n",
       "      <td>9.0</td>\n",
       "      <td>1.0</td>\n",
       "      <td>2.0</td>\n",
       "      <td>18.000000</td>\n",
       "      <td>356.0</td>\n",
       "      <td>0.002801</td>\n",
       "    </tr>\n",
       "    <tr>\n",
       "      <th>9</th>\n",
       "      <td>2013-10-02</td>\n",
       "      <td>232447.0</td>\n",
       "      <td>Upper Pines</td>\n",
       "      <td>Yosemite National Park</td>\n",
       "      <td>3</td>\n",
       "      <td>9.0</td>\n",
       "      <td>3</td>\n",
       "      <td>2.0</td>\n",
       "      <td>1.0</td>\n",
       "      <td>13.333333</td>\n",
       "      <td>20.0</td>\n",
       "      <td>3.0</td>\n",
       "      <td>6.0</td>\n",
       "      <td>39.999999</td>\n",
       "      <td>235.0</td>\n",
       "      <td>0.012605</td>\n",
       "    </tr>\n",
       "    <tr>\n",
       "      <th>15</th>\n",
       "      <td>2013-10-03</td>\n",
       "      <td>232490.0</td>\n",
       "      <td>Mather Campground (AZ)</td>\n",
       "      <td>Grand Canyon National Park</td>\n",
       "      <td>1</td>\n",
       "      <td>1.0</td>\n",
       "      <td>1</td>\n",
       "      <td>2.0</td>\n",
       "      <td>1.0</td>\n",
       "      <td>18.000000</td>\n",
       "      <td>9.0</td>\n",
       "      <td>1.0</td>\n",
       "      <td>2.0</td>\n",
       "      <td>18.000000</td>\n",
       "      <td>356.0</td>\n",
       "      <td>0.002801</td>\n",
       "    </tr>\n",
       "    <tr>\n",
       "      <th>17</th>\n",
       "      <td>2013-10-03</td>\n",
       "      <td>232447.0</td>\n",
       "      <td>Upper Pines</td>\n",
       "      <td>Yosemite National Park</td>\n",
       "      <td>3</td>\n",
       "      <td>9.0</td>\n",
       "      <td>3</td>\n",
       "      <td>2.0</td>\n",
       "      <td>1.0</td>\n",
       "      <td>13.333333</td>\n",
       "      <td>20.0</td>\n",
       "      <td>3.0</td>\n",
       "      <td>6.0</td>\n",
       "      <td>39.999999</td>\n",
       "      <td>235.0</td>\n",
       "      <td>0.012605</td>\n",
       "    </tr>\n",
       "    <tr>\n",
       "      <th>20</th>\n",
       "      <td>2013-10-04</td>\n",
       "      <td>232459.0</td>\n",
       "      <td>Big Meadows (VA)</td>\n",
       "      <td>Shenandoah National Park</td>\n",
       "      <td>1</td>\n",
       "      <td>5.0</td>\n",
       "      <td>1</td>\n",
       "      <td>2.0</td>\n",
       "      <td>3.0</td>\n",
       "      <td>0.000000</td>\n",
       "      <td>0.0</td>\n",
       "      <td>3.0</td>\n",
       "      <td>2.0</td>\n",
       "      <td>0.000000</td>\n",
       "      <td>220.0</td>\n",
       "      <td>0.004525</td>\n",
       "    </tr>\n",
       "  </tbody>\n",
       "</table>\n",
       "</div>"
      ],
      "text/plain": [
       "         Date  FacilityID                    Site                        Park  \\\n",
       "8  2013-10-02    232490.0  Mather Campground (AZ)  Grand Canyon National Park   \n",
       "9  2013-10-02    232447.0             Upper Pines      Yosemite National Park   \n",
       "15 2013-10-03    232490.0  Mather Campground (AZ)  Grand Canyon National Park   \n",
       "17 2013-10-03    232447.0             Upper Pines      Yosemite National Park   \n",
       "20 2013-10-04    232459.0        Big Meadows (VA)    Shenandoah National Park   \n",
       "\n",
       "    Reservations  NumberOfPeople  SitesBooked  AvgStayLen  AvgBookingHorizon  \\\n",
       "8              1             1.0            1         2.0                1.0   \n",
       "9              3             9.0            3         2.0                1.0   \n",
       "15             1             1.0            1         2.0                1.0   \n",
       "17             3             9.0            3         2.0                1.0   \n",
       "20             1             5.0            1         2.0                3.0   \n",
       "\n",
       "    AverageFee  DailyRevenue  SumHor  SumLen     SumFee  SitesAvailable  \\\n",
       "8    18.000000           9.0     1.0     2.0  18.000000           356.0   \n",
       "9    13.333333          20.0     3.0     6.0  39.999999           235.0   \n",
       "15   18.000000           9.0     1.0     2.0  18.000000           356.0   \n",
       "17   13.333333          20.0     3.0     6.0  39.999999           235.0   \n",
       "20    0.000000           0.0     3.0     2.0   0.000000           220.0   \n",
       "\n",
       "    PercentBooked  \n",
       "8        0.002801  \n",
       "9        0.012605  \n",
       "15       0.002801  \n",
       "17       0.012605  \n",
       "20       0.004525  "
      ]
     },
     "execution_count": 268,
     "metadata": {},
     "output_type": "execute_result"
    }
   ],
   "source": [
    "# create list of facility IDs for target campgrounds85598\n",
    "cg_target_ids = [232463, 232490, 232447, 232459, 232487, 232508, 234674]\n",
    "\n",
    "# create new dataframe from targets\n",
    "cg_target = combined_rez[combined_rez['FacilityID'].isin(cg_target_ids)]\n",
    "cg_target.head()"
   ]
  },
  {
   "cell_type": "code",
   "execution_count": 269,
   "metadata": {
    "scrolled": true
   },
   "outputs": [
    {
     "data": {
      "text/html": [
       "<div>\n",
       "<style scoped>\n",
       "    .dataframe tbody tr th:only-of-type {\n",
       "        vertical-align: middle;\n",
       "    }\n",
       "\n",
       "    .dataframe tbody tr th {\n",
       "        vertical-align: top;\n",
       "    }\n",
       "\n",
       "    .dataframe thead th {\n",
       "        text-align: right;\n",
       "    }\n",
       "</style>\n",
       "<table border=\"1\" class=\"dataframe\">\n",
       "  <thead>\n",
       "    <tr style=\"text-align: right;\">\n",
       "      <th></th>\n",
       "      <th>PercentBooked</th>\n",
       "      <th>NumberOfPeople</th>\n",
       "    </tr>\n",
       "    <tr>\n",
       "      <th>Site</th>\n",
       "      <th></th>\n",
       "      <th></th>\n",
       "    </tr>\n",
       "  </thead>\n",
       "  <tbody>\n",
       "    <tr>\n",
       "      <th>DUCK HARBOR CAMPGROUND</th>\n",
       "      <td>0.998701</td>\n",
       "      <td>27.610390</td>\n",
       "    </tr>\n",
       "    <tr>\n",
       "      <th>MANY GLACIER CAMPGROUND</th>\n",
       "      <td>0.982805</td>\n",
       "      <td>225.854406</td>\n",
       "    </tr>\n",
       "    <tr>\n",
       "      <th>BICENTENNIAL CAMPGROUND</th>\n",
       "      <td>0.969466</td>\n",
       "      <td>13.240458</td>\n",
       "    </tr>\n",
       "    <tr>\n",
       "      <th>Aspenglen Campground</th>\n",
       "      <td>0.969400</td>\n",
       "      <td>279.935535</td>\n",
       "    </tr>\n",
       "    <tr>\n",
       "      <th>Buckeye Flat Campground, Sequoia National Park (72462)</th>\n",
       "      <td>0.962906</td>\n",
       "      <td>181.544892</td>\n",
       "    </tr>\n",
       "    <tr>\n",
       "      <th>Crane Flat</th>\n",
       "      <td>0.955384</td>\n",
       "      <td>958.190948</td>\n",
       "    </tr>\n",
       "    <tr>\n",
       "      <th>Kalaloch (WA)</th>\n",
       "      <td>0.949720</td>\n",
       "      <td>903.646694</td>\n",
       "    </tr>\n",
       "    <tr>\n",
       "      <th>Summit Lake North (CA)</th>\n",
       "      <td>0.948788</td>\n",
       "      <td>139.159091</td>\n",
       "    </tr>\n",
       "    <tr>\n",
       "      <th>Sentinel Campground</th>\n",
       "      <td>0.943258</td>\n",
       "      <td>457.590604</td>\n",
       "    </tr>\n",
       "    <tr>\n",
       "      <th>Dry Creek Group Campground (Whiskeytown NRA) (CA)</th>\n",
       "      <td>0.936000</td>\n",
       "      <td>87.119111</td>\n",
       "    </tr>\n",
       "    <tr>\n",
       "      <th>Juniper Lake Group (CA), Organization: NATIONAL PARK SVC/LAVO/JUNIPER LAKE GROUP (CA)</th>\n",
       "      <td>0.928694</td>\n",
       "      <td>31.360825</td>\n",
       "    </tr>\n",
       "    <tr>\n",
       "      <th>Kenai Fjords National Park Cabins</th>\n",
       "      <td>0.926573</td>\n",
       "      <td>11.685315</td>\n",
       "    </tr>\n",
       "    <tr>\n",
       "      <th>Watchman (UT)</th>\n",
       "      <td>0.925554</td>\n",
       "      <td>1078.460285</td>\n",
       "    </tr>\n",
       "    <tr>\n",
       "      <th>Kirby Cove (CA)</th>\n",
       "      <td>0.924375</td>\n",
       "      <td>73.254386</td>\n",
       "    </tr>\n",
       "    <tr>\n",
       "      <th>BIG CREEK CAMPGROUND (GREAT SMOKY MOUNTAINS NATIONAL PARK)</th>\n",
       "      <td>0.910436</td>\n",
       "      <td>49.761682</td>\n",
       "    </tr>\n",
       "    <tr>\n",
       "      <th>Summit Lake South (CA)</th>\n",
       "      <td>0.909798</td>\n",
       "      <td>133.790404</td>\n",
       "    </tr>\n",
       "    <tr>\n",
       "      <th>CATALOOCHEE CAMPGROUND (NC)</th>\n",
       "      <td>0.907407</td>\n",
       "      <td>114.147581</td>\n",
       "    </tr>\n",
       "    <tr>\n",
       "      <th>Lower Goodell Group (WA)</th>\n",
       "      <td>0.897942</td>\n",
       "      <td>57.826758</td>\n",
       "    </tr>\n",
       "    <tr>\n",
       "      <th>Moraine Park (CO)</th>\n",
       "      <td>0.888838</td>\n",
       "      <td>1183.592593</td>\n",
       "    </tr>\n",
       "    <tr>\n",
       "      <th>Lower Pines</th>\n",
       "      <td>0.888678</td>\n",
       "      <td>503.762878</td>\n",
       "    </tr>\n",
       "  </tbody>\n",
       "</table>\n",
       "</div>"
      ],
      "text/plain": [
       "                                                    PercentBooked  \\\n",
       "Site                                                                \n",
       "DUCK HARBOR CAMPGROUND                                   0.998701   \n",
       "MANY GLACIER CAMPGROUND                                  0.982805   \n",
       "BICENTENNIAL CAMPGROUND                                  0.969466   \n",
       "Aspenglen Campground                                     0.969400   \n",
       "Buckeye Flat Campground, Sequoia National Park ...       0.962906   \n",
       "Crane Flat                                               0.955384   \n",
       "Kalaloch (WA)                                            0.949720   \n",
       "Summit Lake North (CA)                                   0.948788   \n",
       "Sentinel Campground                                      0.943258   \n",
       "Dry Creek Group Campground (Whiskeytown NRA) (CA)        0.936000   \n",
       "Juniper Lake Group (CA), Organization: NATIONAL...       0.928694   \n",
       "Kenai Fjords National Park Cabins                        0.926573   \n",
       "Watchman (UT)                                            0.925554   \n",
       "Kirby Cove (CA)                                          0.924375   \n",
       "BIG CREEK CAMPGROUND (GREAT SMOKY MOUNTAINS NAT...       0.910436   \n",
       "Summit Lake South (CA)                                   0.909798   \n",
       "CATALOOCHEE CAMPGROUND (NC)                              0.907407   \n",
       "Lower Goodell Group (WA)                                 0.897942   \n",
       "Moraine Park (CO)                                        0.888838   \n",
       "Lower Pines                                              0.888678   \n",
       "\n",
       "                                                    NumberOfPeople  \n",
       "Site                                                                \n",
       "DUCK HARBOR CAMPGROUND                                   27.610390  \n",
       "MANY GLACIER CAMPGROUND                                 225.854406  \n",
       "BICENTENNIAL CAMPGROUND                                  13.240458  \n",
       "Aspenglen Campground                                    279.935535  \n",
       "Buckeye Flat Campground, Sequoia National Park ...      181.544892  \n",
       "Crane Flat                                              958.190948  \n",
       "Kalaloch (WA)                                           903.646694  \n",
       "Summit Lake North (CA)                                  139.159091  \n",
       "Sentinel Campground                                     457.590604  \n",
       "Dry Creek Group Campground (Whiskeytown NRA) (CA)        87.119111  \n",
       "Juniper Lake Group (CA), Organization: NATIONAL...       31.360825  \n",
       "Kenai Fjords National Park Cabins                        11.685315  \n",
       "Watchman (UT)                                          1078.460285  \n",
       "Kirby Cove (CA)                                          73.254386  \n",
       "BIG CREEK CAMPGROUND (GREAT SMOKY MOUNTAINS NAT...       49.761682  \n",
       "Summit Lake South (CA)                                  133.790404  \n",
       "CATALOOCHEE CAMPGROUND (NC)                             114.147581  \n",
       "Lower Goodell Group (WA)                                 57.826758  \n",
       "Moraine Park (CO)                                      1183.592593  \n",
       "Lower Pines                                             503.762878  "
      ]
     },
     "execution_count": 269,
     "metadata": {},
     "output_type": "execute_result"
    }
   ],
   "source": [
    "# look at the averge percent booked and number of people for all campgrounds\n",
    "combined_rez.groupby(['Site']).agg({'PercentBooked': np.mean, 'NumberOfPeople': np.mean}).query('PercentBooked < 1.0').sort_values(by = 'PercentBooked', ascending = False).head(20)"
   ]
  },
  {
   "cell_type": "code",
   "execution_count": 270,
   "metadata": {
    "scrolled": false
   },
   "outputs": [
    {
     "data": {
      "text/html": [
       "<div>\n",
       "<style scoped>\n",
       "    .dataframe tbody tr th:only-of-type {\n",
       "        vertical-align: middle;\n",
       "    }\n",
       "\n",
       "    .dataframe tbody tr th {\n",
       "        vertical-align: top;\n",
       "    }\n",
       "\n",
       "    .dataframe thead th {\n",
       "        text-align: right;\n",
       "    }\n",
       "</style>\n",
       "<table border=\"1\" class=\"dataframe\">\n",
       "  <thead>\n",
       "    <tr style=\"text-align: right;\">\n",
       "      <th></th>\n",
       "      <th></th>\n",
       "      <th>Reservations</th>\n",
       "      <th>NumberOfPeople</th>\n",
       "      <th>SitesBooked</th>\n",
       "      <th>AvgStayLen</th>\n",
       "      <th>AvgBookingHorizon</th>\n",
       "      <th>AverageFee</th>\n",
       "      <th>DailyRevenue</th>\n",
       "      <th>SumHor</th>\n",
       "      <th>SumLen</th>\n",
       "      <th>SumFee</th>\n",
       "      <th>SitesAvailable</th>\n",
       "      <th>PercentBooked</th>\n",
       "    </tr>\n",
       "    <tr>\n",
       "      <th>Site</th>\n",
       "      <th>FacilityID</th>\n",
       "      <th></th>\n",
       "      <th></th>\n",
       "      <th></th>\n",
       "      <th></th>\n",
       "      <th></th>\n",
       "      <th></th>\n",
       "      <th></th>\n",
       "      <th></th>\n",
       "      <th></th>\n",
       "      <th></th>\n",
       "      <th></th>\n",
       "      <th></th>\n",
       "    </tr>\n",
       "  </thead>\n",
       "  <tbody>\n",
       "    <tr>\n",
       "      <th>Moraine Park (CO)</th>\n",
       "      <th>232463.0</th>\n",
       "      <td>370.561254</td>\n",
       "      <td>1183.592593</td>\n",
       "      <td>223.898860</td>\n",
       "      <td>3.751256</td>\n",
       "      <td>88.429046</td>\n",
       "      <td>33.707146</td>\n",
       "      <td>4640.484448</td>\n",
       "      <td>33387.870335</td>\n",
       "      <td>1362.599714</td>\n",
       "      <td>12196.601855</td>\n",
       "      <td>27.101140</td>\n",
       "      <td>0.888838</td>\n",
       "    </tr>\n",
       "    <tr>\n",
       "      <th>Elkmont Campground (TN)</th>\n",
       "      <th>232487.0</th>\n",
       "      <td>301.782139</td>\n",
       "      <td>900.811580</td>\n",
       "      <td>211.243376</td>\n",
       "      <td>9.658272</td>\n",
       "      <td>77.609700</td>\n",
       "      <td>42.036743</td>\n",
       "      <td>3251.919762</td>\n",
       "      <td>20595.390959</td>\n",
       "      <td>2609.922467</td>\n",
       "      <td>10710.246589</td>\n",
       "      <td>0.756624</td>\n",
       "      <td>0.888232</td>\n",
       "    </tr>\n",
       "    <tr>\n",
       "      <th>Upper Pines</th>\n",
       "      <th>232447.0</th>\n",
       "      <td>337.462694</td>\n",
       "      <td>1263.692163</td>\n",
       "      <td>208.871422</td>\n",
       "      <td>6.124716</td>\n",
       "      <td>74.412026</td>\n",
       "      <td>34.629054</td>\n",
       "      <td>4114.084245</td>\n",
       "      <td>23786.565521</td>\n",
       "      <td>1968.793523</td>\n",
       "      <td>10470.988285</td>\n",
       "      <td>29.128578</td>\n",
       "      <td>0.787635</td>\n",
       "    </tr>\n",
       "    <tr>\n",
       "      <th>Mather Campground (AZ)</th>\n",
       "      <th>232490.0</th>\n",
       "      <td>470.743282</td>\n",
       "      <td>1634.725127</td>\n",
       "      <td>284.968773</td>\n",
       "      <td>3.774028</td>\n",
       "      <td>79.632157</td>\n",
       "      <td>20.958058</td>\n",
       "      <td>4639.572854</td>\n",
       "      <td>16377.513562</td>\n",
       "      <td>1073.790121</td>\n",
       "      <td>6194.317188</td>\n",
       "      <td>72.031227</td>\n",
       "      <td>0.770159</td>\n",
       "    </tr>\n",
       "    <tr>\n",
       "      <th>SEAWALL CAMPGROUND (ME)</th>\n",
       "      <th>234674.0</th>\n",
       "      <td>217.855573</td>\n",
       "      <td>660.420722</td>\n",
       "      <td>153.791209</td>\n",
       "      <td>4.918416</td>\n",
       "      <td>62.079839</td>\n",
       "      <td>52.865389</td>\n",
       "      <td>3169.288795</td>\n",
       "      <td>14548.758252</td>\n",
       "      <td>1072.301411</td>\n",
       "      <td>11391.986533</td>\n",
       "      <td>50.208791</td>\n",
       "      <td>0.753794</td>\n",
       "    </tr>\n",
       "    <tr>\n",
       "      <th>Big Meadows (VA)</th>\n",
       "      <th>232459.0</th>\n",
       "      <td>171.742157</td>\n",
       "      <td>573.401961</td>\n",
       "      <td>134.431373</td>\n",
       "      <td>8.117755</td>\n",
       "      <td>66.673002</td>\n",
       "      <td>35.114808</td>\n",
       "      <td>1824.477456</td>\n",
       "      <td>10636.653786</td>\n",
       "      <td>1234.251956</td>\n",
       "      <td>4940.517022</td>\n",
       "      <td>86.568627</td>\n",
       "      <td>0.589726</td>\n",
       "    </tr>\n",
       "    <tr>\n",
       "      <th>Blackwoods (ME)</th>\n",
       "      <th>232508.0</th>\n",
       "      <td>292.576067</td>\n",
       "      <td>822.264378</td>\n",
       "      <td>88.075139</td>\n",
       "      <td>5.893706</td>\n",
       "      <td>55.055221</td>\n",
       "      <td>59.626167</td>\n",
       "      <td>4800.305009</td>\n",
       "      <td>18221.658444</td>\n",
       "      <td>1492.089980</td>\n",
       "      <td>16606.527662</td>\n",
       "      <td>192.924861</td>\n",
       "      <td>0.308017</td>\n",
       "    </tr>\n",
       "  </tbody>\n",
       "</table>\n",
       "</div>"
      ],
      "text/plain": [
       "                                    Reservations  NumberOfPeople  SitesBooked  \\\n",
       "Site                    FacilityID                                              \n",
       "Moraine Park (CO)       232463.0      370.561254     1183.592593   223.898860   \n",
       "Elkmont Campground (TN) 232487.0      301.782139      900.811580   211.243376   \n",
       "Upper Pines             232447.0      337.462694     1263.692163   208.871422   \n",
       "Mather Campground (AZ)  232490.0      470.743282     1634.725127   284.968773   \n",
       "SEAWALL CAMPGROUND (ME) 234674.0      217.855573      660.420722   153.791209   \n",
       "Big Meadows (VA)        232459.0      171.742157      573.401961   134.431373   \n",
       "Blackwoods (ME)         232508.0      292.576067      822.264378    88.075139   \n",
       "\n",
       "                                    AvgStayLen  AvgBookingHorizon  AverageFee  \\\n",
       "Site                    FacilityID                                              \n",
       "Moraine Park (CO)       232463.0      3.751256          88.429046   33.707146   \n",
       "Elkmont Campground (TN) 232487.0      9.658272          77.609700   42.036743   \n",
       "Upper Pines             232447.0      6.124716          74.412026   34.629054   \n",
       "Mather Campground (AZ)  232490.0      3.774028          79.632157   20.958058   \n",
       "SEAWALL CAMPGROUND (ME) 234674.0      4.918416          62.079839   52.865389   \n",
       "Big Meadows (VA)        232459.0      8.117755          66.673002   35.114808   \n",
       "Blackwoods (ME)         232508.0      5.893706          55.055221   59.626167   \n",
       "\n",
       "                                    DailyRevenue        SumHor       SumLen  \\\n",
       "Site                    FacilityID                                            \n",
       "Moraine Park (CO)       232463.0     4640.484448  33387.870335  1362.599714   \n",
       "Elkmont Campground (TN) 232487.0     3251.919762  20595.390959  2609.922467   \n",
       "Upper Pines             232447.0     4114.084245  23786.565521  1968.793523   \n",
       "Mather Campground (AZ)  232490.0     4639.572854  16377.513562  1073.790121   \n",
       "SEAWALL CAMPGROUND (ME) 234674.0     3169.288795  14548.758252  1072.301411   \n",
       "Big Meadows (VA)        232459.0     1824.477456  10636.653786  1234.251956   \n",
       "Blackwoods (ME)         232508.0     4800.305009  18221.658444  1492.089980   \n",
       "\n",
       "                                          SumFee  SitesAvailable  \\\n",
       "Site                    FacilityID                                 \n",
       "Moraine Park (CO)       232463.0    12196.601855       27.101140   \n",
       "Elkmont Campground (TN) 232487.0    10710.246589        0.756624   \n",
       "Upper Pines             232447.0    10470.988285       29.128578   \n",
       "Mather Campground (AZ)  232490.0     6194.317188       72.031227   \n",
       "SEAWALL CAMPGROUND (ME) 234674.0    11391.986533       50.208791   \n",
       "Big Meadows (VA)        232459.0     4940.517022       86.568627   \n",
       "Blackwoods (ME)         232508.0    16606.527662      192.924861   \n",
       "\n",
       "                                    PercentBooked  \n",
       "Site                    FacilityID                 \n",
       "Moraine Park (CO)       232463.0         0.888838  \n",
       "Elkmont Campground (TN) 232487.0         0.888232  \n",
       "Upper Pines             232447.0         0.787635  \n",
       "Mather Campground (AZ)  232490.0         0.770159  \n",
       "SEAWALL CAMPGROUND (ME) 234674.0         0.753794  \n",
       "Big Meadows (VA)        232459.0         0.589726  \n",
       "Blackwoods (ME)         232508.0         0.308017  "
      ]
     },
     "execution_count": 270,
     "metadata": {},
     "output_type": "execute_result"
    }
   ],
   "source": [
    "# look at average values for target campgrounds\n",
    "cg_target.groupby(['Site', 'FacilityID']).mean().sort_values(by = 'PercentBooked', ascending = False)"
   ]
  },
  {
   "cell_type": "code",
   "execution_count": 271,
   "metadata": {
    "scrolled": true
   },
   "outputs": [],
   "source": [
    "# percent booked group\n",
    "# due to erroneous data, sites with an average percent booked of 100% are not included\n",
    "pb_group = combined_rez.groupby(['Site']).agg({'PercentBooked': np.mean}).query('PercentBooked < 1').sort_values(by = 'PercentBooked', ascending = False).head(20)"
   ]
  },
  {
   "cell_type": "code",
   "execution_count": 272,
   "metadata": {},
   "outputs": [
    {
     "data": {
      "text/plain": [
       "<BarContainer object of 20 artists>"
      ]
     },
     "execution_count": 272,
     "metadata": {},
     "output_type": "execute_result"
    },
    {
     "data": {
      "image/png": "[encoded data removed]",
      "text/plain": [
       "<Figure size 864x576 with 1 Axes>"
      ]
     },
     "metadata": {
      "needs_background": "light"
     },
     "output_type": "display_data"
    }
   ],
   "source": [
    "plt.figure(figsize = (12, 8))\n",
    "plt.barh(pb_group.index, pb_group['PercentBooked'])"
   ]
  },
  {
   "cell_type": "code",
   "execution_count": 273,
   "metadata": {},
   "outputs": [],
   "source": [
    "# define function to plot daily campsite data\n",
    "def top_site_data(df, column, by = 'Site'):\n",
    "    \n",
    "    df_group = combined_rez.groupby([by]).agg({column: np.mean}).sort_values(by = column, ascending = False).head(20)\n",
    "    \n",
    "    plt.figure(figsize = (12, 8))\n",
    "    plt.barh(df_group.index, df_group[column])"
   ]
  },
  {
   "cell_type": "code",
   "execution_count": 274,
   "metadata": {},
   "outputs": [
    {
     "data": {
      "image/png": "[encoded data removed]",
      "text/plain": [
       "<Figure size 864x576 with 1 Axes>"
      ]
     },
     "metadata": {
      "needs_background": "light"
     },
     "output_type": "display_data"
    }
   ],
   "source": [
    "top_site_data(combined_rez, 'NumberOfPeople')"
   ]
  },
  {
   "cell_type": "code",
   "execution_count": 275,
   "metadata": {},
   "outputs": [
    {
     "data": {
      "image/png": "[encoded data removed]",
      "text/plain": [
       "<Figure size 864x576 with 1 Axes>"
      ]
     },
     "metadata": {
      "needs_background": "light"
     },
     "output_type": "display_data"
    }
   ],
   "source": [
    "top_site_data(combined_rez, 'SitesBooked')"
   ]
  },
  {
   "cell_type": "code",
   "execution_count": 276,
   "metadata": {},
   "outputs": [
    {
     "data": {
      "image/png": "[encoded data removed]",
      "text/plain": [
       "<Figure size 864x576 with 1 Axes>"
      ]
     },
     "metadata": {
      "needs_background": "light"
     },
     "output_type": "display_data"
    }
   ],
   "source": [
    "top_site_data(combined_rez, 'AvgStayLen')"
   ]
  },
  {
   "cell_type": "code",
   "execution_count": 277,
   "metadata": {
    "scrolled": true
   },
   "outputs": [
    {
     "data": {
      "image/png": "[encoded data removed]",
      "text/plain": [
       "<Figure size 864x576 with 1 Axes>"
      ]
     },
     "metadata": {
      "needs_background": "light"
     },
     "output_type": "display_data"
    }
   ],
   "source": [
    "top_site_data(combined_rez, 'AvgBookingHorizon')"
   ]
  },
  {
   "cell_type": "code",
   "execution_count": 278,
   "metadata": {
    "scrolled": true
   },
   "outputs": [
    {
     "data": {
      "text/plain": [
       "[232463, 232490, 232447, 232459, 232487, 232508, 234674]"
      ]
     },
     "execution_count": 278,
     "metadata": {},
     "output_type": "execute_result"
    }
   ],
   "source": [
    "cg_target_ids"
   ]
  },
  {
   "cell_type": "code",
   "execution_count": 279,
   "metadata": {
    "scrolled": true
   },
   "outputs": [],
   "source": [
    "def site_df (df, fid, sites):\n",
    "    new_df = df[df['FacilityID'] == fid]\n",
    "    idx = pd.date_range(new_df['Date'].min(), new_df['Date'].max())\n",
    "\n",
    "    site_name = sites.loc[sites['FacilityID'] == fid]['Site'].values[0]\n",
    "    park_name = df.loc[df['FacilityID'] == fid]['Park'].values[0]\n",
    "\n",
    "    new_df.index = pd.DatetimeIndex(new_df['Date'])\n",
    "    new_df = new_df[~new_df.index.duplicated(keep='first')]\n",
    "    new_df = new_df.reindex(idx, fill_value = 0)\n",
    "\n",
    "    new_df['Site'] = site_name\n",
    "    new_df['Date'] = new_df.index\n",
    "    new_df['Park'] = park_name\n",
    "    new_df['FacilityID'] = fid\n",
    "    \n",
    "    return new_df"
   ]
  },
  {
   "cell_type": "code",
   "execution_count": 280,
   "metadata": {
    "scrolled": true
   },
   "outputs": [],
   "source": [
    "moraine = site_df(cg_target, 232463, site_data)"
   ]
  },
  {
   "cell_type": "code",
   "execution_count": 281,
   "metadata": {
    "scrolled": true
   },
   "outputs": [
    {
     "data": {
      "text/plain": [
       "<matplotlib.axes._subplots.AxesSubplot at 0x2093a41fe80>"
      ]
     },
     "execution_count": 281,
     "metadata": {},
     "output_type": "execute_result"
    },
    {
     "data": {
      "image/png": "[encoded data removed]",
      "text/plain": [
       "<Figure size 432x288 with 1 Axes>"
      ]
     },
     "metadata": {
      "needs_background": "light"
     },
     "output_type": "display_data"
    }
   ],
   "source": [
    "moraine['PercentBooked'].plot()"
   ]
  },
  {
   "cell_type": "code",
   "execution_count": 282,
   "metadata": {
    "scrolled": true
   },
   "outputs": [],
   "source": [
    "mather = site_df(cg_target, 232490, site_data)"
   ]
  },
  {
   "cell_type": "code",
   "execution_count": 285,
   "metadata": {
    "scrolled": true
   },
   "outputs": [
    {
     "data": {
      "text/plain": [
       "<matplotlib.axes._subplots.AxesSubplot at 0x2096d657390>"
      ]
     },
     "execution_count": 285,
     "metadata": {},
     "output_type": "execute_result"
    },
    {
     "data": {
      "image/png": "[encoded data removed]",
      "text/plain": [
       "<Figure size 432x288 with 1 Axes>"
      ]
     },
     "metadata": {
      "needs_background": "light"
     },
     "output_type": "display_data"
    }
   ],
   "source": [
    "mather['PercentBooked'].plot()"
   ]
  },
  {
   "cell_type": "code",
   "execution_count": 287,
   "metadata": {},
   "outputs": [],
   "source": [
    "blackwoods = site_df(cg_target, 232508, site_data)"
   ]
  },
  {
   "cell_type": "code",
   "execution_count": 288,
   "metadata": {},
   "outputs": [
    {
     "data": {
      "text/plain": [
       "<matplotlib.axes._subplots.AxesSubplot at 0x209855e52e8>"
      ]
     },
     "execution_count": 288,
     "metadata": {},
     "output_type": "execute_result"
    },
    {
     "data": {
      "image/png": "[encoded data removed]",
      "text/plain": [
       "<Figure size 432x288 with 1 Axes>"
      ]
     },
     "metadata": {
      "needs_background": "light"
     },
     "output_type": "display_data"
    }
   ],
   "source": [
    "blackwoods['PercentBooked'].plot()"
   ]
  },
  {
   "cell_type": "code",
   "execution_count": 289,
   "metadata": {},
   "outputs": [],
   "source": [
    "upper_pines = site_df(cg_target, 232447, site_data)"
   ]
  },
  {
   "cell_type": "code",
   "execution_count": 290,
   "metadata": {
    "scrolled": false
   },
   "outputs": [
    {
     "data": {
      "text/plain": [
       "<matplotlib.axes._subplots.AxesSubplot at 0x2097dadccc0>"
      ]
     },
     "execution_count": 290,
     "metadata": {},
     "output_type": "execute_result"
    },
    {
     "data": {
      "image/png": "[encoded data removed]",
      "text/plain": [
       "<Figure size 432x288 with 1 Axes>"
      ]
     },
     "metadata": {
      "needs_background": "light"
     },
     "output_type": "display_data"
    }
   ],
   "source": [
    "upper_pines['PercentBooked'].plot()"
   ]
  },
  {
   "cell_type": "code",
   "execution_count": 291,
   "metadata": {},
   "outputs": [],
   "source": [
    "big_meadow = site_df(cg_target, 232459, site_data)"
   ]
  },
  {
   "cell_type": "code",
   "execution_count": 292,
   "metadata": {
    "scrolled": true
   },
   "outputs": [
    {
     "data": {
      "text/plain": [
       "<matplotlib.axes._subplots.AxesSubplot at 0x20982e64ac8>"
      ]
     },
     "execution_count": 292,
     "metadata": {},
     "output_type": "execute_result"
    },
    {
     "data": {
      "image/png": "[encoded data removed]",
      "text/plain": [
       "<Figure size 432x288 with 1 Axes>"
      ]
     },
     "metadata": {
      "needs_background": "light"
     },
     "output_type": "display_data"
    }
   ],
   "source": [
    "big_meadow['PercentBooked'].plot()"
   ]
  },
  {
   "cell_type": "code",
   "execution_count": 293,
   "metadata": {},
   "outputs": [],
   "source": [
    "elkmont = site_df(cg_target, 232487, site_data)"
   ]
  },
  {
   "cell_type": "code",
   "execution_count": 294,
   "metadata": {
    "scrolled": true
   },
   "outputs": [
    {
     "data": {
      "text/plain": [
       "<matplotlib.axes._subplots.AxesSubplot at 0x20980a9e198>"
      ]
     },
     "execution_count": 294,
     "metadata": {},
     "output_type": "execute_result"
    },
    {
     "data": {
      "image/png": "[encoded data removed]",
      "text/plain": [
       "<Figure size 432x288 with 1 Axes>"
      ]
     },
     "metadata": {
      "needs_background": "light"
     },
     "output_type": "display_data"
    }
   ],
   "source": [
    "elkmont['PercentBooked'].plot()"
   ]
  },
  {
   "cell_type": "code",
   "execution_count": 295,
   "metadata": {},
   "outputs": [],
   "source": [
    "seawall = site_df(cg_target, 234674, site_data)"
   ]
  },
  {
   "cell_type": "code",
   "execution_count": 296,
   "metadata": {
    "scrolled": true
   },
   "outputs": [
    {
     "data": {
      "text/plain": [
       "<matplotlib.axes._subplots.AxesSubplot at 0x20980a9e0f0>"
      ]
     },
     "execution_count": 296,
     "metadata": {},
     "output_type": "execute_result"
    },
    {
     "data": {
      "image/png": "[encoded data removed]",
      "text/plain": [
       "<Figure size 432x288 with 1 Axes>"
      ]
     },
     "metadata": {
      "needs_background": "light"
     },
     "output_type": "display_data"
    }
   ],
   "source": [
    "seawall['PercentBooked'].plot()"
   ]
  },
  {
   "cell_type": "code",
   "execution_count": 297,
   "metadata": {},
   "outputs": [],
   "source": [
    "lodgepole = site_df(combined_rez, 232461, site_data)"
   ]
  },
  {
   "cell_type": "code",
   "execution_count": 298,
   "metadata": {
    "scrolled": true
   },
   "outputs": [
    {
     "data": {
      "text/plain": [
       "<matplotlib.axes._subplots.AxesSubplot at 0x2096b345198>"
      ]
     },
     "execution_count": 298,
     "metadata": {},
     "output_type": "execute_result"
    },
    {
     "data": {
      "image/png": "[encoded data removed]",
      "text/plain": [
       "<Figure size 432x288 with 1 Axes>"
      ]
     },
     "metadata": {
      "needs_background": "light"
     },
     "output_type": "display_data"
    }
   ],
   "source": [
    "lodgepole['PercentBooked'].plot()"
   ]
  },
  {
   "cell_type": "code",
   "execution_count": 299,
   "metadata": {},
   "outputs": [],
   "source": [
    "#export to csv\n",
    "moraine.to_csv( \"./data/Aggregated-Data/moraine_agg.csv\", index=False, encoding='utf-8-sig')\n",
    "mather.to_csv( \"./data/Aggregated-Data/mather_agg.csv\", index=False, encoding='utf-8-sig')\n",
    "big_meadow.to_csv( \"./data/Aggregated-Data/bigmeadow_agg.csv\", index=False, encoding='utf-8-sig')\n",
    "upper_pines.to_csv( \"./data/Aggregated-Data/upperpines_agg.csv\", index=False, encoding='utf-8-sig')\n",
    "blackwoods.to_csv( \"./data/Aggregated-Data/blackwoods_agg.csv\", index=False, encoding='utf-8-sig')\n",
    "elkmont.to_csv( \"./data/Aggregated-Data/elkmont_agg.csv\", index=False, encoding='utf-8-sig')\n",
    "seawall.to_csv( \"./data/Aggregated-Data/seawall_agg.csv\", index=False, encoding='utf-8-sig')\n",
    "lodgepole.to_csv( \"./data/Aggregated-Data/lodgepole_agg.csv\", index=False, encoding='utf-8-sig')"
   ]
  },
  {
   "cell_type": "code",
   "execution_count": null,
   "metadata": {},
   "outputs": [],
   "source": []
  }
 ],
 "metadata": {
  "kernelspec": {
   "display_name": "Python [conda env:dsi] *",
   "language": "python",
   "name": "conda-env-dsi-py"
  },
  "language_info": {
   "codemirror_mode": {
    "name": "ipython",
    "version": 3
   },
   "file_extension": ".py",
   "mimetype": "text/x-python",
   "name": "python",
   "nbconvert_exporter": "python",
   "pygments_lexer": "ipython3",
   "version": "3.7.3"
  }
 },
 "nbformat": 4,
 "nbformat_minor": 2
}
