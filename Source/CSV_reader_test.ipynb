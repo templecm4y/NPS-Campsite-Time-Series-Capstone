{
 "cells": [
  {
   "cell_type": "code",
   "execution_count": 39,
   "metadata": {
    "scrolled": false
   },
   "outputs": [],
   "source": [
    "import chardet\n",
    "import numpy as np\n",
    "import pandas as pd\n",
    "import codecs"
   ]
  },
  {
   "cell_type": "code",
   "execution_count": 30,
   "metadata": {
    "scrolled": true
   },
   "outputs": [],
   "source": [
    "file = './reservations2018.csv'"
   ]
  },
  {
   "cell_type": "code",
   "execution_count": 46,
   "metadata": {
    "scrolled": true
   },
   "outputs": [
    {
     "data": {
      "text/html": [
       "<div>\n",
       "<style scoped>\n",
       "    .dataframe tbody tr th:only-of-type {\n",
       "        vertical-align: middle;\n",
       "    }\n",
       "\n",
       "    .dataframe tbody tr th {\n",
       "        vertical-align: top;\n",
       "    }\n",
       "\n",
       "    .dataframe thead th {\n",
       "        text-align: right;\n",
       "    }\n",
       "</style>\n",
       "<table border=\"1\" class=\"dataframe\">\n",
       "  <thead>\n",
       "    <tr style=\"text-align: right;\">\n",
       "      <th></th>\n",
       "      <th>HistoricalReservationID</th>\n",
       "      <th>OrderNumber</th>\n",
       "      <th>Agency</th>\n",
       "      <th>OrgID</th>\n",
       "      <th>CodeHierarchy</th>\n",
       "      <th>RegionCode</th>\n",
       "      <th>RegionDescription</th>\n",
       "      <th>ParentLocationID</th>\n",
       "      <th>ParentLocation</th>\n",
       "      <th>LegacyFacilityID</th>\n",
       "      <th>...</th>\n",
       "      <th>Bus</th>\n",
       "      <th>Bicycle</th>\n",
       "      <th>Snowmobile</th>\n",
       "      <th>OffRoadlAllTerrainVehicle</th>\n",
       "      <th>PowerBoat</th>\n",
       "      <th>PickupCamper</th>\n",
       "      <th>LargeTentOver9x12</th>\n",
       "      <th>SmallTent</th>\n",
       "      <th>Marinaboat</th>\n",
       "      <th>LatLongPoint</th>\n",
       "    </tr>\n",
       "  </thead>\n",
       "  <tbody>\n",
       "    <tr>\n",
       "      <th>0</th>\n",
       "      <td>2976269875</td>\n",
       "      <td>4-4358197</td>\n",
       "      <td>NPS</td>\n",
       "      <td>128</td>\n",
       "      <td>|1|70904|74265|70710|70711|</td>\n",
       "      <td>KLGO-9825</td>\n",
       "      <td>Klondike Gold Rush National Historical Park</td>\n",
       "      <td>74265</td>\n",
       "      <td>Alaska Region</td>\n",
       "      <td>70711</td>\n",
       "      <td>...</td>\n",
       "      <td>NaN</td>\n",
       "      <td>NaN</td>\n",
       "      <td>NaN</td>\n",
       "      <td>NaN</td>\n",
       "      <td>NaN</td>\n",
       "      <td>NaN</td>\n",
       "      <td>NaN</td>\n",
       "      <td>NaN</td>\n",
       "      <td>NaN</td>\n",
       "      <td>&lt;e6100000 010cabaa aaaaaaba 4d40610b b6600bea ...</td>\n",
       "    </tr>\n",
       "    <tr>\n",
       "      <th>1</th>\n",
       "      <td>2976269875</td>\n",
       "      <td>4-4358197</td>\n",
       "      <td>NPS</td>\n",
       "      <td>128</td>\n",
       "      <td>|1|70904|74265|70710|70711|</td>\n",
       "      <td>KLGO-9825</td>\n",
       "      <td>Klondike Gold Rush National Historical Park</td>\n",
       "      <td>74265</td>\n",
       "      <td>Alaska Region</td>\n",
       "      <td>70711</td>\n",
       "      <td>...</td>\n",
       "      <td>NaN</td>\n",
       "      <td>NaN</td>\n",
       "      <td>NaN</td>\n",
       "      <td>NaN</td>\n",
       "      <td>NaN</td>\n",
       "      <td>NaN</td>\n",
       "      <td>NaN</td>\n",
       "      <td>NaN</td>\n",
       "      <td>NaN</td>\n",
       "      <td>&lt;e6100000 010cabaa aaaaaaba 4d40610b b6600bea ...</td>\n",
       "    </tr>\n",
       "    <tr>\n",
       "      <th>2</th>\n",
       "      <td>2976269875</td>\n",
       "      <td>4-4358197</td>\n",
       "      <td>NPS</td>\n",
       "      <td>128</td>\n",
       "      <td>|1|70904|74265|70710|70711|</td>\n",
       "      <td>KLGO-9825</td>\n",
       "      <td>Klondike Gold Rush National Historical Park</td>\n",
       "      <td>74265</td>\n",
       "      <td>Alaska Region</td>\n",
       "      <td>70711</td>\n",
       "      <td>...</td>\n",
       "      <td>NaN</td>\n",
       "      <td>NaN</td>\n",
       "      <td>NaN</td>\n",
       "      <td>NaN</td>\n",
       "      <td>NaN</td>\n",
       "      <td>NaN</td>\n",
       "      <td>NaN</td>\n",
       "      <td>NaN</td>\n",
       "      <td>NaN</td>\n",
       "      <td>&lt;e6100000 010cabaa aaaaaaba 4d40610b b6600bea ...</td>\n",
       "    </tr>\n",
       "    <tr>\n",
       "      <th>3</th>\n",
       "      <td>2976371845</td>\n",
       "      <td>4-4358345</td>\n",
       "      <td>NPS</td>\n",
       "      <td>128</td>\n",
       "      <td>|1|70904|74265|70710|70711|</td>\n",
       "      <td>KLGO-9825</td>\n",
       "      <td>Klondike Gold Rush National Historical Park</td>\n",
       "      <td>74265</td>\n",
       "      <td>Alaska Region</td>\n",
       "      <td>70711</td>\n",
       "      <td>...</td>\n",
       "      <td>NaN</td>\n",
       "      <td>NaN</td>\n",
       "      <td>NaN</td>\n",
       "      <td>NaN</td>\n",
       "      <td>NaN</td>\n",
       "      <td>NaN</td>\n",
       "      <td>NaN</td>\n",
       "      <td>NaN</td>\n",
       "      <td>NaN</td>\n",
       "      <td>&lt;e6100000 010cabaa aaaaaaba 4d40610b b6600bea ...</td>\n",
       "    </tr>\n",
       "    <tr>\n",
       "      <th>4</th>\n",
       "      <td>2976358486</td>\n",
       "      <td>4-4358374</td>\n",
       "      <td>NPS</td>\n",
       "      <td>128</td>\n",
       "      <td>|1|70904|74265|70710|70711|</td>\n",
       "      <td>KLGO-9825</td>\n",
       "      <td>Klondike Gold Rush National Historical Park</td>\n",
       "      <td>74265</td>\n",
       "      <td>Alaska Region</td>\n",
       "      <td>70711</td>\n",
       "      <td>...</td>\n",
       "      <td>NaN</td>\n",
       "      <td>NaN</td>\n",
       "      <td>NaN</td>\n",
       "      <td>NaN</td>\n",
       "      <td>NaN</td>\n",
       "      <td>NaN</td>\n",
       "      <td>NaN</td>\n",
       "      <td>NaN</td>\n",
       "      <td>NaN</td>\n",
       "      <td>&lt;e6100000 010cabaa aaaaaaba 4d40610b b6600bea ...</td>\n",
       "    </tr>\n",
       "  </tbody>\n",
       "</table>\n",
       "<p>5 rows × 57 columns</p>\n",
       "</div>"
      ],
      "text/plain": [
       "   HistoricalReservationID OrderNumber Agency  OrgID  \\\n",
       "0               2976269875   4-4358197    NPS    128   \n",
       "1               2976269875   4-4358197    NPS    128   \n",
       "2               2976269875   4-4358197    NPS    128   \n",
       "3               2976371845   4-4358345    NPS    128   \n",
       "4               2976358486   4-4358374    NPS    128   \n",
       "\n",
       "                 CodeHierarchy RegionCode  \\\n",
       "0  |1|70904|74265|70710|70711|  KLGO-9825   \n",
       "1  |1|70904|74265|70710|70711|  KLGO-9825   \n",
       "2  |1|70904|74265|70710|70711|  KLGO-9825   \n",
       "3  |1|70904|74265|70710|70711|  KLGO-9825   \n",
       "4  |1|70904|74265|70710|70711|  KLGO-9825   \n",
       "\n",
       "                             RegionDescription  ParentLocationID  \\\n",
       "0  Klondike Gold Rush National Historical Park             74265   \n",
       "1  Klondike Gold Rush National Historical Park             74265   \n",
       "2  Klondike Gold Rush National Historical Park             74265   \n",
       "3  Klondike Gold Rush National Historical Park             74265   \n",
       "4  Klondike Gold Rush National Historical Park             74265   \n",
       "\n",
       "  ParentLocation  LegacyFacilityID  ... Bus Bicycle  Snowmobile  \\\n",
       "0  Alaska Region             70711  ... NaN     NaN         NaN   \n",
       "1  Alaska Region             70711  ... NaN     NaN         NaN   \n",
       "2  Alaska Region             70711  ... NaN     NaN         NaN   \n",
       "3  Alaska Region             70711  ... NaN     NaN         NaN   \n",
       "4  Alaska Region             70711  ... NaN     NaN         NaN   \n",
       "\n",
       "   OffRoadlAllTerrainVehicle PowerBoat  PickupCamper  LargeTentOver9x12  \\\n",
       "0                        NaN       NaN           NaN                NaN   \n",
       "1                        NaN       NaN           NaN                NaN   \n",
       "2                        NaN       NaN           NaN                NaN   \n",
       "3                        NaN       NaN           NaN                NaN   \n",
       "4                        NaN       NaN           NaN                NaN   \n",
       "\n",
       "   SmallTent Marinaboat                                       LatLongPoint  \n",
       "0        NaN        NaN  <e6100000 010cabaa aaaaaaba 4d40610b b6600bea ...  \n",
       "1        NaN        NaN  <e6100000 010cabaa aaaaaaba 4d40610b b6600bea ...  \n",
       "2        NaN        NaN  <e6100000 010cabaa aaaaaaba 4d40610b b6600bea ...  \n",
       "3        NaN        NaN  <e6100000 010cabaa aaaaaaba 4d40610b b6600bea ...  \n",
       "4        NaN        NaN  <e6100000 010cabaa aaaaaaba 4d40610b b6600bea ...  \n",
       "\n",
       "[5 rows x 57 columns]"
      ]
     },
     "execution_count": 46,
     "metadata": {},
     "output_type": "execute_result"
    }
   ],
   "source": [
    "pd.read_csv(file, nrows=5)"
   ]
  },
  {
   "cell_type": "code",
   "execution_count": 40,
   "metadata": {
    "scrolled": false
   },
   "outputs": [
    {
     "name": "stderr",
     "output_type": "stream",
     "text": [
      "/anaconda3/envs/dsi/lib/python3.7/site-packages/IPython/core/interactiveshell.py:3049: DtypeWarning: Columns (12,17,29,31,55) have mixed types. Specify dtype option on import or set low_memory=False.\n",
      "  interactivity=interactivity, compiler=compiler, result=result)\n"
     ]
    }
   ],
   "source": [
    "# attempt to load the data using various codecs\n",
    "types_of_encoding = [\"utf8\", \"cp1252\"]\n",
    "for encoding_type in types_of_encoding:\n",
    "    with codecs.open(file, encoding = encoding_type, errors ='replace') as csvfile:\n",
    "        csv = pd.read_csv(csvfile)"
   ]
  },
  {
   "cell_type": "code",
   "execution_count": 45,
   "metadata": {},
   "outputs": [
    {
     "data": {
      "text/plain": [
       "(3299805, 57)"
      ]
     },
     "execution_count": 45,
     "metadata": {},
     "output_type": "execute_result"
    }
   ],
   "source": [
    "csv.shape"
   ]
  },
  {
   "cell_type": "code",
   "execution_count": 52,
   "metadata": {},
   "outputs": [],
   "source": [
    "# get only reservations from the National Park Service, OrdID of 128\n",
    "csv = csv[csv['OrgID'] == 128]"
   ]
  },
  {
   "cell_type": "code",
   "execution_count": 58,
   "metadata": {},
   "outputs": [],
   "source": [
    "# get only site type entities\n",
    "csv = csv[csv['EntityType'] == 'Site']"
   ]
  },
  {
   "cell_type": "code",
   "execution_count": 77,
   "metadata": {},
   "outputs": [],
   "source": [
    "# convert date columns to datetime, y-m-d\n",
    "csv['EndDate'] = pd.to_datetime(csv['EndDate'], format= '%Y-%m-%d')\n",
    "csv['StartDate'] = pd.to_datetime(csv['StartDate'], format= '%Y-%m-%d')\n",
    "csv['OrderDate'] = pd.to_datetime(csv['OrderDate'], format= '%Y-%m-%d')"
   ]
  },
  {
   "cell_type": "code",
   "execution_count": 80,
   "metadata": {
    "scrolled": true
   },
   "outputs": [
    {
     "data": {
      "text/plain": [
       "OrderDate    datetime64[ns]\n",
       "StartDate    datetime64[ns]\n",
       "EndDate      datetime64[ns]\n",
       "dtype: object"
      ]
     },
     "execution_count": 80,
     "metadata": {},
     "output_type": "execute_result"
    }
   ],
   "source": [
    "csv[['OrderDate', 'StartDate', 'EndDate']].dtypes"
   ]
  },
  {
   "cell_type": "code",
   "execution_count": 84,
   "metadata": {
    "scrolled": true
   },
   "outputs": [
    {
     "data": {
      "text/plain": [
       "Index(['HistoricalReservationID', 'OrderNumber', 'Agency', 'OrgID',\n",
       "       'CodeHierarchy', 'RegionCode', 'RegionDescription', 'ParentLocationID',\n",
       "       'ParentLocation', 'LegacyFacilityID', 'Park', 'SiteType', 'UseType',\n",
       "       'ProductID', 'EntityType', 'EntityID', 'FacilityID', 'FacilityZIP',\n",
       "       'FacilityState', 'FacilityLongitude', 'FacilityLatitude', 'CustomerZIP',\n",
       "       'CustomerState', 'CustomerCountry', 'Tax', 'UseFee', 'TranFee',\n",
       "       'AttrFee', 'TotalBeforeTax', 'TotalPaid', 'StartDate', 'EndDate',\n",
       "       'OrderDate', 'NumberOfPeople', 'Tent', 'Popup', 'Trailer',\n",
       "       'RVMotorhome', 'Boat', 'HorseTrailer', 'Car', 'FifthWheel', 'Van',\n",
       "       'CanoeKayak', 'BoatTrailer', 'Motorcycle', 'Truck', 'Bus', 'Bicycle',\n",
       "       'Snowmobile', 'OffRoadlAllTerrainVehicle', 'PowerBoat', 'PickupCamper',\n",
       "       'LargeTentOver9x12', 'SmallTent', 'Marinaboat', 'LatLongPoint'],\n",
       "      dtype='object')"
      ]
     },
     "execution_count": 84,
     "metadata": {},
     "output_type": "execute_result"
    }
   ],
   "source": [
    "csv.columns"
   ]
  },
  {
   "cell_type": "code",
   "execution_count": 90,
   "metadata": {},
   "outputs": [],
   "source": [
    "# drop duplicate order numbers\n",
    "csv = csv.drop_duplicates('OrderNumber')"
   ]
  },
  {
   "cell_type": "code",
   "execution_count": 82,
   "metadata": {},
   "outputs": [],
   "source": [
    "# write cleaned data for later usage\n",
    "csv.to_csv('./nps_res_2018.csv')"
   ]
  }
 ],
 "metadata": {
  "kernelspec": {
   "display_name": "Python [conda env:dsi] *",
   "language": "python",
   "name": "conda-env-dsi-py-2"
  },
  "language_info": {
   "codemirror_mode": {
    "name": "ipython",
    "version": 3
   },
   "file_extension": ".py",
   "mimetype": "text/x-python",
   "name": "python",
   "nbconvert_exporter": "python",
   "pygments_lexer": "ipython3",
   "version": "3.7.3"
  }
 },
 "nbformat": 4,
 "nbformat_minor": 2
}
