{
 "cells": [
  {
   "cell_type": "markdown",
   "metadata": {},
   "source": [
    "# Data Formatting and EDA\n",
    "---\n",
    "This notebook breaks down the raw data taken from the Recreation Information Database. It aggregates campground reservations by date and Facility ID, the seperates the dataset into certain selected campgrounds.\n",
    "\n",
    "- [Loading the Data](#Load-and-Format-the-Data)\n",
    "- [Testing Fields](#Testing-Fields)\n",
    "- [Site Aggregation](#Site-Aggregation-For-Modeling)\n",
    "- [Combined Data EDA and Preprocessing](#Combined-Data-EDA-and-Preprocessing)\n",
    "- [Site Aggregation](#Site-Aggregation-For-Modeling)"
   ]
  },
  {
   "cell_type": "code",
   "execution_count": 2,
   "metadata": {
    "scrolled": true
   },
   "outputs": [],
   "source": [
    "import chardet\n",
    "import numpy as np\n",
    "import pandas as pd\n",
    "import datetime\n",
    "import codecs\n",
    "\n",
    "import os\n",
    "import glob\n",
    "\n",
    "import progressbar\n",
    "from time import sleep\n",
    "\n",
    "import matplotlib.pyplot as plt\n",
    "import seaborn as sns"
   ]
  },
  {
   "cell_type": "markdown",
   "metadata": {},
   "source": [
    "## Load and Format the Data\n",
    "---\n",
    "\n",
    "**NOTE:** Each raw dataset was run individually through this process, as they can take up multiple gigabytes of memory."
   ]
  },
  {
   "cell_type": "code",
   "execution_count": 3,
   "metadata": {},
   "outputs": [],
   "source": [
    "# specify filename to load for processing and aggregation\n",
    "filename = '../data/Raw-Data/reservations2014.csv'"
   ]
  },
  {
   "cell_type": "code",
   "execution_count": 4,
   "metadata": {},
   "outputs": [],
   "source": [
    "# define fucntion to find the memory usage of a pandas object\n",
    "def mem_usage(pandas_obj):\n",
    "    # check object for df\n",
    "    if isinstance(pandas_obj,pd.DataFrame):\n",
    "        usage_b = pandas_obj.memory_usage(deep=True).sum()\n",
    "    else: # we assume if not a df it's a series\n",
    "        usage_b = pandas_obj.memory_usage(deep=True)\n",
    "    usage_mb = usage_b / 1024 ** 2 # convert bytes to megabytes\n",
    "    return \"{:03.2f} MB\".format(usage_mb)"
   ]
  },
  {
   "cell_type": "code",
   "execution_count": 5,
   "metadata": {
    "scrolled": false
   },
   "outputs": [],
   "source": [
    "# attempt to load the data using various codecs\n",
    "types_of_encoding = [\"utf8\", \"cp1252\"]\n",
    "for encoding_type in types_of_encoding:\n",
    "    with codecs.open(filename, encoding = encoding_type, errors ='replace') as csvfile:\n",
    "        rez = pd.read_csv(csvfile)"
   ]
  },
  {
   "cell_type": "code",
   "execution_count": 6,
   "metadata": {},
   "outputs": [],
   "source": [
    "# function to format the imported data, drop all categories of reservations except campsites\n",
    "def nps_site_format(df):\n",
    "    # get only reservations from the National Park Service, OrdID of 128\n",
    "    df = df[df['OrgID'] == 128]\n",
    "    \n",
    "    # get only site type entities\n",
    "    df = df[df['EntityType'] == 'Site']\n",
    "    \n",
    "    # convert date columns to datetime, y-m-d\n",
    "    df['EndDate'] = pd.to_datetime(df['EndDate'], format= '%Y-%m-%d')\n",
    "    df['StartDate'] = pd.to_datetime(df['StartDate'], format= '%Y-%m-%d')\n",
    "    df['OrderDate'] = pd.to_datetime(df['OrderDate'], format= '%Y-%m-%d')\n",
    "    \n",
    "    # calculate the stay length of the reservation\n",
    "    df['StayLen'] = df['EndDate'] - df['StartDate']\n",
    "    df['StayLen'] = df['StayLen'].dt.days + 1\n",
    "    \n",
    "    # calculate the days in advance the resveration was made\n",
    "    # note: some reservations were recorded after the start date, those values are imputed as zero\n",
    "    df['BookingHorizon'] = df['StartDate'] - df['OrderDate']\n",
    "    df['BookingHorizon'] = df['BookingHorizon'].dt.days.clip(lower=0)\n",
    "    \n",
    "    # calculate the daily rate for each reservation\n",
    "    df['DailyRate'] = df['TotalBeforeTax'] / df['StayLen']\n",
    "    \n",
    "    # fill nulls in fee columns with zeroes\n",
    "    df[['UseFee', 'TranFee', 'AttrFee']] = df[['UseFee', 'TranFee', 'AttrFee']].fillna(0)\n",
    "    \n",
    "    # drop facility attribute columns\n",
    "    df = df.drop(axis = 1, columns = ['FacilityState', 'FacilityLongitude', 'FacilityLatitude', 'UseType',\n",
    "                                      'CustomerZIP', 'CustomerState', 'CustomerCountry', 'FacilityZIP', 'EntityID'])\n",
    "    \n",
    "    # drop categorical columns\n",
    "    df = df.drop(axis = 1, columns = ['Tent', 'Popup', 'Trailer', \n",
    "                              'RVMotorhome', 'Boat', 'HorseTrailer', 'Car', 'FifthWheel', \n",
    "                              'Van', 'CanoeKayak', 'BoatTrailer', 'Motorcycle', 'Truck', \n",
    "                              'Bus', 'Bicycle', 'Snowmobile', 'OffRoadlAllTerrainVehicle', \n",
    "                              'PowerBoat', 'PickupCamper', 'LargeTentOver9x12', 'SmallTent', 'Marinaboat'])\n",
    "    \n",
    "    # drop nulls in important columns\n",
    "    df = df.dropna(axis = 0, subset = ['FacilityID', 'StartDate', 'EndDate'])\n",
    "    \n",
    "    # drop duplicate order numbers\n",
    "    df = df.drop_duplicates(['OrderNumber'])\n",
    "    \n",
    "    return df"
   ]
  },
  {
   "cell_type": "code",
   "execution_count": 7,
   "metadata": {},
   "outputs": [
    {
     "data": {
      "text/plain": [
       "(2654437, 56)"
      ]
     },
     "execution_count": 7,
     "metadata": {},
     "output_type": "execute_result"
    }
   ],
   "source": [
    "# view the shape of rez\n",
    "rez.shape"
   ]
  },
  {
   "cell_type": "code",
   "execution_count": 8,
   "metadata": {
    "scrolled": false
   },
   "outputs": [],
   "source": [
    "# format imported data\n",
    "rez = nps_site_format(rez)"
   ]
  },
  {
   "cell_type": "code",
   "execution_count": 9,
   "metadata": {},
   "outputs": [
    {
     "data": {
      "text/plain": [
       "(449046, 28)"
      ]
     },
     "execution_count": 9,
     "metadata": {},
     "output_type": "execute_result"
    }
   ],
   "source": [
    "# view the shape of formated rez\n",
    "rez.shape"
   ]
  },
  {
   "cell_type": "code",
   "execution_count": 10,
   "metadata": {
    "scrolled": true
   },
   "outputs": [
    {
     "data": {
      "text/html": [
       "<div>\n",
       "<style scoped>\n",
       "    .dataframe tbody tr th:only-of-type {\n",
       "        vertical-align: middle;\n",
       "    }\n",
       "\n",
       "    .dataframe tbody tr th {\n",
       "        vertical-align: top;\n",
       "    }\n",
       "\n",
       "    .dataframe thead th {\n",
       "        text-align: right;\n",
       "    }\n",
       "</style>\n",
       "<table border=\"1\" class=\"dataframe\">\n",
       "  <thead>\n",
       "    <tr style=\"text-align: right;\">\n",
       "      <th></th>\n",
       "      <th>HistoricalReservationID</th>\n",
       "      <th>OrgID</th>\n",
       "      <th>ParentLocationID</th>\n",
       "      <th>LegacyFacilityID</th>\n",
       "      <th>ProductID</th>\n",
       "      <th>FacilityID</th>\n",
       "      <th>Tax</th>\n",
       "      <th>UseFee</th>\n",
       "      <th>TranFee</th>\n",
       "      <th>AttrFee</th>\n",
       "      <th>TotalBeforeTax</th>\n",
       "      <th>TotalPaid</th>\n",
       "      <th>NumberOfPeople</th>\n",
       "      <th>StayLen</th>\n",
       "      <th>BookingHorizon</th>\n",
       "      <th>DailyRate</th>\n",
       "    </tr>\n",
       "  </thead>\n",
       "  <tbody>\n",
       "    <tr>\n",
       "      <th>count</th>\n",
       "      <td>4.490460e+05</td>\n",
       "      <td>449046.0</td>\n",
       "      <td>449046.000000</td>\n",
       "      <td>449046.000000</td>\n",
       "      <td>449046.000000</td>\n",
       "      <td>449046.000000</td>\n",
       "      <td>449046.0</td>\n",
       "      <td>449046.000000</td>\n",
       "      <td>449046.000000</td>\n",
       "      <td>449046.000000</td>\n",
       "      <td>449046.000000</td>\n",
       "      <td>449046.000000</td>\n",
       "      <td>449046.000000</td>\n",
       "      <td>449046.000000</td>\n",
       "      <td>449046.000000</td>\n",
       "      <td>449046.000000</td>\n",
       "    </tr>\n",
       "    <tr>\n",
       "      <th>mean</th>\n",
       "      <td>1.630043e+09</td>\n",
       "      <td>128.0</td>\n",
       "      <td>74317.484777</td>\n",
       "      <td>74063.764583</td>\n",
       "      <td>234459.237227</td>\n",
       "      <td>233331.200523</td>\n",
       "      <td>0.0</td>\n",
       "      <td>36.819264</td>\n",
       "      <td>1.818651</td>\n",
       "      <td>0.229326</td>\n",
       "      <td>39.475188</td>\n",
       "      <td>39.476579</td>\n",
       "      <td>4.397055</td>\n",
       "      <td>3.288342</td>\n",
       "      <td>64.608332</td>\n",
       "      <td>11.828373</td>\n",
       "    </tr>\n",
       "    <tr>\n",
       "      <th>std</th>\n",
       "      <td>7.389484e+07</td>\n",
       "      <td>0.0</td>\n",
       "      <td>19.967217</td>\n",
       "      <td>8965.146544</td>\n",
       "      <td>56021.873974</td>\n",
       "      <td>2873.918314</td>\n",
       "      <td>0.0</td>\n",
       "      <td>45.423301</td>\n",
       "      <td>4.249561</td>\n",
       "      <td>3.224915</td>\n",
       "      <td>44.624556</td>\n",
       "      <td>44.625904</td>\n",
       "      <td>8.727256</td>\n",
       "      <td>1.714692</td>\n",
       "      <td>65.521091</td>\n",
       "      <td>14.207190</td>\n",
       "    </tr>\n",
       "    <tr>\n",
       "      <th>min</th>\n",
       "      <td>1.500638e+09</td>\n",
       "      <td>128.0</td>\n",
       "      <td>74266.000000</td>\n",
       "      <td>70851.000000</td>\n",
       "      <td>139983.000000</td>\n",
       "      <td>232432.000000</td>\n",
       "      <td>0.0</td>\n",
       "      <td>0.000000</td>\n",
       "      <td>0.000000</td>\n",
       "      <td>0.000000</td>\n",
       "      <td>0.000000</td>\n",
       "      <td>0.000000</td>\n",
       "      <td>0.000000</td>\n",
       "      <td>1.000000</td>\n",
       "      <td>0.000000</td>\n",
       "      <td>0.000000</td>\n",
       "    </tr>\n",
       "    <tr>\n",
       "      <th>25%</th>\n",
       "      <td>1.560651e+09</td>\n",
       "      <td>128.0</td>\n",
       "      <td>74324.000000</td>\n",
       "      <td>70930.000000</td>\n",
       "      <td>203077.000000</td>\n",
       "      <td>232452.000000</td>\n",
       "      <td>0.0</td>\n",
       "      <td>18.000000</td>\n",
       "      <td>0.000000</td>\n",
       "      <td>0.000000</td>\n",
       "      <td>18.000000</td>\n",
       "      <td>18.000000</td>\n",
       "      <td>2.000000</td>\n",
       "      <td>2.000000</td>\n",
       "      <td>7.000000</td>\n",
       "      <td>7.666667</td>\n",
       "    </tr>\n",
       "    <tr>\n",
       "      <th>50%</th>\n",
       "      <td>1.629017e+09</td>\n",
       "      <td>128.0</td>\n",
       "      <td>74325.000000</td>\n",
       "      <td>70970.000000</td>\n",
       "      <td>205451.000000</td>\n",
       "      <td>232489.000000</td>\n",
       "      <td>0.0</td>\n",
       "      <td>25.000000</td>\n",
       "      <td>0.000000</td>\n",
       "      <td>0.000000</td>\n",
       "      <td>29.000000</td>\n",
       "      <td>29.000000</td>\n",
       "      <td>3.000000</td>\n",
       "      <td>3.000000</td>\n",
       "      <td>39.000000</td>\n",
       "      <td>10.000000</td>\n",
       "    </tr>\n",
       "    <tr>\n",
       "      <th>75%</th>\n",
       "      <td>1.691902e+09</td>\n",
       "      <td>128.0</td>\n",
       "      <td>74327.000000</td>\n",
       "      <td>72159.000000</td>\n",
       "      <td>281074.000000</td>\n",
       "      <td>233241.000000</td>\n",
       "      <td>0.0</td>\n",
       "      <td>45.000000</td>\n",
       "      <td>0.000000</td>\n",
       "      <td>0.000000</td>\n",
       "      <td>46.000000</td>\n",
       "      <td>46.000000</td>\n",
       "      <td>5.000000</td>\n",
       "      <td>4.000000</td>\n",
       "      <td>122.000000</td>\n",
       "      <td>13.333333</td>\n",
       "    </tr>\n",
       "    <tr>\n",
       "      <th>max</th>\n",
       "      <td>1.759446e+09</td>\n",
       "      <td>128.0</td>\n",
       "      <td>74330.000000</td>\n",
       "      <td>114702.000000</td>\n",
       "      <td>372022.000000</td>\n",
       "      <td>250796.000000</td>\n",
       "      <td>0.0</td>\n",
       "      <td>1476.000000</td>\n",
       "      <td>85.000000</td>\n",
       "      <td>168.000000</td>\n",
       "      <td>1476.000000</td>\n",
       "      <td>1476.000000</td>\n",
       "      <td>600.000000</td>\n",
       "      <td>31.000000</td>\n",
       "      <td>722.000000</td>\n",
       "      <td>770.000000</td>\n",
       "    </tr>\n",
       "  </tbody>\n",
       "</table>\n",
       "</div>"
      ],
      "text/plain": [
       "       HistoricalReservationID     OrgID  ParentLocationID  LegacyFacilityID  \\\n",
       "count             4.490460e+05  449046.0     449046.000000     449046.000000   \n",
       "mean              1.630043e+09     128.0      74317.484777      74063.764583   \n",
       "std               7.389484e+07       0.0         19.967217       8965.146544   \n",
       "min               1.500638e+09     128.0      74266.000000      70851.000000   \n",
       "25%               1.560651e+09     128.0      74324.000000      70930.000000   \n",
       "50%               1.629017e+09     128.0      74325.000000      70970.000000   \n",
       "75%               1.691902e+09     128.0      74327.000000      72159.000000   \n",
       "max               1.759446e+09     128.0      74330.000000     114702.000000   \n",
       "\n",
       "           ProductID     FacilityID       Tax         UseFee        TranFee  \\\n",
       "count  449046.000000  449046.000000  449046.0  449046.000000  449046.000000   \n",
       "mean   234459.237227  233331.200523       0.0      36.819264       1.818651   \n",
       "std     56021.873974    2873.918314       0.0      45.423301       4.249561   \n",
       "min    139983.000000  232432.000000       0.0       0.000000       0.000000   \n",
       "25%    203077.000000  232452.000000       0.0      18.000000       0.000000   \n",
       "50%    205451.000000  232489.000000       0.0      25.000000       0.000000   \n",
       "75%    281074.000000  233241.000000       0.0      45.000000       0.000000   \n",
       "max    372022.000000  250796.000000       0.0    1476.000000      85.000000   \n",
       "\n",
       "             AttrFee  TotalBeforeTax      TotalPaid  NumberOfPeople  \\\n",
       "count  449046.000000   449046.000000  449046.000000   449046.000000   \n",
       "mean        0.229326       39.475188      39.476579        4.397055   \n",
       "std         3.224915       44.624556      44.625904        8.727256   \n",
       "min         0.000000        0.000000       0.000000        0.000000   \n",
       "25%         0.000000       18.000000      18.000000        2.000000   \n",
       "50%         0.000000       29.000000      29.000000        3.000000   \n",
       "75%         0.000000       46.000000      46.000000        5.000000   \n",
       "max       168.000000     1476.000000    1476.000000      600.000000   \n",
       "\n",
       "             StayLen  BookingHorizon      DailyRate  \n",
       "count  449046.000000   449046.000000  449046.000000  \n",
       "mean        3.288342       64.608332      11.828373  \n",
       "std         1.714692       65.521091      14.207190  \n",
       "min         1.000000        0.000000       0.000000  \n",
       "25%         2.000000        7.000000       7.666667  \n",
       "50%         3.000000       39.000000      10.000000  \n",
       "75%         4.000000      122.000000      13.333333  \n",
       "max        31.000000      722.000000     770.000000  "
      ]
     },
     "execution_count": 10,
     "metadata": {},
     "output_type": "execute_result"
    }
   ],
   "source": [
    "rez.describe()"
   ]
  },
  {
   "cell_type": "code",
   "execution_count": 11,
   "metadata": {
    "scrolled": false
   },
   "outputs": [
    {
     "data": {
      "text/plain": [
       "HistoricalReservationID    0\n",
       "OrderNumber                0\n",
       "Agency                     0\n",
       "OrgID                      0\n",
       "CodeHierarchy              0\n",
       "RegionCode                 0\n",
       "RegionDescription          0\n",
       "ParentLocationID           0\n",
       "ParentLocation             0\n",
       "LegacyFacilityID           0\n",
       "Park                       0\n",
       "SiteType                   0\n",
       "ProductID                  0\n",
       "EntityType                 0\n",
       "FacilityID                 0\n",
       "Tax                        0\n",
       "UseFee                     0\n",
       "TranFee                    0\n",
       "AttrFee                    0\n",
       "TotalBeforeTax             0\n",
       "TotalPaid                  0\n",
       "StartDate                  0\n",
       "EndDate                    0\n",
       "OrderDate                  0\n",
       "NumberOfPeople             0\n",
       "StayLen                    0\n",
       "BookingHorizon             0\n",
       "DailyRate                  0\n",
       "dtype: int64"
      ]
     },
     "execution_count": 11,
     "metadata": {},
     "output_type": "execute_result"
    }
   ],
   "source": [
    "rez.isnull().sum()"
   ]
  },
  {
   "cell_type": "code",
   "execution_count": 12,
   "metadata": {
    "scrolled": false
   },
   "outputs": [
    {
     "data": {
      "text/plain": [
       "HistoricalReservationID             int64\n",
       "OrderNumber                        object\n",
       "Agency                             object\n",
       "OrgID                               int64\n",
       "CodeHierarchy                      object\n",
       "RegionCode                         object\n",
       "RegionDescription                  object\n",
       "ParentLocationID                    int64\n",
       "ParentLocation                     object\n",
       "LegacyFacilityID                    int64\n",
       "Park                               object\n",
       "SiteType                           object\n",
       "ProductID                           int64\n",
       "EntityType                         object\n",
       "FacilityID                        float64\n",
       "Tax                               float64\n",
       "UseFee                            float64\n",
       "TranFee                           float64\n",
       "AttrFee                           float64\n",
       "TotalBeforeTax                    float64\n",
       "TotalPaid                         float64\n",
       "StartDate                  datetime64[ns]\n",
       "EndDate                    datetime64[ns]\n",
       "OrderDate                  datetime64[ns]\n",
       "NumberOfPeople                      int64\n",
       "StayLen                           float64\n",
       "BookingHorizon                    float64\n",
       "DailyRate                         float64\n",
       "dtype: object"
      ]
     },
     "execution_count": 12,
     "metadata": {},
     "output_type": "execute_result"
    }
   ],
   "source": [
    "rez.dtypes"
   ]
  },
  {
   "cell_type": "code",
   "execution_count": 13,
   "metadata": {},
   "outputs": [
    {
     "name": "stdout",
     "output_type": "stream",
     "text": [
      "Average memory usage for float columns: 3.43 MB\n",
      "Average memory usage for int columns: 3.43 MB\n",
      "Average memory usage for object columns: 28.17 MB\n"
     ]
    }
   ],
   "source": [
    "# find average memory usage for each column type\n",
    "for dtype in ['float','int','object']:\n",
    "    selected_dtype = rez.select_dtypes(include=[dtype])\n",
    "    mean_usage_b = selected_dtype.memory_usage(deep=True).mean()\n",
    "    mean_usage_mb = mean_usage_b / 1024 ** 2\n",
    "    print(\"Average memory usage for {} columns: {:03.2f} MB\".format(dtype,mean_usage_mb))"
   ]
  },
  {
   "cell_type": "code",
   "execution_count": 14,
   "metadata": {
    "scrolled": true
   },
   "outputs": [
    {
     "name": "stdout",
     "output_type": "stream",
     "text": [
      "3.43 MB\n",
      "3.43 MB\n"
     ]
    },
    {
     "data": {
      "text/html": [
       "<div>\n",
       "<style scoped>\n",
       "    .dataframe tbody tr th:only-of-type {\n",
       "        vertical-align: middle;\n",
       "    }\n",
       "\n",
       "    .dataframe tbody tr th {\n",
       "        vertical-align: top;\n",
       "    }\n",
       "\n",
       "    .dataframe thead th {\n",
       "        text-align: right;\n",
       "    }\n",
       "</style>\n",
       "<table border=\"1\" class=\"dataframe\">\n",
       "  <thead>\n",
       "    <tr style=\"text-align: right;\">\n",
       "      <th></th>\n",
       "      <th>before</th>\n",
       "      <th>after</th>\n",
       "    </tr>\n",
       "  </thead>\n",
       "  <tbody>\n",
       "  </tbody>\n",
       "</table>\n",
       "</div>"
      ],
      "text/plain": [
       "Empty DataFrame\n",
       "Columns: [before, after]\n",
       "Index: []"
      ]
     },
     "execution_count": 14,
     "metadata": {},
     "output_type": "execute_result"
    }
   ],
   "source": [
    "# check memory usage for int columns\n",
    "# downcast ints\n",
    "rez_int = rez.select_dtypes(include=['int'])\n",
    "converted_int = rez_int.apply(pd.to_numeric,downcast='unsigned')\n",
    "print(mem_usage(rez_int))\n",
    "print(mem_usage(converted_int))\n",
    "compare_ints = pd.concat([rez_int.dtypes, converted_int.dtypes],axis=1)\n",
    "compare_ints.columns = ['before','after']\n",
    "compare_ints.apply(pd.Series.value_counts)"
   ]
  },
  {
   "cell_type": "code",
   "execution_count": 15,
   "metadata": {},
   "outputs": [
    {
     "name": "stdout",
     "output_type": "stream",
     "text": [
      "37.69 MB\n",
      "20.56 MB\n"
     ]
    },
    {
     "data": {
      "text/html": [
       "<div>\n",
       "<style scoped>\n",
       "    .dataframe tbody tr th:only-of-type {\n",
       "        vertical-align: middle;\n",
       "    }\n",
       "\n",
       "    .dataframe tbody tr th {\n",
       "        vertical-align: top;\n",
       "    }\n",
       "\n",
       "    .dataframe thead th {\n",
       "        text-align: right;\n",
       "    }\n",
       "</style>\n",
       "<table border=\"1\" class=\"dataframe\">\n",
       "  <thead>\n",
       "    <tr style=\"text-align: right;\">\n",
       "      <th></th>\n",
       "      <th>before</th>\n",
       "      <th>after</th>\n",
       "    </tr>\n",
       "  </thead>\n",
       "  <tbody>\n",
       "    <tr>\n",
       "      <th>float32</th>\n",
       "      <td>NaN</td>\n",
       "      <td>10.0</td>\n",
       "    </tr>\n",
       "    <tr>\n",
       "      <th>float64</th>\n",
       "      <td>10.0</td>\n",
       "      <td>NaN</td>\n",
       "    </tr>\n",
       "  </tbody>\n",
       "</table>\n",
       "</div>"
      ],
      "text/plain": [
       "         before  after\n",
       "float32     NaN   10.0\n",
       "float64    10.0    NaN"
      ]
     },
     "execution_count": 15,
     "metadata": {},
     "output_type": "execute_result"
    }
   ],
   "source": [
    "# check memory usage for float columns\n",
    "# reduce to downcast float to save memory\n",
    "rez_float = rez.select_dtypes(include=['float'])\n",
    "converted_float = rez_float.apply(pd.to_numeric,downcast='float')\n",
    "print(mem_usage(rez_float))\n",
    "print(mem_usage(converted_float))\n",
    "compare_floats = pd.concat([rez_float.dtypes,converted_float.dtypes],axis=1)\n",
    "compare_floats.columns = ['before','after']\n",
    "compare_floats.apply(pd.Series.value_counts)"
   ]
  },
  {
   "cell_type": "code",
   "execution_count": 16,
   "metadata": {},
   "outputs": [
    {
     "name": "stdout",
     "output_type": "stream",
     "text": [
      "346.79 MB\n",
      "329.66 MB\n"
     ]
    }
   ],
   "source": [
    "# check memory usage for entire dataset\n",
    "# copy to omptimized dataframe\n",
    "optimized_rez = rez.copy()\n",
    "optimized_rez[converted_int.columns] = converted_int\n",
    "optimized_rez[converted_float.columns] = converted_float\n",
    "print(mem_usage(rez))\n",
    "print(mem_usage(optimized_rez))"
   ]
  },
  {
   "cell_type": "code",
   "execution_count": 17,
   "metadata": {},
   "outputs": [],
   "source": [
    "# save \n",
    "rez.to_csv(\"../Data/Cleaned-Data/nps_res_2014.csv\", index = False)\n",
    "optimized_rez.to_csv(\"../Data/Cleaned-Data/nps_optimized_2014.csv\", index = False)"
   ]
  },
  {
   "cell_type": "code",
   "execution_count": 18,
   "metadata": {
    "scrolled": false
   },
   "outputs": [
    {
     "data": {
      "text/plain": [
       "HistoricalReservationID             int64\n",
       "OrderNumber                        object\n",
       "Agency                             object\n",
       "OrgID                               int64\n",
       "CodeHierarchy                      object\n",
       "RegionCode                         object\n",
       "RegionDescription                  object\n",
       "ParentLocationID                    int64\n",
       "ParentLocation                     object\n",
       "LegacyFacilityID                    int64\n",
       "Park                               object\n",
       "SiteType                           object\n",
       "ProductID                           int64\n",
       "EntityType                         object\n",
       "FacilityID                        float32\n",
       "Tax                               float32\n",
       "UseFee                            float32\n",
       "TranFee                           float32\n",
       "AttrFee                           float32\n",
       "TotalBeforeTax                    float32\n",
       "TotalPaid                         float32\n",
       "StartDate                  datetime64[ns]\n",
       "EndDate                    datetime64[ns]\n",
       "OrderDate                  datetime64[ns]\n",
       "NumberOfPeople                      int64\n",
       "StayLen                           float32\n",
       "BookingHorizon                    float32\n",
       "DailyRate                         float32\n",
       "dtype: object"
      ]
     },
     "execution_count": 18,
     "metadata": {},
     "output_type": "execute_result"
    }
   ],
   "source": [
    "optimized_rez.dtypes"
   ]
  },
  {
   "cell_type": "markdown",
   "metadata": {},
   "source": [
    "## Testing Fields\n",
    "---\n",
    "\n",
    "This section of the notebook is to ensure the aggregation functions wil work as expected. Aggregating the data takes a long period of time and this ensured that the data would mostly remain intact."
   ]
  },
  {
   "cell_type": "code",
   "execution_count": 22,
   "metadata": {
    "scrolled": true
   },
   "outputs": [
    {
     "name": "stdout",
     "output_type": "stream",
     "text": [
      "2014-08-04\n"
     ]
    }
   ],
   "source": [
    "# create list of dates to aggregate on\n",
    "datelist = pd.date_range(optimized_rez['StartDate'].min(), optimized_rez['EndDate'].max()).tolist()\n",
    "jan_1 = datelist[datelist.index(pd.Timestamp('2014-08-04'))]\n",
    "print(jan_1.date())\n",
    "jan_1_filter = (optimized_rez['StartDate'] <= jan_1) & (optimized_rez['EndDate'] >= jan_1)"
   ]
  },
  {
   "cell_type": "code",
   "execution_count": 23,
   "metadata": {
    "scrolled": false
   },
   "outputs": [],
   "source": [
    "# establish the groupby object\n",
    "day = optimized_rez[jan_1_filter].groupby('FacilityID').agg({'StayLen': np.mean, 'BookingHorizon': np.mean,\n",
    "                                                       'UseFee' : np.mean, 'NumberOfPeople' : np.sum, \n",
    "                                                       'DailyRate' : np.sum})"
   ]
  },
  {
   "cell_type": "code",
   "execution_count": 24,
   "metadata": {},
   "outputs": [],
   "source": [
    "# instantiate progress bar object\n",
    "widgets=[progressbar.Bar('=', '[', ']'), ' ', progressbar.Percentage(),\n",
    "               ' ', progressbar.ETA(),\n",
    "               ' ', progressbar.AdaptiveETA()]"
   ]
  },
  {
   "cell_type": "code",
   "execution_count": 25,
   "metadata": {
    "scrolled": false
   },
   "outputs": [
    {
     "name": "stderr",
     "output_type": "stream",
     "text": [
      "[============================================] 100% Time: 0:00:01 Time: 0:00:01\n"
     ]
    }
   ],
   "source": [
    "# This cell is the skeleton for the site aggregation function, used to observe values for a given day\n",
    "# before aggregating the data\n",
    "\n",
    "date_park_list = []\n",
    "test_len = optimized_rez[jan_1_filter].groupby(['Park', 'RegionDescription']).mean().shape[0]\n",
    "bar = progressbar.ProgressBar(maxval=test_len, widgets=widgets)\n",
    "\n",
    "bar.start()\n",
    "i = 0\n",
    "\n",
    "# loop through grouped days\n",
    "for index, row in optimized_rez[jan_1_filter].groupby(['Park', 'RegionDescription', 'FacilityID']).nunique().iterrows():\n",
    "    \n",
    "    # established the aggregate object for the day\n",
    "    day_group = optimized_rez[jan_1_filter].groupby('FacilityID').agg({'StayLen': np.mean, 'BookingHorizon': np.mean,\n",
    "                                                       'UseFee' : np.mean, 'NumberOfPeople' : np.sum, \n",
    "                                                       'DailyRate' : np.sum, 'ProductID': 'nunique'})\n",
    "    # assign variables from the group object\n",
    "    stay_len = day_group.loc[index[2], 'StayLen']\n",
    "    book_hor = day_group.loc[index[2], 'BookingHorizon']\n",
    "    avg_fee = day_group.loc[index[2], 'UseFee']\n",
    "    num_people = day_group.loc[index[2], 'NumberOfPeople']\n",
    "    day_revenue = day_group.loc[index[2], 'DailyRate']\n",
    "    sites_booked = day_group.loc[index[2], 'ProductID']\n",
    "    \n",
    "    \n",
    "    date_park_list.append([jan_1, index[2], index[0], index[1], row['OrderNumber'], num_people, sites_booked, stay_len, book_hor, avg_fee, day_revenue])\n",
    "    sleep(0.00001)\n",
    "    \n",
    "    i += 1\n",
    "    bar.update(i)\n",
    "bar.finish()"
   ]
  },
  {
   "cell_type": "code",
   "execution_count": 26,
   "metadata": {
    "scrolled": false
   },
   "outputs": [
    {
     "data": {
      "text/html": [
       "<div>\n",
       "<style scoped>\n",
       "    .dataframe tbody tr th:only-of-type {\n",
       "        vertical-align: middle;\n",
       "    }\n",
       "\n",
       "    .dataframe tbody tr th {\n",
       "        vertical-align: top;\n",
       "    }\n",
       "\n",
       "    .dataframe thead th {\n",
       "        text-align: right;\n",
       "    }\n",
       "</style>\n",
       "<table border=\"1\" class=\"dataframe\">\n",
       "  <thead>\n",
       "    <tr style=\"text-align: right;\">\n",
       "      <th></th>\n",
       "      <th>Date</th>\n",
       "      <th>FacilityID</th>\n",
       "      <th>Site</th>\n",
       "      <th>Park</th>\n",
       "      <th>Reservations</th>\n",
       "      <th>NumberOfPeople</th>\n",
       "      <th>SitesBooked</th>\n",
       "      <th>AvgStayLen</th>\n",
       "      <th>AvgBookingHorizon</th>\n",
       "      <th>AverageFee</th>\n",
       "      <th>DailyRevenue</th>\n",
       "    </tr>\n",
       "  </thead>\n",
       "  <tbody>\n",
       "    <tr>\n",
       "      <th>0</th>\n",
       "      <td>2014-08-04</td>\n",
       "      <td>234046.0</td>\n",
       "      <td>ALLEY SPRING</td>\n",
       "      <td>Ozark National Scenic Riverways</td>\n",
       "      <td>29</td>\n",
       "      <td>167</td>\n",
       "      <td>24</td>\n",
       "      <td>4.827586</td>\n",
       "      <td>101.000000</td>\n",
       "      <td>73.931038</td>\n",
       "      <td>450.206329</td>\n",
       "    </tr>\n",
       "    <tr>\n",
       "      <th>1</th>\n",
       "      <td>2014-08-04</td>\n",
       "      <td>232502.0</td>\n",
       "      <td>ANACAPA ISLAND</td>\n",
       "      <td>Channel Islands National Park</td>\n",
       "      <td>2</td>\n",
       "      <td>10</td>\n",
       "      <td>2</td>\n",
       "      <td>3.000000</td>\n",
       "      <td>14.000000</td>\n",
       "      <td>3.750000</td>\n",
       "      <td>6.250000</td>\n",
       "    </tr>\n",
       "    <tr>\n",
       "      <th>2</th>\n",
       "      <td>2014-08-04</td>\n",
       "      <td>234669.0</td>\n",
       "      <td>APGAR GROUP SITES</td>\n",
       "      <td>Glacier National Park</td>\n",
       "      <td>4</td>\n",
       "      <td>36</td>\n",
       "      <td>4</td>\n",
       "      <td>6.000000</td>\n",
       "      <td>116.000000</td>\n",
       "      <td>251.750000</td>\n",
       "      <td>138.360382</td>\n",
       "    </tr>\n",
       "    <tr>\n",
       "      <th>3</th>\n",
       "      <td>2014-08-04</td>\n",
       "      <td>233187.0</td>\n",
       "      <td>ASPENGLEN CAMPGROUND</td>\n",
       "      <td>Rocky Mountain National Park</td>\n",
       "      <td>103</td>\n",
       "      <td>328</td>\n",
       "      <td>53</td>\n",
       "      <td>3.291262</td>\n",
       "      <td>73.864075</td>\n",
       "      <td>31.553398</td>\n",
       "      <td>1069.464233</td>\n",
       "    </tr>\n",
       "    <tr>\n",
       "      <th>4</th>\n",
       "      <td>2014-08-04</td>\n",
       "      <td>232507.0</td>\n",
       "      <td>ASSATEAGUE ISLAND NATIONAL SEASHORE</td>\n",
       "      <td>Assateague Island National Seashore</td>\n",
       "      <td>269</td>\n",
       "      <td>1128</td>\n",
       "      <td>147</td>\n",
       "      <td>4.635688</td>\n",
       "      <td>101.539032</td>\n",
       "      <td>65.167290</td>\n",
       "      <td>3761.864990</td>\n",
       "    </tr>\n",
       "  </tbody>\n",
       "</table>\n",
       "</div>"
      ],
      "text/plain": [
       "        Date  FacilityID                                 Site  \\\n",
       "0 2014-08-04    234046.0                         ALLEY SPRING   \n",
       "1 2014-08-04    232502.0                       ANACAPA ISLAND   \n",
       "2 2014-08-04    234669.0                    APGAR GROUP SITES   \n",
       "3 2014-08-04    233187.0                 ASPENGLEN CAMPGROUND   \n",
       "4 2014-08-04    232507.0  ASSATEAGUE ISLAND NATIONAL SEASHORE   \n",
       "\n",
       "                                  Park  Reservations  NumberOfPeople  \\\n",
       "0      Ozark National Scenic Riverways            29             167   \n",
       "1        Channel Islands National Park             2              10   \n",
       "2                Glacier National Park             4              36   \n",
       "3         Rocky Mountain National Park           103             328   \n",
       "4  Assateague Island National Seashore           269            1128   \n",
       "\n",
       "   SitesBooked  AvgStayLen  AvgBookingHorizon  AverageFee  DailyRevenue  \n",
       "0           24    4.827586         101.000000   73.931038    450.206329  \n",
       "1            2    3.000000          14.000000    3.750000      6.250000  \n",
       "2            4    6.000000         116.000000  251.750000    138.360382  \n",
       "3           53    3.291262          73.864075   31.553398   1069.464233  \n",
       "4          147    4.635688         101.539032   65.167290   3761.864990  "
      ]
     },
     "execution_count": 26,
     "metadata": {},
     "output_type": "execute_result"
    }
   ],
   "source": [
    "rez_test = pd.DataFrame(date_park_list, columns = ['Date', 'FacilityID', 'Site', \n",
    "                                        'Park', 'Reservations', 'NumberOfPeople', 'SitesBooked',\n",
    "                                        'AvgStayLen', 'AvgBookingHorizon', 'AverageFee', 'DailyRevenue'])\n",
    "\n",
    "rez_test.head()"
   ]
  },
  {
   "cell_type": "code",
   "execution_count": 27,
   "metadata": {
    "scrolled": true
   },
   "outputs": [
    {
     "data": {
      "text/html": [
       "<div>\n",
       "<style scoped>\n",
       "    .dataframe tbody tr th:only-of-type {\n",
       "        vertical-align: middle;\n",
       "    }\n",
       "\n",
       "    .dataframe tbody tr th {\n",
       "        vertical-align: top;\n",
       "    }\n",
       "\n",
       "    .dataframe thead th {\n",
       "        text-align: right;\n",
       "    }\n",
       "</style>\n",
       "<table border=\"1\" class=\"dataframe\">\n",
       "  <thead>\n",
       "    <tr style=\"text-align: right;\">\n",
       "      <th></th>\n",
       "      <th>Date</th>\n",
       "      <th>FacilityID</th>\n",
       "      <th>Site</th>\n",
       "      <th>Park</th>\n",
       "      <th>Reservations</th>\n",
       "      <th>NumberOfPeople</th>\n",
       "      <th>SitesBooked</th>\n",
       "      <th>AvgStayLen</th>\n",
       "      <th>AvgBookingHorizon</th>\n",
       "      <th>AverageFee</th>\n",
       "      <th>DailyRevenue</th>\n",
       "    </tr>\n",
       "  </thead>\n",
       "  <tbody>\n",
       "    <tr>\n",
       "      <th>74</th>\n",
       "      <td>2014-08-04</td>\n",
       "      <td>232490.0</td>\n",
       "      <td>MATHER CAMPGROUND</td>\n",
       "      <td>Grand Canyon National Park</td>\n",
       "      <td>589</td>\n",
       "      <td>2303</td>\n",
       "      <td>322</td>\n",
       "      <td>2.993209</td>\n",
       "      <td>74.728355</td>\n",
       "      <td>29.625637</td>\n",
       "      <td>6152.484375</td>\n",
       "    </tr>\n",
       "  </tbody>\n",
       "</table>\n",
       "</div>"
      ],
      "text/plain": [
       "         Date  FacilityID               Site                        Park  \\\n",
       "74 2014-08-04    232490.0  MATHER CAMPGROUND  Grand Canyon National Park   \n",
       "\n",
       "    Reservations  NumberOfPeople  SitesBooked  AvgStayLen  AvgBookingHorizon  \\\n",
       "74           589            2303          322    2.993209          74.728355   \n",
       "\n",
       "    AverageFee  DailyRevenue  \n",
       "74   29.625637   6152.484375  "
      ]
     },
     "execution_count": 27,
     "metadata": {},
     "output_type": "execute_result"
    }
   ],
   "source": [
    "rez_test[rez_test['FacilityID'] == 232490]"
   ]
  },
  {
   "cell_type": "markdown",
   "metadata": {},
   "source": [
    "## Site Aggregation for Modeling\n",
    "---"
   ]
  },
  {
   "cell_type": "code",
   "execution_count": 28,
   "metadata": {},
   "outputs": [],
   "source": [
    "# new function for aggregating the data by campsite and date\n",
    "def nps_site_aggregator(df):\n",
    "    \n",
    "    # establish list for each site's daily stats\n",
    "    site_list = []\n",
    "    \n",
    "    # create list of days to run through\n",
    "    datelist = pd.date_range(df['StartDate'].min(), df['EndDate'].max()).tolist()\n",
    "    \n",
    "    # create progress bar object\n",
    "    widgets=[progressbar.Bar('=', '[', ']'), ' ', progressbar.Percentage(),\n",
    "               ' ', progressbar.ETA(),\n",
    "               ' ', progressbar.AdaptiveETA()]\n",
    "    \n",
    "    bar = progressbar.ProgressBar(maxval=len(datelist), widgets=widgets)\n",
    "    \n",
    "    bar.start()\n",
    "    count = 0\n",
    "    \n",
    "    # cycle through all days\n",
    "    for date in datelist:\n",
    "        \n",
    "        #create a mask to find only reservations that inlcude the specified date\n",
    "        date_mask = (df['StartDate'] <= date) & (df['EndDate'] >= date)\n",
    "        \n",
    "        # cycle through all resvervations, as grouped by the site and the park\n",
    "        for index, row in df[date_mask].groupby(['Park', 'RegionDescription', 'FacilityID']).nunique().iterrows():\n",
    "            \n",
    "            # group the filtered dataframe by unique site ID, aggregate the columns appropriately\n",
    "            day_group = df[date_mask].groupby('FacilityID').agg({'StayLen': np.mean, 'BookingHorizon': np.mean,\n",
    "                                                       'UseFee' : np.mean, 'NumberOfPeople' : np.sum, \n",
    "                                                       'DailyRate' : np.sum, 'ProductID': 'nunique'})\n",
    "            # assign variables for the daily \n",
    "            stay_len = day_group.loc[index[2], 'StayLen']\n",
    "            book_hor = day_group.loc[index[2], 'BookingHorizon']\n",
    "            avg_fee = day_group.loc[index[2], 'UseFee']\n",
    "            num_people = day_group.loc[index[2], 'NumberOfPeople']\n",
    "            day_revenue = day_group.loc[index[2], 'DailyRate']\n",
    "            sites_booked = day_group.loc[index[2], 'ProductID']\n",
    "            \n",
    "            # add daily reservation information to the list\n",
    "            site_list.append([date.date(), index[2], index[0], index[1], \n",
    "                              row['OrderNumber'], num_people, sites_booked, stay_len, \n",
    "                              book_hor, avg_fee, day_revenue])\n",
    "            \n",
    "        \n",
    "        count += 1\n",
    "        bar.update(count)\n",
    "    \n",
    "    bar.finish()\n",
    "    return pd.DataFrame(site_list, columns = ['Date', 'FacilityID', 'Site', 'Park', 'Reservations', \n",
    "                                              'NumberOfPeople', 'SitesBooked', 'AvgStayLen', 'AvgBookingHorizon', \n",
    "                                              'AverageFee', 'DailyRevenue'])"
   ]
  },
  {
   "cell_type": "code",
   "execution_count": 29,
   "metadata": {
    "scrolled": false
   },
   "outputs": [
    {
     "name": "stderr",
     "output_type": "stream",
     "text": [
      "[============================================] 100% Time: 0:03:58 Time: 0:03:58\n"
     ]
    }
   ],
   "source": [
    "# run site aggregator\n",
    "# note: this may take some time depending on the size and parameters of the dataframe\n",
    "rez_agg = nps_site_aggregator(optimized_rez)"
   ]
  },
  {
   "cell_type": "code",
   "execution_count": 30,
   "metadata": {
    "scrolled": false
   },
   "outputs": [
    {
     "data": {
      "text/plain": [
       "array(['Yosemite National Park', 'Big South Fork National River',\n",
       "       'Zion National Park', 'Great Smoky Mountains National Park',\n",
       "       'Grand Canyon National Park', 'Point Reyes National Seashore',\n",
       "       'Shenandoah National Park', 'Joshua Tree National Park',\n",
       "       'Acadia National Park', 'Gulf Islands National Seashore',\n",
       "       'Pinnacles National Park', 'Blue Ridge Parkway',\n",
       "       'Big Bend National Park', 'Headquarters - Arches National Park',\n",
       "       'Big Cypress National Preserve', 'Prince William Forest Park',\n",
       "       'Chickasaw National Recreation Area',\n",
       "       'Gateway National Recreation Area', 'Catoctin Mountain Park',\n",
       "       'Cape Hatteras National Seashore', 'Channel Islands National Park',\n",
       "       'Fort Hunt Park', 'Cape Lookout National Seashore',\n",
       "       'Buffalo National River', 'Colorado National Monument',\n",
       "       'Golden Gate National Recreation Area',\n",
       "       'Death Valley National Park',\n",
       "       'Headquarters - Mammoth Cave National Park',\n",
       "       'Catoctin National Park', 'Assateague Island National Seashore',\n",
       "       'Cuyahoga Valley National Park',\n",
       "       'Santa Monica Mountains National Recreation Area',\n",
       "       'Everglades National Park', 'Bandelier National Monument',\n",
       "       'Chaco Culture National Historic Park', 'Fort Washington Park',\n",
       "       'Great Sand Dunes National Park', 'National Mall & Memorial Parks',\n",
       "       'Ozark National Scenic Riverways',\n",
       "       'Whiskeytown National Recreation Area',\n",
       "       'Dinosaur National Monument',\n",
       "       'Lake Roosevelt National Recreation Area',\n",
       "       'Sequoia and Kings Canyon National Park',\n",
       "       'Sleeping Bear Dunes National Lakeshore', 'Rock Creek Park',\n",
       "       'Bryce Canyon National Park', 'George Washington Birthplace',\n",
       "       'Black Canyon National Park', 'Curecanti National Recreation Area',\n",
       "       'Rocky Mountain National Park', 'Greenbelt Park',\n",
       "       'Lassen Volcanic National Park', 'Glacier National Park',\n",
       "       'North Cascades National Park', 'Fort Dupont Park ',\n",
       "       'Voyageurs National Park', 'Cedar Breaks National Monument',\n",
       "       'Mount Rainier National Park', 'Olympic National Park'],\n",
       "      dtype=object)"
      ]
     },
     "execution_count": 30,
     "metadata": {},
     "output_type": "execute_result"
    }
   ],
   "source": [
    "rez_agg['Park'].unique()"
   ]
  },
  {
   "cell_type": "code",
   "execution_count": 31,
   "metadata": {},
   "outputs": [
    {
     "name": "stdout",
     "output_type": "stream",
     "text": [
      "8.25 MB\n"
     ]
    }
   ],
   "source": [
    "rez_agg.to_csv(\"../data/Aggregated-Data/nps_agg_2014.csv\", index = False)\n",
    "print(mem_usage(rez_agg))"
   ]
  },
  {
   "cell_type": "code",
   "execution_count": 32,
   "metadata": {
    "scrolled": true
   },
   "outputs": [
    {
     "data": {
      "text/plain": [
       "Date                  object\n",
       "FacilityID           float64\n",
       "Site                  object\n",
       "Park                  object\n",
       "Reservations           int64\n",
       "NumberOfPeople         int64\n",
       "SitesBooked            int64\n",
       "AvgStayLen           float64\n",
       "AvgBookingHorizon    float64\n",
       "AverageFee           float64\n",
       "DailyRevenue         float64\n",
       "dtype: object"
      ]
     },
     "execution_count": 32,
     "metadata": {},
     "output_type": "execute_result"
    }
   ],
   "source": [
    "rez_agg.dtypes"
   ]
  },
  {
   "cell_type": "markdown",
   "metadata": {},
   "source": [
    "## Combined Data EDA and Preprocessing\n",
    "---\n",
    "\n",
    "Combining the aggregated data, I was left with 198,042 entries representing daily data for each site. This section seperates the data by site for indivual modeling. I also look at the attributes of all campsites.\n",
    "\n",
    "The selected campsites are Big Meadows in Shenandoah National Park, Mather Campground in Grand Canyon National Park, Moraine Park in Rocky Mountain National Park, Elkmont Campground in Great Smoky Mountain National Park, and Upper Pines Campground in Yosemite National Park. Other individual campsites were extracted for brief evaluation, but were utlimately not selected for a myriad of reasons."
   ]
  },
  {
   "cell_type": "code",
   "execution_count": 33,
   "metadata": {
    "scrolled": false
   },
   "outputs": [],
   "source": [
    "# set directory to collect aggregated csv files\n",
    "os.chdir(\"../data/Aggregated-Data\")"
   ]
  },
  {
   "cell_type": "code",
   "execution_count": 34,
   "metadata": {},
   "outputs": [
    {
     "name": "stdout",
     "output_type": "stream",
     "text": [
      "['nps_agg_2014.csv', 'nps_agg_2015.csv', 'nps_agg_2016.csv', 'nps_agg_2017.csv', 'nps_agg_2018.csv']\n"
     ]
    }
   ],
   "source": [
    "# get filenames of csv files in the aggregated data folder\n",
    "extension = 'csv'\n",
    "\n",
    "# create list of filenames\n",
    "all_filenames = [i for i in glob.glob('*.{}'.format(extension))]\n",
    "print(all_filenames)"
   ]
  },
  {
   "cell_type": "code",
   "execution_count": 35,
   "metadata": {},
   "outputs": [],
   "source": [
    "#combine all files in the list\n",
    "combined_rez = pd.concat([pd.read_csv(f, parse_dates = True) for f in all_filenames ])\n",
    "combined_rez['Date'] = pd.to_datetime(combined_rez['Date'], format= '%Y-%m-%d')"
   ]
  },
  {
   "cell_type": "code",
   "execution_count": 36,
   "metadata": {
    "scrolled": true
   },
   "outputs": [
    {
     "data": {
      "text/plain": [
       "'C:\\\\Users\\\\templ\\\\Documents\\\\DSI\\\\Projects\\\\NPS-Campsite-Capstone'"
      ]
     },
     "execution_count": 36,
     "metadata": {},
     "output_type": "execute_result"
    }
   ],
   "source": [
    "# change directory back to repository base\n",
    "os.chdir(\"../..\")\n",
    "os.getcwd()"
   ]
  },
  {
   "cell_type": "code",
   "execution_count": 37,
   "metadata": {
    "scrolled": true
   },
   "outputs": [],
   "source": [
    "#export to csv\n",
    "combined_rez.to_csv( \"./data/nps_combined_agg.csv\", index=False, encoding='utf-8-sig')"
   ]
  },
  {
   "cell_type": "code",
   "execution_count": 38,
   "metadata": {},
   "outputs": [
    {
     "ename": "FileNotFoundError",
     "evalue": "[Errno 2] File b'../data/nps_combined_agg.csv' does not exist: b'../data/nps_combined_agg.csv'",
     "output_type": "error",
     "traceback": [
      "\u001b[1;31m---------------------------------------------------------------------------\u001b[0m",
      "\u001b[1;31mFileNotFoundError\u001b[0m                         Traceback (most recent call last)",
      "\u001b[1;32m<ipython-input-38-1bcbc5aac6ff>\u001b[0m in \u001b[0;36m<module>\u001b[1;34m\u001b[0m\n\u001b[0;32m      1\u001b[0m \u001b[1;31m# load aggregated dataframe\u001b[0m\u001b[1;33m\u001b[0m\u001b[1;33m\u001b[0m\u001b[1;33m\u001b[0m\u001b[0m\n\u001b[1;32m----> 2\u001b[1;33m \u001b[0mcombined_rez\u001b[0m \u001b[1;33m=\u001b[0m \u001b[0mpd\u001b[0m\u001b[1;33m.\u001b[0m\u001b[0mread_csv\u001b[0m\u001b[1;33m(\u001b[0m\u001b[1;34m'../data/nps_combined_agg.csv'\u001b[0m\u001b[1;33m)\u001b[0m\u001b[1;33m\u001b[0m\u001b[1;33m\u001b[0m\u001b[0m\n\u001b[0m",
      "\u001b[1;32m~\\Anaconda3\\envs\\dsi\\lib\\site-packages\\pandas\\io\\parsers.py\u001b[0m in \u001b[0;36mparser_f\u001b[1;34m(filepath_or_buffer, sep, delimiter, header, names, index_col, usecols, squeeze, prefix, mangle_dupe_cols, dtype, engine, converters, true_values, false_values, skipinitialspace, skiprows, skipfooter, nrows, na_values, keep_default_na, na_filter, verbose, skip_blank_lines, parse_dates, infer_datetime_format, keep_date_col, date_parser, dayfirst, iterator, chunksize, compression, thousands, decimal, lineterminator, quotechar, quoting, doublequote, escapechar, comment, encoding, dialect, tupleize_cols, error_bad_lines, warn_bad_lines, delim_whitespace, low_memory, memory_map, float_precision)\u001b[0m\n\u001b[0;32m    700\u001b[0m                     skip_blank_lines=skip_blank_lines)\n\u001b[0;32m    701\u001b[0m \u001b[1;33m\u001b[0m\u001b[0m\n\u001b[1;32m--> 702\u001b[1;33m         \u001b[1;32mreturn\u001b[0m \u001b[0m_read\u001b[0m\u001b[1;33m(\u001b[0m\u001b[0mfilepath_or_buffer\u001b[0m\u001b[1;33m,\u001b[0m \u001b[0mkwds\u001b[0m\u001b[1;33m)\u001b[0m\u001b[1;33m\u001b[0m\u001b[1;33m\u001b[0m\u001b[0m\n\u001b[0m\u001b[0;32m    703\u001b[0m \u001b[1;33m\u001b[0m\u001b[0m\n\u001b[0;32m    704\u001b[0m     \u001b[0mparser_f\u001b[0m\u001b[1;33m.\u001b[0m\u001b[0m__name__\u001b[0m \u001b[1;33m=\u001b[0m \u001b[0mname\u001b[0m\u001b[1;33m\u001b[0m\u001b[1;33m\u001b[0m\u001b[0m\n",
      "\u001b[1;32m~\\Anaconda3\\envs\\dsi\\lib\\site-packages\\pandas\\io\\parsers.py\u001b[0m in \u001b[0;36m_read\u001b[1;34m(filepath_or_buffer, kwds)\u001b[0m\n\u001b[0;32m    427\u001b[0m \u001b[1;33m\u001b[0m\u001b[0m\n\u001b[0;32m    428\u001b[0m     \u001b[1;31m# Create the parser.\u001b[0m\u001b[1;33m\u001b[0m\u001b[1;33m\u001b[0m\u001b[1;33m\u001b[0m\u001b[0m\n\u001b[1;32m--> 429\u001b[1;33m     \u001b[0mparser\u001b[0m \u001b[1;33m=\u001b[0m \u001b[0mTextFileReader\u001b[0m\u001b[1;33m(\u001b[0m\u001b[0mfilepath_or_buffer\u001b[0m\u001b[1;33m,\u001b[0m \u001b[1;33m**\u001b[0m\u001b[0mkwds\u001b[0m\u001b[1;33m)\u001b[0m\u001b[1;33m\u001b[0m\u001b[1;33m\u001b[0m\u001b[0m\n\u001b[0m\u001b[0;32m    430\u001b[0m \u001b[1;33m\u001b[0m\u001b[0m\n\u001b[0;32m    431\u001b[0m     \u001b[1;32mif\u001b[0m \u001b[0mchunksize\u001b[0m \u001b[1;32mor\u001b[0m \u001b[0miterator\u001b[0m\u001b[1;33m:\u001b[0m\u001b[1;33m\u001b[0m\u001b[1;33m\u001b[0m\u001b[0m\n",
      "\u001b[1;32m~\\Anaconda3\\envs\\dsi\\lib\\site-packages\\pandas\\io\\parsers.py\u001b[0m in \u001b[0;36m__init__\u001b[1;34m(self, f, engine, **kwds)\u001b[0m\n\u001b[0;32m    893\u001b[0m             \u001b[0mself\u001b[0m\u001b[1;33m.\u001b[0m\u001b[0moptions\u001b[0m\u001b[1;33m[\u001b[0m\u001b[1;34m'has_index_names'\u001b[0m\u001b[1;33m]\u001b[0m \u001b[1;33m=\u001b[0m \u001b[0mkwds\u001b[0m\u001b[1;33m[\u001b[0m\u001b[1;34m'has_index_names'\u001b[0m\u001b[1;33m]\u001b[0m\u001b[1;33m\u001b[0m\u001b[1;33m\u001b[0m\u001b[0m\n\u001b[0;32m    894\u001b[0m \u001b[1;33m\u001b[0m\u001b[0m\n\u001b[1;32m--> 895\u001b[1;33m         \u001b[0mself\u001b[0m\u001b[1;33m.\u001b[0m\u001b[0m_make_engine\u001b[0m\u001b[1;33m(\u001b[0m\u001b[0mself\u001b[0m\u001b[1;33m.\u001b[0m\u001b[0mengine\u001b[0m\u001b[1;33m)\u001b[0m\u001b[1;33m\u001b[0m\u001b[1;33m\u001b[0m\u001b[0m\n\u001b[0m\u001b[0;32m    896\u001b[0m \u001b[1;33m\u001b[0m\u001b[0m\n\u001b[0;32m    897\u001b[0m     \u001b[1;32mdef\u001b[0m \u001b[0mclose\u001b[0m\u001b[1;33m(\u001b[0m\u001b[0mself\u001b[0m\u001b[1;33m)\u001b[0m\u001b[1;33m:\u001b[0m\u001b[1;33m\u001b[0m\u001b[1;33m\u001b[0m\u001b[0m\n",
      "\u001b[1;32m~\\Anaconda3\\envs\\dsi\\lib\\site-packages\\pandas\\io\\parsers.py\u001b[0m in \u001b[0;36m_make_engine\u001b[1;34m(self, engine)\u001b[0m\n\u001b[0;32m   1120\u001b[0m     \u001b[1;32mdef\u001b[0m \u001b[0m_make_engine\u001b[0m\u001b[1;33m(\u001b[0m\u001b[0mself\u001b[0m\u001b[1;33m,\u001b[0m \u001b[0mengine\u001b[0m\u001b[1;33m=\u001b[0m\u001b[1;34m'c'\u001b[0m\u001b[1;33m)\u001b[0m\u001b[1;33m:\u001b[0m\u001b[1;33m\u001b[0m\u001b[1;33m\u001b[0m\u001b[0m\n\u001b[0;32m   1121\u001b[0m         \u001b[1;32mif\u001b[0m \u001b[0mengine\u001b[0m \u001b[1;33m==\u001b[0m \u001b[1;34m'c'\u001b[0m\u001b[1;33m:\u001b[0m\u001b[1;33m\u001b[0m\u001b[1;33m\u001b[0m\u001b[0m\n\u001b[1;32m-> 1122\u001b[1;33m             \u001b[0mself\u001b[0m\u001b[1;33m.\u001b[0m\u001b[0m_engine\u001b[0m \u001b[1;33m=\u001b[0m \u001b[0mCParserWrapper\u001b[0m\u001b[1;33m(\u001b[0m\u001b[0mself\u001b[0m\u001b[1;33m.\u001b[0m\u001b[0mf\u001b[0m\u001b[1;33m,\u001b[0m \u001b[1;33m**\u001b[0m\u001b[0mself\u001b[0m\u001b[1;33m.\u001b[0m\u001b[0moptions\u001b[0m\u001b[1;33m)\u001b[0m\u001b[1;33m\u001b[0m\u001b[1;33m\u001b[0m\u001b[0m\n\u001b[0m\u001b[0;32m   1123\u001b[0m         \u001b[1;32melse\u001b[0m\u001b[1;33m:\u001b[0m\u001b[1;33m\u001b[0m\u001b[1;33m\u001b[0m\u001b[0m\n\u001b[0;32m   1124\u001b[0m             \u001b[1;32mif\u001b[0m \u001b[0mengine\u001b[0m \u001b[1;33m==\u001b[0m \u001b[1;34m'python'\u001b[0m\u001b[1;33m:\u001b[0m\u001b[1;33m\u001b[0m\u001b[1;33m\u001b[0m\u001b[0m\n",
      "\u001b[1;32m~\\Anaconda3\\envs\\dsi\\lib\\site-packages\\pandas\\io\\parsers.py\u001b[0m in \u001b[0;36m__init__\u001b[1;34m(self, src, **kwds)\u001b[0m\n\u001b[0;32m   1851\u001b[0m         \u001b[0mkwds\u001b[0m\u001b[1;33m[\u001b[0m\u001b[1;34m'usecols'\u001b[0m\u001b[1;33m]\u001b[0m \u001b[1;33m=\u001b[0m \u001b[0mself\u001b[0m\u001b[1;33m.\u001b[0m\u001b[0musecols\u001b[0m\u001b[1;33m\u001b[0m\u001b[1;33m\u001b[0m\u001b[0m\n\u001b[0;32m   1852\u001b[0m \u001b[1;33m\u001b[0m\u001b[0m\n\u001b[1;32m-> 1853\u001b[1;33m         \u001b[0mself\u001b[0m\u001b[1;33m.\u001b[0m\u001b[0m_reader\u001b[0m \u001b[1;33m=\u001b[0m \u001b[0mparsers\u001b[0m\u001b[1;33m.\u001b[0m\u001b[0mTextReader\u001b[0m\u001b[1;33m(\u001b[0m\u001b[0msrc\u001b[0m\u001b[1;33m,\u001b[0m \u001b[1;33m**\u001b[0m\u001b[0mkwds\u001b[0m\u001b[1;33m)\u001b[0m\u001b[1;33m\u001b[0m\u001b[1;33m\u001b[0m\u001b[0m\n\u001b[0m\u001b[0;32m   1854\u001b[0m         \u001b[0mself\u001b[0m\u001b[1;33m.\u001b[0m\u001b[0munnamed_cols\u001b[0m \u001b[1;33m=\u001b[0m \u001b[0mself\u001b[0m\u001b[1;33m.\u001b[0m\u001b[0m_reader\u001b[0m\u001b[1;33m.\u001b[0m\u001b[0munnamed_cols\u001b[0m\u001b[1;33m\u001b[0m\u001b[1;33m\u001b[0m\u001b[0m\n\u001b[0;32m   1855\u001b[0m \u001b[1;33m\u001b[0m\u001b[0m\n",
      "\u001b[1;32mpandas/_libs/parsers.pyx\u001b[0m in \u001b[0;36mpandas._libs.parsers.TextReader.__cinit__\u001b[1;34m()\u001b[0m\n",
      "\u001b[1;32mpandas/_libs/parsers.pyx\u001b[0m in \u001b[0;36mpandas._libs.parsers.TextReader._setup_parser_source\u001b[1;34m()\u001b[0m\n",
      "\u001b[1;31mFileNotFoundError\u001b[0m: [Errno 2] File b'../data/nps_combined_agg.csv' does not exist: b'../data/nps_combined_agg.csv'"
     ]
    }
   ],
   "source": [
    "# load aggregated dataframe\n",
    "# combined_rez = pd.read_csv('../data/nps_combined_agg.csv')"
   ]
  },
  {
   "cell_type": "code",
   "execution_count": 39,
   "metadata": {
    "scrolled": false
   },
   "outputs": [
    {
     "name": "stdout",
     "output_type": "stream",
     "text": [
      "46.52 MB\n",
      "(198042, 11)\n"
     ]
    }
   ],
   "source": [
    "# check size and shape of combined dataframe\n",
    "print(mem_usage(combined_rez))\n",
    "print(combined_rez.shape)"
   ]
  },
  {
   "cell_type": "code",
   "execution_count": 40,
   "metadata": {
    "scrolled": false
   },
   "outputs": [
    {
     "data": {
      "text/html": [
       "<div>\n",
       "<style scoped>\n",
       "    .dataframe tbody tr th:only-of-type {\n",
       "        vertical-align: middle;\n",
       "    }\n",
       "\n",
       "    .dataframe tbody tr th {\n",
       "        vertical-align: top;\n",
       "    }\n",
       "\n",
       "    .dataframe thead th {\n",
       "        text-align: right;\n",
       "    }\n",
       "</style>\n",
       "<table border=\"1\" class=\"dataframe\">\n",
       "  <thead>\n",
       "    <tr style=\"text-align: right;\">\n",
       "      <th></th>\n",
       "      <th>Date</th>\n",
       "      <th>FacilityID</th>\n",
       "      <th>Site</th>\n",
       "      <th>Park</th>\n",
       "      <th>Reservations</th>\n",
       "      <th>NumberOfPeople</th>\n",
       "      <th>SitesBooked</th>\n",
       "      <th>AvgStayLen</th>\n",
       "      <th>AvgBookingHorizon</th>\n",
       "      <th>AverageFee</th>\n",
       "      <th>DailyRevenue</th>\n",
       "    </tr>\n",
       "  </thead>\n",
       "  <tbody>\n",
       "    <tr>\n",
       "      <th>0</th>\n",
       "      <td>2013-04-30</td>\n",
       "      <td>232450.0</td>\n",
       "      <td>LOWER PINES</td>\n",
       "      <td>Yosemite National Park</td>\n",
       "      <td>1</td>\n",
       "      <td>1.0</td>\n",
       "      <td>1</td>\n",
       "      <td>2.0</td>\n",
       "      <td>0.0</td>\n",
       "      <td>10.0</td>\n",
       "      <td>5.0</td>\n",
       "    </tr>\n",
       "    <tr>\n",
       "      <th>1</th>\n",
       "      <td>2013-05-01</td>\n",
       "      <td>232450.0</td>\n",
       "      <td>LOWER PINES</td>\n",
       "      <td>Yosemite National Park</td>\n",
       "      <td>1</td>\n",
       "      <td>1.0</td>\n",
       "      <td>1</td>\n",
       "      <td>2.0</td>\n",
       "      <td>0.0</td>\n",
       "      <td>10.0</td>\n",
       "      <td>5.0</td>\n",
       "    </tr>\n",
       "    <tr>\n",
       "      <th>2</th>\n",
       "      <td>2013-09-30</td>\n",
       "      <td>232506.0</td>\n",
       "      <td>BANDY CREEK</td>\n",
       "      <td>Big South Fork National River</td>\n",
       "      <td>1</td>\n",
       "      <td>2.0</td>\n",
       "      <td>1</td>\n",
       "      <td>2.0</td>\n",
       "      <td>0.0</td>\n",
       "      <td>22.0</td>\n",
       "      <td>11.0</td>\n",
       "    </tr>\n",
       "    <tr>\n",
       "      <th>3</th>\n",
       "      <td>2013-10-01</td>\n",
       "      <td>232506.0</td>\n",
       "      <td>BANDY CREEK</td>\n",
       "      <td>Big South Fork National River</td>\n",
       "      <td>2</td>\n",
       "      <td>4.0</td>\n",
       "      <td>1</td>\n",
       "      <td>2.0</td>\n",
       "      <td>0.0</td>\n",
       "      <td>11.0</td>\n",
       "      <td>11.0</td>\n",
       "    </tr>\n",
       "    <tr>\n",
       "      <th>4</th>\n",
       "      <td>2013-10-01</td>\n",
       "      <td>232445.0</td>\n",
       "      <td>WATCHMAN CAMPGROUND</td>\n",
       "      <td>Zion National Park</td>\n",
       "      <td>1</td>\n",
       "      <td>2.0</td>\n",
       "      <td>1</td>\n",
       "      <td>2.0</td>\n",
       "      <td>0.0</td>\n",
       "      <td>18.0</td>\n",
       "      <td>9.0</td>\n",
       "    </tr>\n",
       "  </tbody>\n",
       "</table>\n",
       "</div>"
      ],
      "text/plain": [
       "        Date  FacilityID                 Site                           Park  \\\n",
       "0 2013-04-30    232450.0          LOWER PINES         Yosemite National Park   \n",
       "1 2013-05-01    232450.0          LOWER PINES         Yosemite National Park   \n",
       "2 2013-09-30    232506.0          BANDY CREEK  Big South Fork National River   \n",
       "3 2013-10-01    232506.0          BANDY CREEK  Big South Fork National River   \n",
       "4 2013-10-01    232445.0  WATCHMAN CAMPGROUND             Zion National Park   \n",
       "\n",
       "   Reservations  NumberOfPeople  SitesBooked  AvgStayLen  AvgBookingHorizon  \\\n",
       "0             1             1.0            1         2.0                0.0   \n",
       "1             1             1.0            1         2.0                0.0   \n",
       "2             1             2.0            1         2.0                0.0   \n",
       "3             2             4.0            1         2.0                0.0   \n",
       "4             1             2.0            1         2.0                0.0   \n",
       "\n",
       "   AverageFee  DailyRevenue  \n",
       "0        10.0           5.0  \n",
       "1        10.0           5.0  \n",
       "2        22.0          11.0  \n",
       "3        11.0          11.0  \n",
       "4        18.0           9.0  "
      ]
     },
     "execution_count": 40,
     "metadata": {},
     "output_type": "execute_result"
    }
   ],
   "source": [
    "combined_rez.head()"
   ]
  },
  {
   "cell_type": "code",
   "execution_count": 41,
   "metadata": {},
   "outputs": [],
   "source": [
    "datelist = pd.date_range(combined_rez['Date'].min(), combined_rez['Date'].max()).tolist()"
   ]
  },
  {
   "cell_type": "code",
   "execution_count": 42,
   "metadata": {},
   "outputs": [
    {
     "data": {
      "text/html": [
       "<div>\n",
       "<style scoped>\n",
       "    .dataframe tbody tr th:only-of-type {\n",
       "        vertical-align: middle;\n",
       "    }\n",
       "\n",
       "    .dataframe tbody tr th {\n",
       "        vertical-align: top;\n",
       "    }\n",
       "\n",
       "    .dataframe thead th {\n",
       "        text-align: right;\n",
       "    }\n",
       "</style>\n",
       "<table border=\"1\" class=\"dataframe\">\n",
       "  <thead>\n",
       "    <tr style=\"text-align: right;\">\n",
       "      <th></th>\n",
       "      <th>Date</th>\n",
       "      <th>FacilityID</th>\n",
       "      <th>Site</th>\n",
       "      <th>Park</th>\n",
       "      <th>Reservations</th>\n",
       "      <th>NumberOfPeople</th>\n",
       "      <th>SitesBooked</th>\n",
       "      <th>AvgStayLen</th>\n",
       "      <th>AvgBookingHorizon</th>\n",
       "      <th>AverageFee</th>\n",
       "      <th>DailyRevenue</th>\n",
       "    </tr>\n",
       "  </thead>\n",
       "  <tbody>\n",
       "    <tr>\n",
       "      <th>38559</th>\n",
       "      <td>2017-07-04</td>\n",
       "      <td>232490.0</td>\n",
       "      <td>MATHER CAMPGROUND</td>\n",
       "      <td>Grand Canyon National Park</td>\n",
       "      <td>9</td>\n",
       "      <td>204.0</td>\n",
       "      <td>7</td>\n",
       "      <td>2.777778</td>\n",
       "      <td>346.111115</td>\n",
       "      <td>55.555557</td>\n",
       "      <td>193.333328</td>\n",
       "    </tr>\n",
       "    <tr>\n",
       "      <th>18231</th>\n",
       "      <td>2017-07-04</td>\n",
       "      <td>232490.0</td>\n",
       "      <td>MATHER CAMPGROUND</td>\n",
       "      <td>Grand Canyon National Park</td>\n",
       "      <td>616</td>\n",
       "      <td>2303.0</td>\n",
       "      <td>322</td>\n",
       "      <td>3.206169</td>\n",
       "      <td>92.582794</td>\n",
       "      <td>29.098215</td>\n",
       "      <td>6130.534668</td>\n",
       "    </tr>\n",
       "  </tbody>\n",
       "</table>\n",
       "</div>"
      ],
      "text/plain": [
       "            Date  FacilityID               Site                        Park  \\\n",
       "38559 2017-07-04    232490.0  MATHER CAMPGROUND  Grand Canyon National Park   \n",
       "18231 2017-07-04    232490.0  MATHER CAMPGROUND  Grand Canyon National Park   \n",
       "\n",
       "       Reservations  NumberOfPeople  SitesBooked  AvgStayLen  \\\n",
       "38559             9           204.0            7    2.777778   \n",
       "18231           616          2303.0          322    3.206169   \n",
       "\n",
       "       AvgBookingHorizon  AverageFee  DailyRevenue  \n",
       "38559         346.111115   55.555557    193.333328  \n",
       "18231          92.582794   29.098215   6130.534668  "
      ]
     },
     "execution_count": 42,
     "metadata": {},
     "output_type": "execute_result"
    }
   ],
   "source": [
    "combined_rez[(combined_rez['Date'] == '2017-07-04') & (combined_rez['FacilityID'] == 232490)]"
   ]
  },
  {
   "cell_type": "code",
   "execution_count": 43,
   "metadata": {
    "scrolled": true
   },
   "outputs": [],
   "source": [
    "# some dates have multiple reservations, as certain FY datasets contained future reservations\n",
    "# combines reservations on the same day from different FY's\n",
    "def date_agg_cleaner(df):\n",
    "    # find length of dates in dataframe\n",
    "    datelist = pd.date_range(df['Date'].min(), df['Date'].max()).tolist()\n",
    "    facilities = df['FacilityID'].unique()\n",
    "    \n",
    "    # create sums of avg columns\n",
    "    # allows computation of averages for aggreation\n",
    "    df['SumHor'] = df['Reservations'] * df['AvgBookingHorizon']\n",
    "    df['SumLen'] = df['Reservations'] * df['AvgStayLen']\n",
    "    df['SumFee'] = df['Reservations'] * df['AverageFee']\n",
    "\n",
    "    # create progress bar object\n",
    "    widgets=[progressbar.Bar('=', '[', ']'), ' ', progressbar.Percentage(),\n",
    "                   ' ', progressbar.ETA(),\n",
    "                   ' ', progressbar.AdaptiveETA()]\n",
    "\n",
    "    bar = progressbar.ProgressBar(maxval=len(datelist), widgets=widgets)\n",
    "\n",
    "    bar.start()\n",
    "    count = 0\n",
    "    \n",
    "    # loop through dates\n",
    "    for date in datelist:\n",
    "        \n",
    "        # loop through facilities\n",
    "        for facility in facilities:\n",
    "            #create a mask for facility ID and date\n",
    "            mask = (df['FacilityID'] == facility) & (df['Date'] == date)\n",
    "            \n",
    "            # find dates with more than one aggregation\n",
    "            if len(df[mask]) > 1:\n",
    "                # group data by date and facility ID\n",
    "                g = df[mask].groupby(['Date', 'FacilityID']).sum()\n",
    "                \n",
    "                # aggrgate the values appropriately\n",
    "                df.loc[mask, 'SitesBooked'] = g['SitesBooked'].values[0]\n",
    "                df.loc[mask, 'Reservations'] = g['Reservations'].values[0]\n",
    "                df.loc[mask, 'NumberOfPeople'] = g['NumberOfPeople'].values[0]\n",
    "                df.loc[mask, 'DailyRevenue'] = g['DailyRevenue'].values[0]\n",
    "                df.loc[mask, 'AvgStayLen'] = g['SumLen'].values[0] / g['Reservations'].values[0]\n",
    "                df.loc[mask, 'AvgBookingHorizon'] = g['SumHor'].values[0] / g['Reservations'].values[0]\n",
    "                df.loc[mask, 'AverageFee'] = g['SumFee'].values[0] / g['Reservations'].values[0]\n",
    "                \n",
    "        count += 1\n",
    "        bar.update(count)\n",
    "    bar.finish()\n",
    "    \n",
    "    return df"
   ]
  },
  {
   "cell_type": "code",
   "execution_count": 44,
   "metadata": {},
   "outputs": [
    {
     "name": "stderr",
     "output_type": "stream",
     "text": [
      "[============================================] 100% Time: 0:23:02 Time: 0:23:02\n"
     ]
    }
   ],
   "source": [
    "# run function\n",
    "combined_rez = date_agg_cleaner(combined_rez)"
   ]
  },
  {
   "cell_type": "code",
   "execution_count": 45,
   "metadata": {},
   "outputs": [],
   "source": [
    "#export to csv\n",
    "combined_rez.to_csv( \"./data/nps_combined_final.csv\", index=False, encoding='utf-8-sig')"
   ]
  },
  {
   "cell_type": "code",
   "execution_count": 46,
   "metadata": {
    "scrolled": true
   },
   "outputs": [
    {
     "data": {
      "text/html": [
       "<div>\n",
       "<style scoped>\n",
       "    .dataframe tbody tr th:only-of-type {\n",
       "        vertical-align: middle;\n",
       "    }\n",
       "\n",
       "    .dataframe tbody tr th {\n",
       "        vertical-align: top;\n",
       "    }\n",
       "\n",
       "    .dataframe thead th {\n",
       "        text-align: right;\n",
       "    }\n",
       "</style>\n",
       "<table border=\"1\" class=\"dataframe\">\n",
       "  <thead>\n",
       "    <tr style=\"text-align: right;\">\n",
       "      <th></th>\n",
       "      <th>Date</th>\n",
       "      <th>FacilityID</th>\n",
       "      <th>Site</th>\n",
       "      <th>Park</th>\n",
       "      <th>Reservations</th>\n",
       "      <th>NumberOfPeople</th>\n",
       "      <th>SitesBooked</th>\n",
       "      <th>AvgStayLen</th>\n",
       "      <th>AvgBookingHorizon</th>\n",
       "      <th>AverageFee</th>\n",
       "      <th>DailyRevenue</th>\n",
       "      <th>SumHor</th>\n",
       "      <th>SumLen</th>\n",
       "      <th>SumFee</th>\n",
       "    </tr>\n",
       "  </thead>\n",
       "  <tbody>\n",
       "    <tr>\n",
       "      <th>38559</th>\n",
       "      <td>2017-07-04</td>\n",
       "      <td>232490.0</td>\n",
       "      <td>MATHER CAMPGROUND</td>\n",
       "      <td>Grand Canyon National Park</td>\n",
       "      <td>625</td>\n",
       "      <td>2507.0</td>\n",
       "      <td>329</td>\n",
       "      <td>3.2</td>\n",
       "      <td>96.233602</td>\n",
       "      <td>29.479201</td>\n",
       "      <td>6323.867996</td>\n",
       "      <td>3115.000031</td>\n",
       "      <td>24.999999</td>\n",
       "      <td>500.000015</td>\n",
       "    </tr>\n",
       "    <tr>\n",
       "      <th>18231</th>\n",
       "      <td>2017-07-04</td>\n",
       "      <td>232490.0</td>\n",
       "      <td>MATHER CAMPGROUND</td>\n",
       "      <td>Grand Canyon National Park</td>\n",
       "      <td>625</td>\n",
       "      <td>2507.0</td>\n",
       "      <td>329</td>\n",
       "      <td>3.2</td>\n",
       "      <td>96.233602</td>\n",
       "      <td>29.479201</td>\n",
       "      <td>6323.867996</td>\n",
       "      <td>57031.001221</td>\n",
       "      <td>1975.000036</td>\n",
       "      <td>17924.500504</td>\n",
       "    </tr>\n",
       "  </tbody>\n",
       "</table>\n",
       "</div>"
      ],
      "text/plain": [
       "            Date  FacilityID               Site                        Park  \\\n",
       "38559 2017-07-04    232490.0  MATHER CAMPGROUND  Grand Canyon National Park   \n",
       "18231 2017-07-04    232490.0  MATHER CAMPGROUND  Grand Canyon National Park   \n",
       "\n",
       "       Reservations  NumberOfPeople  SitesBooked  AvgStayLen  \\\n",
       "38559           625          2507.0          329         3.2   \n",
       "18231           625          2507.0          329         3.2   \n",
       "\n",
       "       AvgBookingHorizon  AverageFee  DailyRevenue        SumHor       SumLen  \\\n",
       "38559          96.233602   29.479201   6323.867996   3115.000031    24.999999   \n",
       "18231          96.233602   29.479201   6323.867996  57031.001221  1975.000036   \n",
       "\n",
       "             SumFee  \n",
       "38559    500.000015  \n",
       "18231  17924.500504  "
      ]
     },
     "execution_count": 46,
     "metadata": {},
     "output_type": "execute_result"
    }
   ],
   "source": [
    "# check data with confirme source at Mather\n",
    "mather_mask = (combined_rez['FacilityID'] == 232490) & (combined_rez['Date'] == '2017-07-04')\n",
    "combined_rez[mather_mask]"
   ]
  },
  {
   "cell_type": "code",
   "execution_count": 47,
   "metadata": {},
   "outputs": [],
   "source": [
    "# load in campsite data collected from RIDB\n",
    "site_data = pd.read_csv('./data/nps_site_names.csv')"
   ]
  },
  {
   "cell_type": "code",
   "execution_count": 48,
   "metadata": {
    "scrolled": true
   },
   "outputs": [],
   "source": [
    "# load in backup of the combined dataset if necessary\n",
    "combined_rez = pd.read_csv('./data/nps_combined_final.csv')"
   ]
  },
  {
   "cell_type": "code",
   "execution_count": 49,
   "metadata": {
    "scrolled": false
   },
   "outputs": [
    {
     "data": {
      "text/html": [
       "<div>\n",
       "<style scoped>\n",
       "    .dataframe tbody tr th:only-of-type {\n",
       "        vertical-align: middle;\n",
       "    }\n",
       "\n",
       "    .dataframe tbody tr th {\n",
       "        vertical-align: top;\n",
       "    }\n",
       "\n",
       "    .dataframe thead th {\n",
       "        text-align: right;\n",
       "    }\n",
       "</style>\n",
       "<table border=\"1\" class=\"dataframe\">\n",
       "  <thead>\n",
       "    <tr style=\"text-align: right;\">\n",
       "      <th></th>\n",
       "      <th>FacilityID</th>\n",
       "      <th>Site</th>\n",
       "      <th>NumberOfSites</th>\n",
       "      <th>Lat</th>\n",
       "      <th>Long</th>\n",
       "    </tr>\n",
       "  </thead>\n",
       "  <tbody>\n",
       "    <tr>\n",
       "      <th>0</th>\n",
       "      <td>232432.0</td>\n",
       "      <td>Mathews Arm Campground (VA)</td>\n",
       "      <td>166.0</td>\n",
       "      <td>38.766364</td>\n",
       "      <td>-78.298291</td>\n",
       "    </tr>\n",
       "    <tr>\n",
       "      <th>1</th>\n",
       "      <td>232433.0</td>\n",
       "      <td>Loft Mountain Campground (VA)</td>\n",
       "      <td>207.0</td>\n",
       "      <td>38.248272</td>\n",
       "      <td>-78.673641</td>\n",
       "    </tr>\n",
       "    <tr>\n",
       "      <th>2</th>\n",
       "      <td>232434.0</td>\n",
       "      <td>Cataloochee Group Camp (NC)</td>\n",
       "      <td>3.0</td>\n",
       "      <td>35.651130</td>\n",
       "      <td>-83.074725</td>\n",
       "    </tr>\n",
       "    <tr>\n",
       "      <th>3</th>\n",
       "      <td>232435.0</td>\n",
       "      <td>Deep Creek Picnic Pavilion (NC)</td>\n",
       "      <td>2.0</td>\n",
       "      <td>35.460488</td>\n",
       "      <td>-83.438662</td>\n",
       "    </tr>\n",
       "    <tr>\n",
       "      <th>4</th>\n",
       "      <td>232436.0</td>\n",
       "      <td>Elkmont Group Camp (TN)</td>\n",
       "      <td>4.0</td>\n",
       "      <td>35.659981</td>\n",
       "      <td>-83.586604</td>\n",
       "    </tr>\n",
       "  </tbody>\n",
       "</table>\n",
       "</div>"
      ],
      "text/plain": [
       "   FacilityID                             Site  NumberOfSites        Lat  \\\n",
       "0    232432.0      Mathews Arm Campground (VA)          166.0  38.766364   \n",
       "1    232433.0    Loft Mountain Campground (VA)          207.0  38.248272   \n",
       "2    232434.0      Cataloochee Group Camp (NC)            3.0  35.651130   \n",
       "3    232435.0  Deep Creek Picnic Pavilion (NC)            2.0  35.460488   \n",
       "4    232436.0          Elkmont Group Camp (TN)            4.0  35.659981   \n",
       "\n",
       "        Long  \n",
       "0 -78.298291  \n",
       "1 -78.673641  \n",
       "2 -83.074725  \n",
       "3 -83.438662  \n",
       "4 -83.586604  "
      ]
     },
     "execution_count": 49,
     "metadata": {},
     "output_type": "execute_result"
    }
   ],
   "source": [
    "site_data.head()"
   ]
  },
  {
   "cell_type": "code",
   "execution_count": 50,
   "metadata": {},
   "outputs": [],
   "source": [
    "# function to append additional campsite data to aggregated df\n",
    "def site_data_format(df, sites):\n",
    "    \n",
    "    # default value of sites available set to 1\n",
    "    df['SitesAvailable'] = 1\n",
    "    \n",
    "    # loop through the site info df\n",
    "    # assign uninform site name and find the number of campsites at each facility\n",
    "    for index, row in sites.iterrows():\n",
    "        if row['FacilityID'] in df['FacilityID'].values:\n",
    "            df.loc[df['FacilityID'] == row['FacilityID'], 'Site'] = row['Site']\n",
    "            df.loc[df['FacilityID'] == row['FacilityID'], 'SitesAvailable'] = row['NumberOfSites']\n",
    "    \n",
    "    # replace zeroes with 1s\n",
    "    df['SitesAvailable'] = df['SitesAvailable'].replace(0, 1)\n",
    "    \n",
    "    # calculate percent booked for each day/site\n",
    "    df['PercentBooked'] = df['SitesBooked'] / df['SitesAvailable']\n",
    "    \n",
    "    # update sites available to the sites not used\n",
    "    df['SitesAvailable'] = df['SitesAvailable'] - df['SitesBooked']\n",
    "    \n",
    "    # percent booked percentages over 100% are scaled down to 100%\n",
    "    df.loc[df['PercentBooked'] > 1.0, 'PercentBooked'] = 1.0\n",
    "           \n",
    "    return df"
   ]
  },
  {
   "cell_type": "code",
   "execution_count": 51,
   "metadata": {
    "scrolled": true
   },
   "outputs": [],
   "source": [
    "# run function on aggregate dataframe\n",
    "combined_rez = site_data_format(combined_rez, site_data)"
   ]
  },
  {
   "cell_type": "code",
   "execution_count": 52,
   "metadata": {
    "scrolled": true
   },
   "outputs": [],
   "source": [
    "# remove '\\n' from site names\n",
    "# may be redundant with site name creation notebook\n",
    "combined_rez['Site'].replace(regex=True, inplace=True, to_replace=r'\\\\\\n', value=r'')"
   ]
  },
  {
   "cell_type": "code",
   "execution_count": 53,
   "metadata": {
    "scrolled": true
   },
   "outputs": [
    {
     "data": {
      "text/plain": [
       "dtype('O')"
      ]
     },
     "execution_count": 53,
     "metadata": {},
     "output_type": "execute_result"
    }
   ],
   "source": [
    "combined_rez['Date'].dtype"
   ]
  },
  {
   "cell_type": "code",
   "execution_count": 54,
   "metadata": {
    "scrolled": false
   },
   "outputs": [
    {
     "data": {
      "text/html": [
       "<div>\n",
       "<style scoped>\n",
       "    .dataframe tbody tr th:only-of-type {\n",
       "        vertical-align: middle;\n",
       "    }\n",
       "\n",
       "    .dataframe tbody tr th {\n",
       "        vertical-align: top;\n",
       "    }\n",
       "\n",
       "    .dataframe thead th {\n",
       "        text-align: right;\n",
       "    }\n",
       "</style>\n",
       "<table border=\"1\" class=\"dataframe\">\n",
       "  <thead>\n",
       "    <tr style=\"text-align: right;\">\n",
       "      <th></th>\n",
       "      <th></th>\n",
       "      <th>Reservations</th>\n",
       "      <th>NumberOfPeople</th>\n",
       "      <th>SitesBooked</th>\n",
       "      <th>AvgStayLen</th>\n",
       "      <th>AvgBookingHorizon</th>\n",
       "      <th>AverageFee</th>\n",
       "      <th>DailyRevenue</th>\n",
       "      <th>SumHor</th>\n",
       "      <th>SumLen</th>\n",
       "      <th>SumFee</th>\n",
       "      <th>SitesAvailable</th>\n",
       "      <th>PercentBooked</th>\n",
       "    </tr>\n",
       "    <tr>\n",
       "      <th>Site</th>\n",
       "      <th>FacilityID</th>\n",
       "      <th></th>\n",
       "      <th></th>\n",
       "      <th></th>\n",
       "      <th></th>\n",
       "      <th></th>\n",
       "      <th></th>\n",
       "      <th></th>\n",
       "      <th></th>\n",
       "      <th></th>\n",
       "      <th></th>\n",
       "      <th></th>\n",
       "      <th></th>\n",
       "    </tr>\n",
       "  </thead>\n",
       "  <tbody>\n",
       "    <tr>\n",
       "      <th>DUCK HARBOR CAMPGROUND</th>\n",
       "      <th>264293.0</th>\n",
       "      <td>8.448052</td>\n",
       "      <td>27.610390</td>\n",
       "      <td>4.993506</td>\n",
       "      <td>3.137172</td>\n",
       "      <td>107.276753</td>\n",
       "      <td>0.000000</td>\n",
       "      <td>101.363636</td>\n",
       "      <td>898.623377</td>\n",
       "      <td>26.305195</td>\n",
       "      <td>0.000000</td>\n",
       "      <td>0.006494</td>\n",
       "      <td>0.998701</td>\n",
       "    </tr>\n",
       "    <tr>\n",
       "      <th>Schoodic Woods Campground</th>\n",
       "      <th>251833.0</th>\n",
       "      <td>116.302483</td>\n",
       "      <td>300.033860</td>\n",
       "      <td>78.514673</td>\n",
       "      <td>5.105613</td>\n",
       "      <td>73.435598</td>\n",
       "      <td>46.751185</td>\n",
       "      <td>2011.492824</td>\n",
       "      <td>8341.609471</td>\n",
       "      <td>563.300226</td>\n",
       "      <td>5003.031609</td>\n",
       "      <td>15.485327</td>\n",
       "      <td>0.831276</td>\n",
       "    </tr>\n",
       "    <tr>\n",
       "      <th>SEAWALL CAMPGROUND (ME)</th>\n",
       "      <th>234674.0</th>\n",
       "      <td>217.855573</td>\n",
       "      <td>660.420722</td>\n",
       "      <td>153.791209</td>\n",
       "      <td>4.918416</td>\n",
       "      <td>62.079839</td>\n",
       "      <td>52.865389</td>\n",
       "      <td>3169.288795</td>\n",
       "      <td>14548.758252</td>\n",
       "      <td>1072.301411</td>\n",
       "      <td>11391.986533</td>\n",
       "      <td>50.208791</td>\n",
       "      <td>0.753794</td>\n",
       "    </tr>\n",
       "    <tr>\n",
       "      <th>Blackwoods (ME)</th>\n",
       "      <th>232508.0</th>\n",
       "      <td>283.691095</td>\n",
       "      <td>822.264378</td>\n",
       "      <td>87.577922</td>\n",
       "      <td>4.606718</td>\n",
       "      <td>54.623934</td>\n",
       "      <td>59.546462</td>\n",
       "      <td>4800.305009</td>\n",
       "      <td>18110.141018</td>\n",
       "      <td>1269.576066</td>\n",
       "      <td>16402.731916</td>\n",
       "      <td>193.422078</td>\n",
       "      <td>0.306248</td>\n",
       "    </tr>\n",
       "  </tbody>\n",
       "</table>\n",
       "</div>"
      ],
      "text/plain": [
       "                                      Reservations  NumberOfPeople  \\\n",
       "Site                      FacilityID                                 \n",
       "DUCK HARBOR CAMPGROUND    264293.0        8.448052       27.610390   \n",
       "Schoodic Woods Campground 251833.0      116.302483      300.033860   \n",
       "SEAWALL CAMPGROUND (ME)   234674.0      217.855573      660.420722   \n",
       "Blackwoods (ME)           232508.0      283.691095      822.264378   \n",
       "\n",
       "                                      SitesBooked  AvgStayLen  \\\n",
       "Site                      FacilityID                            \n",
       "DUCK HARBOR CAMPGROUND    264293.0       4.993506    3.137172   \n",
       "Schoodic Woods Campground 251833.0      78.514673    5.105613   \n",
       "SEAWALL CAMPGROUND (ME)   234674.0     153.791209    4.918416   \n",
       "Blackwoods (ME)           232508.0      87.577922    4.606718   \n",
       "\n",
       "                                      AvgBookingHorizon  AverageFee  \\\n",
       "Site                      FacilityID                                  \n",
       "DUCK HARBOR CAMPGROUND    264293.0           107.276753    0.000000   \n",
       "Schoodic Woods Campground 251833.0            73.435598   46.751185   \n",
       "SEAWALL CAMPGROUND (ME)   234674.0            62.079839   52.865389   \n",
       "Blackwoods (ME)           232508.0            54.623934   59.546462   \n",
       "\n",
       "                                      DailyRevenue        SumHor       SumLen  \\\n",
       "Site                      FacilityID                                            \n",
       "DUCK HARBOR CAMPGROUND    264293.0      101.363636    898.623377    26.305195   \n",
       "Schoodic Woods Campground 251833.0     2011.492824   8341.609471   563.300226   \n",
       "SEAWALL CAMPGROUND (ME)   234674.0     3169.288795  14548.758252  1072.301411   \n",
       "Blackwoods (ME)           232508.0     4800.305009  18110.141018  1269.576066   \n",
       "\n",
       "                                            SumFee  SitesAvailable  \\\n",
       "Site                      FacilityID                                 \n",
       "DUCK HARBOR CAMPGROUND    264293.0        0.000000        0.006494   \n",
       "Schoodic Woods Campground 251833.0     5003.031609       15.485327   \n",
       "SEAWALL CAMPGROUND (ME)   234674.0    11391.986533       50.208791   \n",
       "Blackwoods (ME)           232508.0    16402.731916      193.422078   \n",
       "\n",
       "                                      PercentBooked  \n",
       "Site                      FacilityID                 \n",
       "DUCK HARBOR CAMPGROUND    264293.0         0.998701  \n",
       "Schoodic Woods Campground 251833.0         0.831276  \n",
       "SEAWALL CAMPGROUND (ME)   234674.0         0.753794  \n",
       "Blackwoods (ME)           232508.0         0.306248  "
      ]
     },
     "execution_count": 54,
     "metadata": {},
     "output_type": "execute_result"
    }
   ],
   "source": [
    "combined_rez[combined_rez['Park'].str.contains('Acadia')].groupby(['Site', 'FacilityID']).mean().sort_values(by = 'PercentBooked', ascending = False)"
   ]
  },
  {
   "cell_type": "code",
   "execution_count": 55,
   "metadata": {
    "scrolled": false
   },
   "outputs": [
    {
     "data": {
      "text/html": [
       "<div>\n",
       "<style scoped>\n",
       "    .dataframe tbody tr th:only-of-type {\n",
       "        vertical-align: middle;\n",
       "    }\n",
       "\n",
       "    .dataframe tbody tr th {\n",
       "        vertical-align: top;\n",
       "    }\n",
       "\n",
       "    .dataframe thead th {\n",
       "        text-align: right;\n",
       "    }\n",
       "</style>\n",
       "<table border=\"1\" class=\"dataframe\">\n",
       "  <thead>\n",
       "    <tr style=\"text-align: right;\">\n",
       "      <th></th>\n",
       "      <th>Date</th>\n",
       "      <th>FacilityID</th>\n",
       "      <th>Site</th>\n",
       "      <th>Park</th>\n",
       "      <th>Reservations</th>\n",
       "      <th>NumberOfPeople</th>\n",
       "      <th>SitesBooked</th>\n",
       "      <th>AvgStayLen</th>\n",
       "      <th>AvgBookingHorizon</th>\n",
       "      <th>AverageFee</th>\n",
       "      <th>DailyRevenue</th>\n",
       "      <th>SumHor</th>\n",
       "      <th>SumLen</th>\n",
       "      <th>SumFee</th>\n",
       "      <th>SitesAvailable</th>\n",
       "      <th>PercentBooked</th>\n",
       "    </tr>\n",
       "  </thead>\n",
       "  <tbody>\n",
       "    <tr>\n",
       "      <th>8</th>\n",
       "      <td>2013-10-02</td>\n",
       "      <td>232490.0</td>\n",
       "      <td>Mather Campground (AZ)</td>\n",
       "      <td>Grand Canyon National Park</td>\n",
       "      <td>1</td>\n",
       "      <td>1.0</td>\n",
       "      <td>1</td>\n",
       "      <td>2.0</td>\n",
       "      <td>1.0</td>\n",
       "      <td>18.000000</td>\n",
       "      <td>9.0</td>\n",
       "      <td>1.0</td>\n",
       "      <td>2.0</td>\n",
       "      <td>18.000000</td>\n",
       "      <td>356.0</td>\n",
       "      <td>0.002801</td>\n",
       "    </tr>\n",
       "    <tr>\n",
       "      <th>9</th>\n",
       "      <td>2013-10-02</td>\n",
       "      <td>232447.0</td>\n",
       "      <td>Upper Pines</td>\n",
       "      <td>Yosemite National Park</td>\n",
       "      <td>3</td>\n",
       "      <td>9.0</td>\n",
       "      <td>3</td>\n",
       "      <td>2.0</td>\n",
       "      <td>1.0</td>\n",
       "      <td>13.333333</td>\n",
       "      <td>20.0</td>\n",
       "      <td>3.0</td>\n",
       "      <td>6.0</td>\n",
       "      <td>39.999999</td>\n",
       "      <td>235.0</td>\n",
       "      <td>0.012605</td>\n",
       "    </tr>\n",
       "    <tr>\n",
       "      <th>15</th>\n",
       "      <td>2013-10-03</td>\n",
       "      <td>232490.0</td>\n",
       "      <td>Mather Campground (AZ)</td>\n",
       "      <td>Grand Canyon National Park</td>\n",
       "      <td>1</td>\n",
       "      <td>1.0</td>\n",
       "      <td>1</td>\n",
       "      <td>2.0</td>\n",
       "      <td>1.0</td>\n",
       "      <td>18.000000</td>\n",
       "      <td>9.0</td>\n",
       "      <td>1.0</td>\n",
       "      <td>2.0</td>\n",
       "      <td>18.000000</td>\n",
       "      <td>356.0</td>\n",
       "      <td>0.002801</td>\n",
       "    </tr>\n",
       "    <tr>\n",
       "      <th>17</th>\n",
       "      <td>2013-10-03</td>\n",
       "      <td>232447.0</td>\n",
       "      <td>Upper Pines</td>\n",
       "      <td>Yosemite National Park</td>\n",
       "      <td>3</td>\n",
       "      <td>9.0</td>\n",
       "      <td>3</td>\n",
       "      <td>2.0</td>\n",
       "      <td>1.0</td>\n",
       "      <td>13.333333</td>\n",
       "      <td>20.0</td>\n",
       "      <td>3.0</td>\n",
       "      <td>6.0</td>\n",
       "      <td>39.999999</td>\n",
       "      <td>235.0</td>\n",
       "      <td>0.012605</td>\n",
       "    </tr>\n",
       "    <tr>\n",
       "      <th>20</th>\n",
       "      <td>2013-10-04</td>\n",
       "      <td>232459.0</td>\n",
       "      <td>Big Meadows (VA)</td>\n",
       "      <td>Shenandoah National Park</td>\n",
       "      <td>1</td>\n",
       "      <td>5.0</td>\n",
       "      <td>1</td>\n",
       "      <td>2.0</td>\n",
       "      <td>3.0</td>\n",
       "      <td>0.000000</td>\n",
       "      <td>0.0</td>\n",
       "      <td>3.0</td>\n",
       "      <td>2.0</td>\n",
       "      <td>0.000000</td>\n",
       "      <td>220.0</td>\n",
       "      <td>0.004525</td>\n",
       "    </tr>\n",
       "  </tbody>\n",
       "</table>\n",
       "</div>"
      ],
      "text/plain": [
       "          Date  FacilityID                    Site  \\\n",
       "8   2013-10-02    232490.0  Mather Campground (AZ)   \n",
       "9   2013-10-02    232447.0             Upper Pines   \n",
       "15  2013-10-03    232490.0  Mather Campground (AZ)   \n",
       "17  2013-10-03    232447.0             Upper Pines   \n",
       "20  2013-10-04    232459.0        Big Meadows (VA)   \n",
       "\n",
       "                          Park  Reservations  NumberOfPeople  SitesBooked  \\\n",
       "8   Grand Canyon National Park             1             1.0            1   \n",
       "9       Yosemite National Park             3             9.0            3   \n",
       "15  Grand Canyon National Park             1             1.0            1   \n",
       "17      Yosemite National Park             3             9.0            3   \n",
       "20    Shenandoah National Park             1             5.0            1   \n",
       "\n",
       "    AvgStayLen  AvgBookingHorizon  AverageFee  DailyRevenue  SumHor  SumLen  \\\n",
       "8          2.0                1.0   18.000000           9.0     1.0     2.0   \n",
       "9          2.0                1.0   13.333333          20.0     3.0     6.0   \n",
       "15         2.0                1.0   18.000000           9.0     1.0     2.0   \n",
       "17         2.0                1.0   13.333333          20.0     3.0     6.0   \n",
       "20         2.0                3.0    0.000000           0.0     3.0     2.0   \n",
       "\n",
       "       SumFee  SitesAvailable  PercentBooked  \n",
       "8   18.000000           356.0       0.002801  \n",
       "9   39.999999           235.0       0.012605  \n",
       "15  18.000000           356.0       0.002801  \n",
       "17  39.999999           235.0       0.012605  \n",
       "20   0.000000           220.0       0.004525  "
      ]
     },
     "execution_count": 55,
     "metadata": {},
     "output_type": "execute_result"
    }
   ],
   "source": [
    "# create list of facility IDs for target campgrounds\n",
    "cg_target_ids = [232463, 232490, 232447, 232459, 232487, 232508, 234674]\n",
    "\n",
    "# create new dataframe from targets\n",
    "cg_target = combined_rez[combined_rez['FacilityID'].isin(cg_target_ids)]\n",
    "cg_target.head()"
   ]
  },
  {
   "cell_type": "code",
   "execution_count": 56,
   "metadata": {
    "scrolled": false
   },
   "outputs": [
    {
     "data": {
      "text/html": [
       "<div>\n",
       "<style scoped>\n",
       "    .dataframe tbody tr th:only-of-type {\n",
       "        vertical-align: middle;\n",
       "    }\n",
       "\n",
       "    .dataframe tbody tr th {\n",
       "        vertical-align: top;\n",
       "    }\n",
       "\n",
       "    .dataframe thead th {\n",
       "        text-align: right;\n",
       "    }\n",
       "</style>\n",
       "<table border=\"1\" class=\"dataframe\">\n",
       "  <thead>\n",
       "    <tr style=\"text-align: right;\">\n",
       "      <th></th>\n",
       "      <th>PercentBooked</th>\n",
       "      <th>NumberOfPeople</th>\n",
       "    </tr>\n",
       "    <tr>\n",
       "      <th>Site</th>\n",
       "      <th></th>\n",
       "      <th></th>\n",
       "    </tr>\n",
       "  </thead>\n",
       "  <tbody>\n",
       "    <tr>\n",
       "      <th>DUCK HARBOR CAMPGROUND</th>\n",
       "      <td>0.998701</td>\n",
       "      <td>27.610390</td>\n",
       "    </tr>\n",
       "    <tr>\n",
       "      <th>MANY GLACIER CAMPGROUND</th>\n",
       "      <td>0.982805</td>\n",
       "      <td>225.854406</td>\n",
       "    </tr>\n",
       "    <tr>\n",
       "      <th>BICENTENNIAL CAMPGROUND</th>\n",
       "      <td>0.969466</td>\n",
       "      <td>13.240458</td>\n",
       "    </tr>\n",
       "    <tr>\n",
       "      <th>Aspenglen Campground</th>\n",
       "      <td>0.969400</td>\n",
       "      <td>279.935535</td>\n",
       "    </tr>\n",
       "    <tr>\n",
       "      <th>Buckeye Flat Campground, Sequoia National Park (72462)</th>\n",
       "      <td>0.962906</td>\n",
       "      <td>181.544892</td>\n",
       "    </tr>\n",
       "    <tr>\n",
       "      <th>Crane Flat</th>\n",
       "      <td>0.951648</td>\n",
       "      <td>958.190948</td>\n",
       "    </tr>\n",
       "    <tr>\n",
       "      <th>Kalaloch (WA)</th>\n",
       "      <td>0.949720</td>\n",
       "      <td>903.646694</td>\n",
       "    </tr>\n",
       "    <tr>\n",
       "      <th>Summit Lake North (CA)</th>\n",
       "      <td>0.948788</td>\n",
       "      <td>139.159091</td>\n",
       "    </tr>\n",
       "    <tr>\n",
       "      <th>Sentinel Campground</th>\n",
       "      <td>0.943258</td>\n",
       "      <td>457.590604</td>\n",
       "    </tr>\n",
       "    <tr>\n",
       "      <th>Dry Creek Group Campground (Whiskeytown NRA) (CA)</th>\n",
       "      <td>0.936000</td>\n",
       "      <td>87.119111</td>\n",
       "    </tr>\n",
       "    <tr>\n",
       "      <th>Juniper Lake Group (CA), Organization: NATIONAL PARK SVC/LAVO/JUNIPER LAKE GROUP (CA)</th>\n",
       "      <td>0.928694</td>\n",
       "      <td>31.360825</td>\n",
       "    </tr>\n",
       "    <tr>\n",
       "      <th>Kenai Fjords National Park Cabins</th>\n",
       "      <td>0.926573</td>\n",
       "      <td>11.685315</td>\n",
       "    </tr>\n",
       "    <tr>\n",
       "      <th>Watchman (UT)</th>\n",
       "      <td>0.925554</td>\n",
       "      <td>1078.460285</td>\n",
       "    </tr>\n",
       "    <tr>\n",
       "      <th>Kirby Cove (CA)</th>\n",
       "      <td>0.924375</td>\n",
       "      <td>73.254386</td>\n",
       "    </tr>\n",
       "    <tr>\n",
       "      <th>BIG CREEK CAMPGROUND (GREAT SMOKY MOUNTAINS NATIONAL PARK)</th>\n",
       "      <td>0.910436</td>\n",
       "      <td>49.761682</td>\n",
       "    </tr>\n",
       "    <tr>\n",
       "      <th>Summit Lake South (CA)</th>\n",
       "      <td>0.909798</td>\n",
       "      <td>133.790404</td>\n",
       "    </tr>\n",
       "    <tr>\n",
       "      <th>CATALOOCHEE CAMPGROUND (NC)</th>\n",
       "      <td>0.905974</td>\n",
       "      <td>114.147581</td>\n",
       "    </tr>\n",
       "    <tr>\n",
       "      <th>Lower Goodell Group (WA)</th>\n",
       "      <td>0.897942</td>\n",
       "      <td>57.826758</td>\n",
       "    </tr>\n",
       "    <tr>\n",
       "      <th>Moraine Park (CO)</th>\n",
       "      <td>0.888838</td>\n",
       "      <td>1183.592593</td>\n",
       "    </tr>\n",
       "    <tr>\n",
       "      <th>Lower Pines</th>\n",
       "      <td>0.888395</td>\n",
       "      <td>503.762878</td>\n",
       "    </tr>\n",
       "  </tbody>\n",
       "</table>\n",
       "</div>"
      ],
      "text/plain": [
       "                                                    PercentBooked  \\\n",
       "Site                                                                \n",
       "DUCK HARBOR CAMPGROUND                                   0.998701   \n",
       "MANY GLACIER CAMPGROUND                                  0.982805   \n",
       "BICENTENNIAL CAMPGROUND                                  0.969466   \n",
       "Aspenglen Campground                                     0.969400   \n",
       "Buckeye Flat Campground, Sequoia National Park ...       0.962906   \n",
       "Crane Flat                                               0.951648   \n",
       "Kalaloch (WA)                                            0.949720   \n",
       "Summit Lake North (CA)                                   0.948788   \n",
       "Sentinel Campground                                      0.943258   \n",
       "Dry Creek Group Campground (Whiskeytown NRA) (CA)        0.936000   \n",
       "Juniper Lake Group (CA), Organization: NATIONAL...       0.928694   \n",
       "Kenai Fjords National Park Cabins                        0.926573   \n",
       "Watchman (UT)                                            0.925554   \n",
       "Kirby Cove (CA)                                          0.924375   \n",
       "BIG CREEK CAMPGROUND (GREAT SMOKY MOUNTAINS NAT...       0.910436   \n",
       "Summit Lake South (CA)                                   0.909798   \n",
       "CATALOOCHEE CAMPGROUND (NC)                              0.905974   \n",
       "Lower Goodell Group (WA)                                 0.897942   \n",
       "Moraine Park (CO)                                        0.888838   \n",
       "Lower Pines                                              0.888395   \n",
       "\n",
       "                                                    NumberOfPeople  \n",
       "Site                                                                \n",
       "DUCK HARBOR CAMPGROUND                                   27.610390  \n",
       "MANY GLACIER CAMPGROUND                                 225.854406  \n",
       "BICENTENNIAL CAMPGROUND                                  13.240458  \n",
       "Aspenglen Campground                                    279.935535  \n",
       "Buckeye Flat Campground, Sequoia National Park ...      181.544892  \n",
       "Crane Flat                                              958.190948  \n",
       "Kalaloch (WA)                                           903.646694  \n",
       "Summit Lake North (CA)                                  139.159091  \n",
       "Sentinel Campground                                     457.590604  \n",
       "Dry Creek Group Campground (Whiskeytown NRA) (CA)        87.119111  \n",
       "Juniper Lake Group (CA), Organization: NATIONAL...       31.360825  \n",
       "Kenai Fjords National Park Cabins                        11.685315  \n",
       "Watchman (UT)                                          1078.460285  \n",
       "Kirby Cove (CA)                                          73.254386  \n",
       "BIG CREEK CAMPGROUND (GREAT SMOKY MOUNTAINS NAT...       49.761682  \n",
       "Summit Lake South (CA)                                  133.790404  \n",
       "CATALOOCHEE CAMPGROUND (NC)                             114.147581  \n",
       "Lower Goodell Group (WA)                                 57.826758  \n",
       "Moraine Park (CO)                                      1183.592593  \n",
       "Lower Pines                                             503.762878  "
      ]
     },
     "execution_count": 56,
     "metadata": {},
     "output_type": "execute_result"
    }
   ],
   "source": [
    "# look at the averge percent booked and number of people for all campgrounds\n",
    "combined_rez.groupby(['Site']).agg({'PercentBooked': np.mean, 'NumberOfPeople': np.mean}).query('PercentBooked < 1.0').sort_values(by = 'PercentBooked', ascending = False).head(20)"
   ]
  },
  {
   "cell_type": "code",
   "execution_count": 57,
   "metadata": {
    "scrolled": false
   },
   "outputs": [
    {
     "data": {
      "text/html": [
       "<div>\n",
       "<style scoped>\n",
       "    .dataframe tbody tr th:only-of-type {\n",
       "        vertical-align: middle;\n",
       "    }\n",
       "\n",
       "    .dataframe tbody tr th {\n",
       "        vertical-align: top;\n",
       "    }\n",
       "\n",
       "    .dataframe thead th {\n",
       "        text-align: right;\n",
       "    }\n",
       "</style>\n",
       "<table border=\"1\" class=\"dataframe\">\n",
       "  <thead>\n",
       "    <tr style=\"text-align: right;\">\n",
       "      <th></th>\n",
       "      <th></th>\n",
       "      <th>Reservations</th>\n",
       "      <th>NumberOfPeople</th>\n",
       "      <th>SitesBooked</th>\n",
       "      <th>AvgStayLen</th>\n",
       "      <th>AvgBookingHorizon</th>\n",
       "      <th>AverageFee</th>\n",
       "      <th>DailyRevenue</th>\n",
       "      <th>SumHor</th>\n",
       "      <th>SumLen</th>\n",
       "      <th>SumFee</th>\n",
       "      <th>SitesAvailable</th>\n",
       "      <th>PercentBooked</th>\n",
       "    </tr>\n",
       "    <tr>\n",
       "      <th>Site</th>\n",
       "      <th>FacilityID</th>\n",
       "      <th></th>\n",
       "      <th></th>\n",
       "      <th></th>\n",
       "      <th></th>\n",
       "      <th></th>\n",
       "      <th></th>\n",
       "      <th></th>\n",
       "      <th></th>\n",
       "      <th></th>\n",
       "      <th></th>\n",
       "      <th></th>\n",
       "      <th></th>\n",
       "    </tr>\n",
       "  </thead>\n",
       "  <tbody>\n",
       "    <tr>\n",
       "      <th>Moraine Park (CO)</th>\n",
       "      <th>232463.0</th>\n",
       "      <td>370.561254</td>\n",
       "      <td>1183.592593</td>\n",
       "      <td>223.898860</td>\n",
       "      <td>3.751256</td>\n",
       "      <td>88.429046</td>\n",
       "      <td>33.707146</td>\n",
       "      <td>4640.484448</td>\n",
       "      <td>33387.870335</td>\n",
       "      <td>1362.599714</td>\n",
       "      <td>12196.601855</td>\n",
       "      <td>27.101140</td>\n",
       "      <td>0.888838</td>\n",
       "    </tr>\n",
       "    <tr>\n",
       "      <th>Elkmont Campground (TN)</th>\n",
       "      <th>232487.0</th>\n",
       "      <td>283.572130</td>\n",
       "      <td>900.811580</td>\n",
       "      <td>196.776251</td>\n",
       "      <td>5.199450</td>\n",
       "      <td>78.983607</td>\n",
       "      <td>42.427790</td>\n",
       "      <td>3251.919762</td>\n",
       "      <td>20307.285579</td>\n",
       "      <td>1255.609420</td>\n",
       "      <td>10363.609266</td>\n",
       "      <td>15.223749</td>\n",
       "      <td>0.884853</td>\n",
       "    </tr>\n",
       "    <tr>\n",
       "      <th>Upper Pines</th>\n",
       "      <th>232447.0</th>\n",
       "      <td>324.932426</td>\n",
       "      <td>1263.692163</td>\n",
       "      <td>199.843735</td>\n",
       "      <td>4.015907</td>\n",
       "      <td>75.047623</td>\n",
       "      <td>34.737397</td>\n",
       "      <td>4114.084245</td>\n",
       "      <td>23593.183480</td>\n",
       "      <td>1080.700609</td>\n",
       "      <td>10248.813193</td>\n",
       "      <td>38.156265</td>\n",
       "      <td>0.787607</td>\n",
       "    </tr>\n",
       "    <tr>\n",
       "      <th>Mather Campground (AZ)</th>\n",
       "      <th>232490.0</th>\n",
       "      <td>460.534858</td>\n",
       "      <td>1634.725127</td>\n",
       "      <td>276.792302</td>\n",
       "      <td>3.194629</td>\n",
       "      <td>79.394865</td>\n",
       "      <td>20.937696</td>\n",
       "      <td>4639.572854</td>\n",
       "      <td>16161.815191</td>\n",
       "      <td>799.670298</td>\n",
       "      <td>6037.855845</td>\n",
       "      <td>80.207698</td>\n",
       "      <td>0.767030</td>\n",
       "    </tr>\n",
       "    <tr>\n",
       "      <th>SEAWALL CAMPGROUND (ME)</th>\n",
       "      <th>234674.0</th>\n",
       "      <td>217.855573</td>\n",
       "      <td>660.420722</td>\n",
       "      <td>153.791209</td>\n",
       "      <td>4.918416</td>\n",
       "      <td>62.079839</td>\n",
       "      <td>52.865389</td>\n",
       "      <td>3169.288795</td>\n",
       "      <td>14548.758252</td>\n",
       "      <td>1072.301411</td>\n",
       "      <td>11391.986533</td>\n",
       "      <td>50.208791</td>\n",
       "      <td>0.753794</td>\n",
       "    </tr>\n",
       "    <tr>\n",
       "      <th>Big Meadows (VA)</th>\n",
       "      <th>232459.0</th>\n",
       "      <td>163.348039</td>\n",
       "      <td>573.401961</td>\n",
       "      <td>127.249020</td>\n",
       "      <td>4.122045</td>\n",
       "      <td>68.059583</td>\n",
       "      <td>35.460666</td>\n",
       "      <td>1824.477456</td>\n",
       "      <td>10550.145106</td>\n",
       "      <td>578.283333</td>\n",
       "      <td>4820.617499</td>\n",
       "      <td>93.750980</td>\n",
       "      <td>0.575787</td>\n",
       "    </tr>\n",
       "    <tr>\n",
       "      <th>Blackwoods (ME)</th>\n",
       "      <th>232508.0</th>\n",
       "      <td>283.691095</td>\n",
       "      <td>822.264378</td>\n",
       "      <td>87.577922</td>\n",
       "      <td>4.606718</td>\n",
       "      <td>54.623934</td>\n",
       "      <td>59.546462</td>\n",
       "      <td>4800.305009</td>\n",
       "      <td>18110.141018</td>\n",
       "      <td>1269.576066</td>\n",
       "      <td>16402.731916</td>\n",
       "      <td>193.422078</td>\n",
       "      <td>0.306248</td>\n",
       "    </tr>\n",
       "  </tbody>\n",
       "</table>\n",
       "</div>"
      ],
      "text/plain": [
       "                                    Reservations  NumberOfPeople  SitesBooked  \\\n",
       "Site                    FacilityID                                              \n",
       "Moraine Park (CO)       232463.0      370.561254     1183.592593   223.898860   \n",
       "Elkmont Campground (TN) 232487.0      283.572130      900.811580   196.776251   \n",
       "Upper Pines             232447.0      324.932426     1263.692163   199.843735   \n",
       "Mather Campground (AZ)  232490.0      460.534858     1634.725127   276.792302   \n",
       "SEAWALL CAMPGROUND (ME) 234674.0      217.855573      660.420722   153.791209   \n",
       "Big Meadows (VA)        232459.0      163.348039      573.401961   127.249020   \n",
       "Blackwoods (ME)         232508.0      283.691095      822.264378    87.577922   \n",
       "\n",
       "                                    AvgStayLen  AvgBookingHorizon  AverageFee  \\\n",
       "Site                    FacilityID                                              \n",
       "Moraine Park (CO)       232463.0      3.751256          88.429046   33.707146   \n",
       "Elkmont Campground (TN) 232487.0      5.199450          78.983607   42.427790   \n",
       "Upper Pines             232447.0      4.015907          75.047623   34.737397   \n",
       "Mather Campground (AZ)  232490.0      3.194629          79.394865   20.937696   \n",
       "SEAWALL CAMPGROUND (ME) 234674.0      4.918416          62.079839   52.865389   \n",
       "Big Meadows (VA)        232459.0      4.122045          68.059583   35.460666   \n",
       "Blackwoods (ME)         232508.0      4.606718          54.623934   59.546462   \n",
       "\n",
       "                                    DailyRevenue        SumHor       SumLen  \\\n",
       "Site                    FacilityID                                            \n",
       "Moraine Park (CO)       232463.0     4640.484448  33387.870335  1362.599714   \n",
       "Elkmont Campground (TN) 232487.0     3251.919762  20307.285579  1255.609420   \n",
       "Upper Pines             232447.0     4114.084245  23593.183480  1080.700609   \n",
       "Mather Campground (AZ)  232490.0     4639.572854  16161.815191   799.670298   \n",
       "SEAWALL CAMPGROUND (ME) 234674.0     3169.288795  14548.758252  1072.301411   \n",
       "Big Meadows (VA)        232459.0     1824.477456  10550.145106   578.283333   \n",
       "Blackwoods (ME)         232508.0     4800.305009  18110.141018  1269.576066   \n",
       "\n",
       "                                          SumFee  SitesAvailable  \\\n",
       "Site                    FacilityID                                 \n",
       "Moraine Park (CO)       232463.0    12196.601855       27.101140   \n",
       "Elkmont Campground (TN) 232487.0    10363.609266       15.223749   \n",
       "Upper Pines             232447.0    10248.813193       38.156265   \n",
       "Mather Campground (AZ)  232490.0     6037.855845       80.207698   \n",
       "SEAWALL CAMPGROUND (ME) 234674.0    11391.986533       50.208791   \n",
       "Big Meadows (VA)        232459.0     4820.617499       93.750980   \n",
       "Blackwoods (ME)         232508.0    16402.731916      193.422078   \n",
       "\n",
       "                                    PercentBooked  \n",
       "Site                    FacilityID                 \n",
       "Moraine Park (CO)       232463.0         0.888838  \n",
       "Elkmont Campground (TN) 232487.0         0.884853  \n",
       "Upper Pines             232447.0         0.787607  \n",
       "Mather Campground (AZ)  232490.0         0.767030  \n",
       "SEAWALL CAMPGROUND (ME) 234674.0         0.753794  \n",
       "Big Meadows (VA)        232459.0         0.575787  \n",
       "Blackwoods (ME)         232508.0         0.306248  "
      ]
     },
     "execution_count": 57,
     "metadata": {},
     "output_type": "execute_result"
    }
   ],
   "source": [
    "# look at average values for target campgrounds\n",
    "cg_target.groupby(['Site', 'FacilityID']).mean().sort_values(by = 'PercentBooked', ascending = False)"
   ]
  },
  {
   "cell_type": "code",
   "execution_count": 58,
   "metadata": {
    "scrolled": true
   },
   "outputs": [],
   "source": [
    "# percent booked group\n",
    "# due to erroneous data, sites with an average percent booked of 100% are not included\n",
    "pb_group = combined_rez.groupby(['Site']).agg({'PercentBooked': np.mean}).query('PercentBooked < 1').sort_values(by = 'PercentBooked', ascending = False).head(20)"
   ]
  },
  {
   "cell_type": "code",
   "execution_count": 59,
   "metadata": {},
   "outputs": [
    {
     "data": {
      "text/plain": [
       "<BarContainer object of 20 artists>"
      ]
     },
     "execution_count": 59,
     "metadata": {},
     "output_type": "execute_result"
    },
    {
     "data": {
      "image/png": "[encoded data removed]",
      "text/plain": [
       "<Figure size 864x576 with 1 Axes>"
      ]
     },
     "metadata": {
      "needs_background": "light"
     },
     "output_type": "display_data"
    }
   ],
   "source": [
    "# plot top sites by percent booked\n",
    "plt.figure(figsize = (12, 8))\n",
    "plt.barh(pb_group.index, pb_group['PercentBooked'])"
   ]
  },
  {
   "cell_type": "code",
   "execution_count": 60,
   "metadata": {},
   "outputs": [],
   "source": [
    "# define function to plot daily campsite data\n",
    "def top_site_data(df, column, by = 'Site'):\n",
    "    \n",
    "    df_group = combined_rez.groupby([by]).agg({column: np.mean}).sort_values(by = column, ascending = False).head(20)\n",
    "    \n",
    "    plt.figure(figsize = (12, 8))\n",
    "    plt.barh(df_group.index, df_group[column])"
   ]
  },
  {
   "cell_type": "code",
   "execution_count": 61,
   "metadata": {},
   "outputs": [
    {
     "data": {
      "image/png": "[encoded data removed]",
      "text/plain": [
       "<Figure size 864x576 with 1 Axes>"
      ]
     },
     "metadata": {
      "needs_background": "light"
     },
     "output_type": "display_data"
    }
   ],
   "source": [
    "top_site_data(combined_rez, 'NumberOfPeople')"
   ]
  },
  {
   "cell_type": "code",
   "execution_count": 62,
   "metadata": {},
   "outputs": [
    {
     "data": {
      "image/png": "[encoded data removed]",
      "text/plain": [
       "<Figure size 864x576 with 1 Axes>"
      ]
     },
     "metadata": {
      "needs_background": "light"
     },
     "output_type": "display_data"
    }
   ],
   "source": [
    "top_site_data(combined_rez, 'SitesBooked')"
   ]
  },
  {
   "cell_type": "code",
   "execution_count": 63,
   "metadata": {},
   "outputs": [
    {
     "data": {
      "image/png": "[encoded data removed]",
      "text/plain": [
       "<Figure size 864x576 with 1 Axes>"
      ]
     },
     "metadata": {
      "needs_background": "light"
     },
     "output_type": "display_data"
    }
   ],
   "source": [
    "top_site_data(combined_rez, 'AvgStayLen')"
   ]
  },
  {
   "cell_type": "code",
   "execution_count": 64,
   "metadata": {
    "scrolled": false
   },
   "outputs": [
    {
     "data": {
      "image/png": "[encoded data removed]",
      "text/plain": [
       "<Figure size 864x576 with 1 Axes>"
      ]
     },
     "metadata": {
      "needs_background": "light"
     },
     "output_type": "display_data"
    }
   ],
   "source": [
    "top_site_data(combined_rez, 'AvgBookingHorizon')"
   ]
  },
  {
   "cell_type": "code",
   "execution_count": 65,
   "metadata": {
    "scrolled": true
   },
   "outputs": [
    {
     "data": {
      "text/plain": [
       "[232463, 232490, 232447, 232459, 232487, 232508, 234674]"
      ]
     },
     "execution_count": 65,
     "metadata": {},
     "output_type": "execute_result"
    }
   ],
   "source": [
    "cg_target_ids"
   ]
  },
  {
   "cell_type": "code",
   "execution_count": 66,
   "metadata": {
    "scrolled": true
   },
   "outputs": [],
   "source": [
    "# define function to aggregate sites into a new dataframe\n",
    "def site_df (df, fid, sites):\n",
    "    # filter by facility ID, find min and max dates for a a diven site\n",
    "    new_df = df[df['FacilityID'] == fid]\n",
    "    idx = pd.date_range(new_df['Date'].min(), new_df['Date'].max())\n",
    "    \n",
    "    # use the site data to get uniform facility name and park values\n",
    "    site_name = sites.loc[sites['FacilityID'] == fid]['Site'].values[0]\n",
    "    park_name = df.loc[df['FacilityID'] == fid]['Park'].values[0]\n",
    "    \n",
    "    # set datetime index, drop duplicate dates, reindex\n",
    "    new_df.index = pd.DatetimeIndex(new_df['Date'])\n",
    "    new_df = new_df[~new_df.index.duplicated(keep='first')]\n",
    "    new_df = new_df.reindex(idx, fill_value = 0)\n",
    "    \n",
    "    # establish unfiform site values\n",
    "    new_df['Site'] = site_name\n",
    "    new_df['Date'] = new_df.index\n",
    "    new_df['Park'] = park_name\n",
    "    new_df['FacilityID'] = fid\n",
    "    \n",
    "    return new_df"
   ]
  },
  {
   "cell_type": "code",
   "execution_count": 67,
   "metadata": {
    "scrolled": true
   },
   "outputs": [],
   "source": [
    "moraine = site_df(cg_target, 232463, site_data)"
   ]
  },
  {
   "cell_type": "code",
   "execution_count": 68,
   "metadata": {
    "scrolled": true
   },
   "outputs": [
    {
     "data": {
      "text/plain": [
       "<matplotlib.axes._subplots.AxesSubplot at 0x28c81a573c8>"
      ]
     },
     "execution_count": 68,
     "metadata": {},
     "output_type": "execute_result"
    },
    {
     "data": {
      "image/png": "[encoded data removed]",
      "text/plain": [
       "<Figure size 432x288 with 1 Axes>"
      ]
     },
     "metadata": {
      "needs_background": "light"
     },
     "output_type": "display_data"
    }
   ],
   "source": [
    "# look at series for moraine\n",
    "moraine['PercentBooked'].plot()"
   ]
  },
  {
   "cell_type": "code",
   "execution_count": 69,
   "metadata": {
    "scrolled": true
   },
   "outputs": [],
   "source": [
    "# plot mather series\n",
    "mather = site_df(cg_target, 232490, site_data)"
   ]
  },
  {
   "cell_type": "code",
   "execution_count": 70,
   "metadata": {
    "scrolled": true
   },
   "outputs": [
    {
     "data": {
      "text/plain": [
       "<matplotlib.axes._subplots.AxesSubplot at 0x28c8032e908>"
      ]
     },
     "execution_count": 70,
     "metadata": {},
     "output_type": "execute_result"
    },
    {
     "data": {
      "image/png": "[encoded data removed]",
      "text/plain": [
       "<Figure size 432x288 with 1 Axes>"
      ]
     },
     "metadata": {
      "needs_background": "light"
     },
     "output_type": "display_data"
    }
   ],
   "source": [
    "mather['PercentBooked'].plot()"
   ]
  },
  {
   "cell_type": "code",
   "execution_count": 71,
   "metadata": {},
   "outputs": [],
   "source": [
    "blackwoods = site_df(cg_target, 232508, site_data)"
   ]
  },
  {
   "cell_type": "code",
   "execution_count": 72,
   "metadata": {},
   "outputs": [
    {
     "data": {
      "text/plain": [
       "<matplotlib.axes._subplots.AxesSubplot at 0x28c62425f98>"
      ]
     },
     "execution_count": 72,
     "metadata": {},
     "output_type": "execute_result"
    },
    {
     "data": {
      "image/png": "[encoded data removed]",
      "text/plain": [
       "<Figure size 432x288 with 1 Axes>"
      ]
     },
     "metadata": {
      "needs_background": "light"
     },
     "output_type": "display_data"
    }
   ],
   "source": [
    "# plot blackwoods series\n",
    "blackwoods['PercentBooked'].plot()"
   ]
  },
  {
   "cell_type": "code",
   "execution_count": 73,
   "metadata": {},
   "outputs": [],
   "source": [
    "upper_pines = site_df(cg_target, 232447, site_data)"
   ]
  },
  {
   "cell_type": "code",
   "execution_count": 74,
   "metadata": {
    "scrolled": false
   },
   "outputs": [
    {
     "data": {
      "text/plain": [
       "<matplotlib.axes._subplots.AxesSubplot at 0x28c82a6cc50>"
      ]
     },
     "execution_count": 74,
     "metadata": {},
     "output_type": "execute_result"
    },
    {
     "data": {
      "image/png": "[encoded data removed]",
      "text/plain": [
       "<Figure size 432x288 with 1 Axes>"
      ]
     },
     "metadata": {
      "needs_background": "light"
     },
     "output_type": "display_data"
    }
   ],
   "source": [
    "# plot upper pines series\n",
    "upper_pines['PercentBooked'].plot()"
   ]
  },
  {
   "cell_type": "code",
   "execution_count": 75,
   "metadata": {},
   "outputs": [],
   "source": [
    "big_meadow = site_df(cg_target, 232459, site_data)"
   ]
  },
  {
   "cell_type": "code",
   "execution_count": 76,
   "metadata": {
    "scrolled": true
   },
   "outputs": [
    {
     "data": {
      "text/plain": [
       "<matplotlib.axes._subplots.AxesSubplot at 0x28c83c535c0>"
      ]
     },
     "execution_count": 76,
     "metadata": {},
     "output_type": "execute_result"
    },
    {
     "data": {
      "image/png": "[encoded data removed]",
      "text/plain": [
       "<Figure size 432x288 with 1 Axes>"
      ]
     },
     "metadata": {
      "needs_background": "light"
     },
     "output_type": "display_data"
    }
   ],
   "source": [
    "# plot big meadow series\n",
    "big_meadow['PercentBooked'].plot()"
   ]
  },
  {
   "cell_type": "code",
   "execution_count": 77,
   "metadata": {},
   "outputs": [],
   "source": [
    "elkmont = site_df(cg_target, 232487, site_data)"
   ]
  },
  {
   "cell_type": "code",
   "execution_count": 78,
   "metadata": {
    "scrolled": true
   },
   "outputs": [
    {
     "data": {
      "text/plain": [
       "<matplotlib.axes._subplots.AxesSubplot at 0x28c85e055f8>"
      ]
     },
     "execution_count": 78,
     "metadata": {},
     "output_type": "execute_result"
    },
    {
     "data": {
      "image/png": "[encoded data removed]",
      "text/plain": [
       "<Figure size 432x288 with 1 Axes>"
      ]
     },
     "metadata": {
      "needs_background": "light"
     },
     "output_type": "display_data"
    }
   ],
   "source": [
    "# plot elkmont series\n",
    "elkmont['PercentBooked'].plot()"
   ]
  },
  {
   "cell_type": "code",
   "execution_count": 79,
   "metadata": {},
   "outputs": [],
   "source": [
    "seawall = site_df(cg_target, 234674, site_data)"
   ]
  },
  {
   "cell_type": "code",
   "execution_count": 80,
   "metadata": {
    "scrolled": true
   },
   "outputs": [
    {
     "data": {
      "text/plain": [
       "<matplotlib.axes._subplots.AxesSubplot at 0x28c88e03630>"
      ]
     },
     "execution_count": 80,
     "metadata": {},
     "output_type": "execute_result"
    },
    {
     "data": {
      "image/png": "[encoded data removed]",
      "text/plain": [
       "<Figure size 432x288 with 1 Axes>"
      ]
     },
     "metadata": {
      "needs_background": "light"
     },
     "output_type": "display_data"
    }
   ],
   "source": [
    "# plot seawall series\n",
    "seawall['PercentBooked'].plot()"
   ]
  },
  {
   "cell_type": "code",
   "execution_count": 81,
   "metadata": {},
   "outputs": [],
   "source": [
    "lodgepole = site_df(combined_rez, 232461, site_data)"
   ]
  },
  {
   "cell_type": "code",
   "execution_count": 82,
   "metadata": {
    "scrolled": false
   },
   "outputs": [
    {
     "data": {
      "text/plain": [
       "<matplotlib.axes._subplots.AxesSubplot at 0x28c838aaac8>"
      ]
     },
     "execution_count": 82,
     "metadata": {},
     "output_type": "execute_result"
    },
    {
     "data": {
      "image/png": "[encoded data removed]",
      "text/plain": [
       "<Figure size 432x288 with 1 Axes>"
      ]
     },
     "metadata": {
      "needs_background": "light"
     },
     "output_type": "display_data"
    }
   ],
   "source": [
    "# plot lodgepole series\n",
    "lodgepole['PercentBooked'].plot()"
   ]
  },
  {
   "cell_type": "code",
   "execution_count": 83,
   "metadata": {},
   "outputs": [],
   "source": [
    "#export to csv\n",
    "moraine.to_csv( \"./data/Site-Data/moraine_agg.csv\", index = False, encoding='utf-8-sig')\n",
    "mather.to_csv( \"./data/Site-Data/mather_agg.csv\", index = False, encoding='utf-8-sig')\n",
    "big_meadow.to_csv( \"./data/Site-Data/bigmeadow_agg.csv\", index = False, encoding='utf-8-sig')\n",
    "upper_pines.to_csv( \"./data/Site-Data/upperpines_agg.csv\", index = False, encoding='utf-8-sig')\n",
    "blackwoods.to_csv( \"./data/Site-Data/blackwoods_agg.csv\", index = False, encoding='utf-8-sig')\n",
    "elkmont.to_csv( \"./data/Site-Data/elkmont_agg.csv\", index = False, encoding='utf-8-sig')\n",
    "seawall.to_csv( \"./data/Site-Data/seawall_agg.csv\", index = False, encoding='utf-8-sig')\n",
    "lodgepole.to_csv( \"./data/Site-Data/lodgepole_agg.csv\", index = False, encoding='utf-8-sig')"
   ]
  },
  {
   "cell_type": "code",
   "execution_count": null,
   "metadata": {},
   "outputs": [],
   "source": []
  }
 ],
 "metadata": {
  "kernelspec": {
   "display_name": "Python [conda env:dsi] *",
   "language": "python",
   "name": "conda-env-dsi-py"
  },
  "language_info": {
   "codemirror_mode": {
    "name": "ipython",
    "version": 3
   },
   "file_extension": ".py",
   "mimetype": "text/x-python",
   "name": "python",
   "nbconvert_exporter": "python",
   "pygments_lexer": "ipython3",
   "version": "3.7.3"
  }
 },
 "nbformat": 4,
 "nbformat_minor": 2
}
