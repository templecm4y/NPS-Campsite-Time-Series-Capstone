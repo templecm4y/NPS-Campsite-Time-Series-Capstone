{
 "cells": [
  {
   "cell_type": "code",
   "execution_count": 1,
   "metadata": {
    "scrolled": false
   },
   "outputs": [],
   "source": [
    "import chardet\n",
    "import numpy as np\n",
    "import pandas as pd\n",
    "import codecs"
   ]
  },
  {
   "cell_type": "code",
   "execution_count": 2,
   "metadata": {
    "scrolled": true
   },
   "outputs": [],
   "source": [
    "filename = '../Data/RIDB_Export/Campsites_API_v1.csv'"
   ]
  },
  {
   "cell_type": "code",
   "execution_count": 3,
   "metadata": {
    "scrolled": false
   },
   "outputs": [],
   "source": [
    "# attempt to load the data using various codecs\n",
    "types_of_encoding = [\"utf8\", \"cp1252\"]\n",
    "for encoding_type in types_of_encoding:\n",
    "    with codecs.open(filename, encoding = encoding_type, errors ='replace') as csvfile:\n",
    "        sites = pd.read_csv(csvfile)"
   ]
  },
  {
   "cell_type": "code",
   "execution_count": 4,
   "metadata": {},
   "outputs": [
    {
     "data": {
      "text/plain": [
       "(97441, 11)"
      ]
     },
     "execution_count": 4,
     "metadata": {},
     "output_type": "execute_result"
    }
   ],
   "source": [
    "sites.shape"
   ]
  },
  {
   "cell_type": "code",
   "execution_count": 5,
   "metadata": {},
   "outputs": [
    {
     "data": {
      "text/plain": [
       "Index(['CampsiteID', 'FacilityID', 'CampsiteName', 'CampsiteType', 'TypeOfUse',\n",
       "       'Loop', 'CampsiteAccessible', 'CampsiteLongitude', 'CampsiteLatitude',\n",
       "       'CreatedDate', 'LastUpdatedDate'],\n",
       "      dtype='object')"
      ]
     },
     "execution_count": 5,
     "metadata": {},
     "output_type": "execute_result"
    }
   ],
   "source": [
    "sites.columns"
   ]
  },
  {
   "cell_type": "code",
   "execution_count": 6,
   "metadata": {},
   "outputs": [],
   "source": [
    "site_group = sites.groupby('FacilityID').agg({'CampsiteID':'nunique', 'CampsiteLongitude': 'min', 'CampsiteLatitude': 'max'})"
   ]
  },
  {
   "cell_type": "code",
   "execution_count": 7,
   "metadata": {},
   "outputs": [],
   "source": [
    "site_group.rename(columns={'CampsiteID':'NumberOfSites', 'CampsiteLatitude':'Lat', 'CampsiteLongitude':'Long'}, inplace=True)"
   ]
  },
  {
   "cell_type": "code",
   "execution_count": 8,
   "metadata": {},
   "outputs": [],
   "source": [
    "site_names = pd.read_csv('../data/nps_site_names.csv')"
   ]
  },
  {
   "cell_type": "code",
   "execution_count": 9,
   "metadata": {
    "scrolled": false
   },
   "outputs": [
    {
     "data": {
      "text/plain": [
       "(241, 5)"
      ]
     },
     "execution_count": 9,
     "metadata": {},
     "output_type": "execute_result"
    }
   ],
   "source": [
    "site_names.shape"
   ]
  },
  {
   "cell_type": "code",
   "execution_count": 10,
   "metadata": {},
   "outputs": [],
   "source": [
    "counts = []\n",
    "lat = []\n",
    "long = []\n",
    "for site in site_names.iterrows():\n",
    "    if site[1]['FacilityID'] in site_group.index:\n",
    "        counts.append(site_group.loc[site[1]['FacilityID']]['NumberOfSites'])\n",
    "        lat.append(site_group.loc[site[1]['FacilityID']]['Lat'])\n",
    "        long.append(site_group.loc[site[1]['FacilityID']]['Long'])\n",
    "    else:\n",
    "        counts.append(0)\n",
    "        lat.append(np.nan)\n",
    "        long.append(np.nan)\n",
    "site_names['NumberOfSites'] = counts\n",
    "site_names['Lat'] = lat\n",
    "site_names['Long'] = long"
   ]
  },
  {
   "cell_type": "code",
   "execution_count": 11,
   "metadata": {},
   "outputs": [],
   "source": [
    "site_names['Site'].replace(regex=True, inplace=True, to_replace=r'\\\\\\n', value=r'')"
   ]
  },
  {
   "cell_type": "code",
   "execution_count": 12,
   "metadata": {
    "scrolled": true
   },
   "outputs": [
    {
     "data": {
      "text/html": [
       "<div>\n",
       "<style scoped>\n",
       "    .dataframe tbody tr th:only-of-type {\n",
       "        vertical-align: middle;\n",
       "    }\n",
       "\n",
       "    .dataframe tbody tr th {\n",
       "        vertical-align: top;\n",
       "    }\n",
       "\n",
       "    .dataframe thead th {\n",
       "        text-align: right;\n",
       "    }\n",
       "</style>\n",
       "<table border=\"1\" class=\"dataframe\">\n",
       "  <thead>\n",
       "    <tr style=\"text-align: right;\">\n",
       "      <th></th>\n",
       "      <th>FacilityID</th>\n",
       "      <th>Site</th>\n",
       "      <th>NumberOfSites</th>\n",
       "      <th>Lat</th>\n",
       "      <th>Long</th>\n",
       "    </tr>\n",
       "  </thead>\n",
       "  <tbody>\n",
       "    <tr>\n",
       "      <th>0</th>\n",
       "      <td>232432.0</td>\n",
       "      <td>Mathews Arm Campground (VA)</td>\n",
       "      <td>166.0</td>\n",
       "      <td>38.766364</td>\n",
       "      <td>-78.298291</td>\n",
       "    </tr>\n",
       "    <tr>\n",
       "      <th>1</th>\n",
       "      <td>232433.0</td>\n",
       "      <td>Loft Mountain Campground (VA)</td>\n",
       "      <td>207.0</td>\n",
       "      <td>38.248272</td>\n",
       "      <td>-78.673641</td>\n",
       "    </tr>\n",
       "    <tr>\n",
       "      <th>2</th>\n",
       "      <td>232434.0</td>\n",
       "      <td>Cataloochee Group Camp (NC)</td>\n",
       "      <td>3.0</td>\n",
       "      <td>35.651130</td>\n",
       "      <td>-83.074725</td>\n",
       "    </tr>\n",
       "    <tr>\n",
       "      <th>3</th>\n",
       "      <td>232435.0</td>\n",
       "      <td>Deep Creek Picnic Pavilion (NC)</td>\n",
       "      <td>2.0</td>\n",
       "      <td>35.460488</td>\n",
       "      <td>-83.438662</td>\n",
       "    </tr>\n",
       "    <tr>\n",
       "      <th>4</th>\n",
       "      <td>232436.0</td>\n",
       "      <td>Elkmont Group Camp (TN)</td>\n",
       "      <td>4.0</td>\n",
       "      <td>35.659981</td>\n",
       "      <td>-83.586604</td>\n",
       "    </tr>\n",
       "  </tbody>\n",
       "</table>\n",
       "</div>"
      ],
      "text/plain": [
       "   FacilityID                             Site  NumberOfSites        Lat  \\\n",
       "0    232432.0      Mathews Arm Campground (VA)          166.0  38.766364   \n",
       "1    232433.0    Loft Mountain Campground (VA)          207.0  38.248272   \n",
       "2    232434.0      Cataloochee Group Camp (NC)            3.0  35.651130   \n",
       "3    232435.0  Deep Creek Picnic Pavilion (NC)            2.0  35.460488   \n",
       "4    232436.0          Elkmont Group Camp (TN)            4.0  35.659981   \n",
       "\n",
       "        Long  \n",
       "0 -78.298291  \n",
       "1 -78.673641  \n",
       "2 -83.074725  \n",
       "3 -83.438662  \n",
       "4 -83.586604  "
      ]
     },
     "execution_count": 12,
     "metadata": {},
     "output_type": "execute_result"
    }
   ],
   "source": [
    "site_names.head()"
   ]
  },
  {
   "cell_type": "code",
   "execution_count": 13,
   "metadata": {},
   "outputs": [],
   "source": [
    "site_group.to_csv(\"../data/nps_site_data.csv\")\n",
    "site_names.to_csv(\"../data/nps_site_names.csv\", index = False)"
   ]
  }
 ],
 "metadata": {
  "kernelspec": {
   "display_name": "Python [conda env:dsi]",
   "language": "python",
   "name": "conda-env-dsi-py"
  },
  "language_info": {
   "codemirror_mode": {
    "name": "ipython",
    "version": 3
   },
   "file_extension": ".py",
   "mimetype": "text/x-python",
   "name": "python",
   "nbconvert_exporter": "python",
   "pygments_lexer": "ipython3",
   "version": "3.7.3"
  }
 },
 "nbformat": 4,
 "nbformat_minor": 2
}
